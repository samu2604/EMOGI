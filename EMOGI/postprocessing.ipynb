{
 "cells": [
  {
   "cell_type": "code",
   "execution_count": 94,
   "id": "60b77e42-d3e8-497b-ae82-cec782cb8999",
   "metadata": {},
   "outputs": [],
   "source": [
    "from postprocessing import compute_average_ROC_curve, compute_average_PR_curve, load_predictions, get_training_data\n",
    "import pandas as pd\n",
    "import os\n",
    "import numpy as np"
   ]
  },
  {
   "cell_type": "code",
   "execution_count": 95,
   "id": "25e4156b-4fb3-4a4e-ae93-d980b6b570e6",
   "metadata": {},
   "outputs": [],
   "source": [
    "model_dir = \"/home/samuele/trainend_models/emogi/2022_05_20_18_30_47_129678\"\n",
    "training_data = get_training_data(model_dir)"
   ]
  },
  {
   "cell_type": "code",
   "execution_count": 208,
   "id": "048ed536-c518-4746-8a1c-d94ced4e2291",
   "metadata": {},
   "outputs": [],
   "source": [
    "network, features, y_train, y_val, y_test, train_mask, val_mask, test_mask, node_names, feat_names = training_data"
   ]
  },
  {
   "cell_type": "code",
   "execution_count": 97,
   "id": "0594a3b1-02a5-4edb-8785-64acc3c8ad61",
   "metadata": {},
   "outputs": [],
   "source": [
    "df_predictions_cv0 = pd.read_csv(os.path.join(model_dir, 'cv_0', 'predictions.tsv'),\n",
    "                                      sep='\\t', header=0, index_col=0)\n",
    "df_predictions_cv1 = pd.read_csv(os.path.join(model_dir, 'cv_1', 'predictions.tsv'),\n",
    "                                      sep='\\t', header=0, index_col=0)\n",
    "df_predictions_cv2 = pd.read_csv(os.path.join(model_dir, 'cv_2', 'predictions.tsv'),\n",
    "                                      sep='\\t', header=0, index_col=0)\n",
    "df_predictions_cv3 = pd.read_csv(os.path.join(model_dir, 'cv_3', 'predictions.tsv'),\n",
    "                                      sep='\\t', header=0, index_col=0)\n",
    "df_predictions_cv4 = pd.read_csv(os.path.join(model_dir, 'cv_4', 'predictions.tsv'),\n",
    "                                      sep='\\t', header=0, index_col=0)"
   ]
  },
  {
   "cell_type": "code",
   "execution_count": 98,
   "id": "4960aab1-c214-42f7-9212-9feb92cbcddf",
   "metadata": {},
   "outputs": [
    {
     "data": {
      "text/plain": [
       "5541"
      ]
     },
     "execution_count": 98,
     "metadata": {},
     "output_type": "execute_result"
    }
   ],
   "source": [
    "sum(df_predictions_cv0[\"Name\"] == df_predictions_cv1[\"Name\"])"
   ]
  },
  {
   "cell_type": "code",
   "execution_count": 99,
   "id": "0c0c78d5-7d0c-42e5-956c-4cb220ab317c",
   "metadata": {},
   "outputs": [
    {
     "data": {
      "text/plain": [
       "5541"
      ]
     },
     "execution_count": 99,
     "metadata": {},
     "output_type": "execute_result"
    }
   ],
   "source": [
    "sum(df_predictions_cv2[\"Name\"] == df_predictions_cv1[\"Name\"])"
   ]
  },
  {
   "cell_type": "code",
   "execution_count": 100,
   "id": "32d0d2c1-6fc3-4ba2-ab86-06f7e304150c",
   "metadata": {},
   "outputs": [
    {
     "data": {
      "text/plain": [
       "5541"
      ]
     },
     "execution_count": 100,
     "metadata": {},
     "output_type": "execute_result"
    }
   ],
   "source": [
    "sum(df_predictions_cv2[\"Name\"] == df_predictions_cv3[\"Name\"])"
   ]
  },
  {
   "cell_type": "code",
   "execution_count": 101,
   "id": "fbd6d57b-ba29-482f-8f53-27ba0a3c396f",
   "metadata": {},
   "outputs": [
    {
     "data": {
      "text/plain": [
       "5541"
      ]
     },
     "execution_count": 101,
     "metadata": {},
     "output_type": "execute_result"
    }
   ],
   "source": [
    "sum(df_predictions_cv3[\"Name\"] == df_predictions_cv4[\"Name\"])"
   ]
  },
  {
   "cell_type": "code",
   "execution_count": 102,
   "id": "0b6c144f-833e-4a59-a9c6-21decce464a0",
   "metadata": {},
   "outputs": [],
   "source": [
    "df_predictions_average = pd.DataFrame({\"Name\" : df_predictions_cv0[\"Name\"]})"
   ]
  },
  {
   "cell_type": "code",
   "execution_count": 103,
   "id": "90fb45f6-4431-4367-afa7-0711cb9f967c",
   "metadata": {},
   "outputs": [],
   "source": [
    "# Let's average all the probabilities of positive calssifications for each gene after 5 cross validation runs \n",
    "df_predictions_average[\"avg_positive_prob\"] = (df_predictions_cv0[\"Prob_pos\"] + df_predictions_cv1[\"Prob_pos\"] + df_predictions_cv2[\"Prob_pos\"] + df_predictions_cv3[\"Prob_pos\"] + df_predictions_cv4[\"Prob_pos\"])/5"
   ]
  },
  {
   "cell_type": "code",
   "execution_count": 104,
   "id": "5e791e1c-8c70-4bb3-b2ea-b001a53bea87",
   "metadata": {},
   "outputs": [
    {
     "data": {
      "text/html": [
       "<div>\n",
       "<style scoped>\n",
       "    .dataframe tbody tr th:only-of-type {\n",
       "        vertical-align: middle;\n",
       "    }\n",
       "\n",
       "    .dataframe tbody tr th {\n",
       "        vertical-align: top;\n",
       "    }\n",
       "\n",
       "    .dataframe thead th {\n",
       "        text-align: right;\n",
       "    }\n",
       "</style>\n",
       "<table border=\"1\" class=\"dataframe\">\n",
       "  <thead>\n",
       "    <tr style=\"text-align: right;\">\n",
       "      <th></th>\n",
       "      <th>Name</th>\n",
       "      <th>avg_positive_prob</th>\n",
       "    </tr>\n",
       "    <tr>\n",
       "      <th>ID</th>\n",
       "      <th></th>\n",
       "      <th></th>\n",
       "    </tr>\n",
       "  </thead>\n",
       "  <tbody>\n",
       "    <tr>\n",
       "      <th>PLIN3</th>\n",
       "      <td>PLIN3</td>\n",
       "      <td>0.583</td>\n",
       "    </tr>\n",
       "    <tr>\n",
       "      <th>ZNF281</th>\n",
       "      <td>ZNF281</td>\n",
       "      <td>0.431</td>\n",
       "    </tr>\n",
       "    <tr>\n",
       "      <th>CTNNB1</th>\n",
       "      <td>CTNNB1</td>\n",
       "      <td>0.396</td>\n",
       "    </tr>\n",
       "    <tr>\n",
       "      <th>RFT1</th>\n",
       "      <td>RFT1</td>\n",
       "      <td>0.563</td>\n",
       "    </tr>\n",
       "    <tr>\n",
       "      <th>OAS1</th>\n",
       "      <td>OAS1</td>\n",
       "      <td>0.600</td>\n",
       "    </tr>\n",
       "    <tr>\n",
       "      <th>VKORC1</th>\n",
       "      <td>VKORC1</td>\n",
       "      <td>0.716</td>\n",
       "    </tr>\n",
       "    <tr>\n",
       "      <th>RPS6KA5</th>\n",
       "      <td>RPS6KA5</td>\n",
       "      <td>0.516</td>\n",
       "    </tr>\n",
       "    <tr>\n",
       "      <th>FA2H</th>\n",
       "      <td>FA2H</td>\n",
       "      <td>0.640</td>\n",
       "    </tr>\n",
       "    <tr>\n",
       "      <th>RPL23</th>\n",
       "      <td>RPL23</td>\n",
       "      <td>0.164</td>\n",
       "    </tr>\n",
       "    <tr>\n",
       "      <th>CSTB</th>\n",
       "      <td>CSTB</td>\n",
       "      <td>0.442</td>\n",
       "    </tr>\n",
       "    <tr>\n",
       "      <th>DTL</th>\n",
       "      <td>DTL</td>\n",
       "      <td>0.358</td>\n",
       "    </tr>\n",
       "    <tr>\n",
       "      <th>MTA1</th>\n",
       "      <td>MTA1</td>\n",
       "      <td>0.373</td>\n",
       "    </tr>\n",
       "    <tr>\n",
       "      <th>SLC30A5</th>\n",
       "      <td>SLC30A5</td>\n",
       "      <td>0.583</td>\n",
       "    </tr>\n",
       "    <tr>\n",
       "      <th>WDR82</th>\n",
       "      <td>WDR82</td>\n",
       "      <td>0.306</td>\n",
       "    </tr>\n",
       "    <tr>\n",
       "      <th>CAV2</th>\n",
       "      <td>CAV2</td>\n",
       "      <td>0.476</td>\n",
       "    </tr>\n",
       "    <tr>\n",
       "      <th>BMS1</th>\n",
       "      <td>BMS1</td>\n",
       "      <td>0.255</td>\n",
       "    </tr>\n",
       "    <tr>\n",
       "      <th>CARM1</th>\n",
       "      <td>CARM1</td>\n",
       "      <td>0.451</td>\n",
       "    </tr>\n",
       "    <tr>\n",
       "      <th>LGALS3BP</th>\n",
       "      <td>LGALS3BP</td>\n",
       "      <td>0.446</td>\n",
       "    </tr>\n",
       "    <tr>\n",
       "      <th>CEACAM6</th>\n",
       "      <td>CEACAM6</td>\n",
       "      <td>0.313</td>\n",
       "    </tr>\n",
       "    <tr>\n",
       "      <th>POLD1</th>\n",
       "      <td>POLD1</td>\n",
       "      <td>0.366</td>\n",
       "    </tr>\n",
       "  </tbody>\n",
       "</table>\n",
       "</div>"
      ],
      "text/plain": [
       "              Name  avg_positive_prob\n",
       "ID                                   \n",
       "PLIN3        PLIN3              0.583\n",
       "ZNF281      ZNF281              0.431\n",
       "CTNNB1      CTNNB1              0.396\n",
       "RFT1          RFT1              0.563\n",
       "OAS1          OAS1              0.600\n",
       "VKORC1      VKORC1              0.716\n",
       "RPS6KA5    RPS6KA5              0.516\n",
       "FA2H          FA2H              0.640\n",
       "RPL23        RPL23              0.164\n",
       "CSTB          CSTB              0.442\n",
       "DTL            DTL              0.358\n",
       "MTA1          MTA1              0.373\n",
       "SLC30A5    SLC30A5              0.583\n",
       "WDR82        WDR82              0.306\n",
       "CAV2          CAV2              0.476\n",
       "BMS1          BMS1              0.255\n",
       "CARM1        CARM1              0.451\n",
       "LGALS3BP  LGALS3BP              0.446\n",
       "CEACAM6    CEACAM6              0.313\n",
       "POLD1        POLD1              0.366"
      ]
     },
     "execution_count": 104,
     "metadata": {},
     "output_type": "execute_result"
    }
   ],
   "source": [
    "df_predictions_average.head(20)"
   ]
  },
  {
   "cell_type": "code",
   "execution_count": 105,
   "id": "0bd7345e-d367-46cd-a0e2-dc0239e30a9c",
   "metadata": {},
   "outputs": [
    {
     "data": {
      "text/plain": [
       "ID\n",
       "SLC30A5   0.583\n",
       "Name: Prob_pos, dtype: float64"
      ]
     },
     "execution_count": 105,
     "metadata": {},
     "output_type": "execute_result"
    }
   ],
   "source": [
    "(df_predictions_cv0[df_predictions_cv0[\"Name\"] == \"SLC30A5\"][\"Prob_pos\"] + df_predictions_cv1[df_predictions_cv0[\"Name\"] == \"SLC30A5\"][\"Prob_pos\"] + df_predictions_cv2[df_predictions_cv0[\"Name\"] == \"SLC30A5\"][\"Prob_pos\"] + df_predictions_cv3[df_predictions_cv0[\"Name\"] == \"SLC30A5\"][\"Prob_pos\"] + df_predictions_cv4[df_predictions_cv0[\"Name\"] == \"SLC30A5\"][\"Prob_pos\"])/5"
   ]
  },
  {
   "cell_type": "code",
   "execution_count": 106,
   "id": "a193c3f6-8c69-487b-a543-3d725e851df2",
   "metadata": {},
   "outputs": [],
   "source": [
    "df_predictions_average_sorted = df_predictions_average.sort_values(by=['avg_positive_prob'], ascending=False)"
   ]
  },
  {
   "cell_type": "code",
   "execution_count": 107,
   "id": "672ff465-60ca-430b-b074-e59d3915c508",
   "metadata": {},
   "outputs": [
    {
     "data": {
      "text/html": [
       "<div>\n",
       "<style scoped>\n",
       "    .dataframe tbody tr th:only-of-type {\n",
       "        vertical-align: middle;\n",
       "    }\n",
       "\n",
       "    .dataframe tbody tr th {\n",
       "        vertical-align: top;\n",
       "    }\n",
       "\n",
       "    .dataframe thead th {\n",
       "        text-align: right;\n",
       "    }\n",
       "</style>\n",
       "<table border=\"1\" class=\"dataframe\">\n",
       "  <thead>\n",
       "    <tr style=\"text-align: right;\">\n",
       "      <th></th>\n",
       "      <th>Name</th>\n",
       "      <th>avg_positive_prob</th>\n",
       "    </tr>\n",
       "    <tr>\n",
       "      <th>ID</th>\n",
       "      <th></th>\n",
       "      <th></th>\n",
       "    </tr>\n",
       "  </thead>\n",
       "  <tbody>\n",
       "    <tr>\n",
       "      <th>SERPINE1</th>\n",
       "      <td>SERPINE1</td>\n",
       "      <td>0.999</td>\n",
       "    </tr>\n",
       "    <tr>\n",
       "      <th>SERPINE2</th>\n",
       "      <td>SERPINE2</td>\n",
       "      <td>0.992</td>\n",
       "    </tr>\n",
       "    <tr>\n",
       "      <th>PIGU</th>\n",
       "      <td>PIGU</td>\n",
       "      <td>0.988</td>\n",
       "    </tr>\n",
       "    <tr>\n",
       "      <th>PIGK</th>\n",
       "      <td>PIGK</td>\n",
       "      <td>0.982</td>\n",
       "    </tr>\n",
       "    <tr>\n",
       "      <th>PIGT</th>\n",
       "      <td>PIGT</td>\n",
       "      <td>0.979</td>\n",
       "    </tr>\n",
       "    <tr>\n",
       "      <th>GPAA1</th>\n",
       "      <td>GPAA1</td>\n",
       "      <td>0.974</td>\n",
       "    </tr>\n",
       "    <tr>\n",
       "      <th>PIGS</th>\n",
       "      <td>PIGS</td>\n",
       "      <td>0.964</td>\n",
       "    </tr>\n",
       "    <tr>\n",
       "      <th>IFNGR1</th>\n",
       "      <td>IFNGR1</td>\n",
       "      <td>0.959</td>\n",
       "    </tr>\n",
       "    <tr>\n",
       "      <th>CD63</th>\n",
       "      <td>CD63</td>\n",
       "      <td>0.954</td>\n",
       "    </tr>\n",
       "    <tr>\n",
       "      <th>RNF149</th>\n",
       "      <td>RNF149</td>\n",
       "      <td>0.948</td>\n",
       "    </tr>\n",
       "    <tr>\n",
       "      <th>TNFRSF10B</th>\n",
       "      <td>TNFRSF10B</td>\n",
       "      <td>0.946</td>\n",
       "    </tr>\n",
       "    <tr>\n",
       "      <th>ADAM10</th>\n",
       "      <td>ADAM10</td>\n",
       "      <td>0.943</td>\n",
       "    </tr>\n",
       "    <tr>\n",
       "      <th>YIPF6</th>\n",
       "      <td>YIPF6</td>\n",
       "      <td>0.935</td>\n",
       "    </tr>\n",
       "    <tr>\n",
       "      <th>GOLGA7</th>\n",
       "      <td>GOLGA7</td>\n",
       "      <td>0.927</td>\n",
       "    </tr>\n",
       "    <tr>\n",
       "      <th>NPC1</th>\n",
       "      <td>NPC1</td>\n",
       "      <td>0.921</td>\n",
       "    </tr>\n",
       "    <tr>\n",
       "      <th>CAMLG</th>\n",
       "      <td>CAMLG</td>\n",
       "      <td>0.919</td>\n",
       "    </tr>\n",
       "    <tr>\n",
       "      <th>PTGFRN</th>\n",
       "      <td>PTGFRN</td>\n",
       "      <td>0.917</td>\n",
       "    </tr>\n",
       "    <tr>\n",
       "      <th>TSPAN3</th>\n",
       "      <td>TSPAN3</td>\n",
       "      <td>0.907</td>\n",
       "    </tr>\n",
       "    <tr>\n",
       "      <th>DNASE1L1</th>\n",
       "      <td>DNASE1L1</td>\n",
       "      <td>0.906</td>\n",
       "    </tr>\n",
       "    <tr>\n",
       "      <th>COMMD10</th>\n",
       "      <td>COMMD10</td>\n",
       "      <td>0.905</td>\n",
       "    </tr>\n",
       "  </tbody>\n",
       "</table>\n",
       "</div>"
      ],
      "text/plain": [
       "                Name  avg_positive_prob\n",
       "ID                                     \n",
       "SERPINE1    SERPINE1              0.999\n",
       "SERPINE2    SERPINE2              0.992\n",
       "PIGU            PIGU              0.988\n",
       "PIGK            PIGK              0.982\n",
       "PIGT            PIGT              0.979\n",
       "GPAA1          GPAA1              0.974\n",
       "PIGS            PIGS              0.964\n",
       "IFNGR1        IFNGR1              0.959\n",
       "CD63            CD63              0.954\n",
       "RNF149        RNF149              0.948\n",
       "TNFRSF10B  TNFRSF10B              0.946\n",
       "ADAM10        ADAM10              0.943\n",
       "YIPF6          YIPF6              0.935\n",
       "GOLGA7        GOLGA7              0.927\n",
       "NPC1            NPC1              0.921\n",
       "CAMLG          CAMLG              0.919\n",
       "PTGFRN        PTGFRN              0.917\n",
       "TSPAN3        TSPAN3              0.907\n",
       "DNASE1L1    DNASE1L1              0.906\n",
       "COMMD10      COMMD10              0.905"
      ]
     },
     "execution_count": 107,
     "metadata": {},
     "output_type": "execute_result"
    }
   ],
   "source": [
    "df_predictions_average_sorted.head(20)"
   ]
  },
  {
   "cell_type": "code",
   "execution_count": 108,
   "id": "b2cb0d74-6104-4152-92da-0c1b01a88b98",
   "metadata": {},
   "outputs": [],
   "source": [
    "df_predictions_average_sorted.to_csv(\"df_predictions_average_sorted.csv\", index=False)"
   ]
  },
  {
   "cell_type": "code",
   "execution_count": 109,
   "id": "476d2d4e-7a25-42c7-87f9-994ea9ec2448",
   "metadata": {
    "tags": []
   },
   "outputs": [
    {
     "data": {
      "text/plain": [
       "array(['SERPINE1', 'SERPINE2', 'PIGU', 'PIGK', 'PIGT', 'GPAA1', 'PIGS',\n",
       "       'IFNGR1', 'CD63', 'RNF149', 'TNFRSF10B', 'ADAM10', 'YIPF6',\n",
       "       'GOLGA7', 'NPC1', 'CAMLG', 'PTGFRN', 'TSPAN3', 'DNASE1L1',\n",
       "       'COMMD10', 'B4GALT7', 'YIPF4', 'SERPINB6', 'TM9SF3', 'PXMP2',\n",
       "       'COMMD3', 'COMMD8', 'SPCS1', 'COMMD2', 'ATG4B', 'RAB27B', 'FLVCR1',\n",
       "       'TMEM106C', 'LAMP1', 'COMMD9', 'ITGB1', 'SPCS2', 'CASP8',\n",
       "       'SLC29A1', 'SLC12A4', 'NDFIP1', 'COMMD5', 'ERGIC2', 'ADGRG1',\n",
       "       'FASTKD5', 'SNX17', 'COMMD7', 'SLC29A2', 'ITGA3', 'LSR', 'ALCAM',\n",
       "       'TRADD', 'SEC11C', 'CANX', 'SLC4A7', 'TM9SF2', 'ERGIC3', 'FAM241A',\n",
       "       'FN1', 'COG1', 'ATP13A3', 'TMEM167A', 'SLC39A14', 'SLC30A1',\n",
       "       'YIPF5', 'ABCC4', 'RDH14', 'SLC39A10', 'ITM2C', 'LPGAT1',\n",
       "       'SLC12A6', 'KDELR2', 'CCDC93', 'TMEM106B', 'MAN1A2', 'ARAP1',\n",
       "       'ITGA2', 'TFRC', 'NQO2', 'TSPAN14', 'MRC2', 'ADAM17', 'ZFPL1',\n",
       "       'DGAT1', 'RNF13', 'HMOX2', 'RNF170', 'SOAT1', 'IGSF3', 'KIDINS220',\n",
       "       'CD151', 'TMEM237', 'SLC12A2', 'VPS35L', 'SLC26A2', 'CC2D1A',\n",
       "       'COMMD4', 'SEZ6L2', 'ITGA5', 'SERPINB1'], dtype=object)"
      ]
     },
     "execution_count": 109,
     "metadata": {},
     "output_type": "execute_result"
    }
   ],
   "source": [
    "first_100_scoring = df_predictions_average_sorted['Name'].values[:100] \n",
    "first_100_scoring"
   ]
  },
  {
   "cell_type": "code",
   "execution_count": 110,
   "id": "b546b092-7543-413f-8b4d-ccbc62a607c6",
   "metadata": {},
   "outputs": [],
   "source": [
    "# host factors from publications\n",
    "\n",
    "host_factors = pd.ExcelFile(\"/home/samuele/EMOGI/artivir_data/host_factors_from_publications.xlsx\")\n",
    "\n",
    "host_factors_dfs = {sheet_name: host_factors.parse(sheet_name) for sheet_name in host_factors.sheet_names}"
   ]
  },
  {
   "cell_type": "code",
   "execution_count": 111,
   "id": "f93cc0b8-010a-417b-8bdc-1b3b905036a2",
   "metadata": {},
   "outputs": [
    {
     "data": {
      "text/html": [
       "<div>\n",
       "<style scoped>\n",
       "    .dataframe tbody tr th:only-of-type {\n",
       "        vertical-align: middle;\n",
       "    }\n",
       "\n",
       "    .dataframe tbody tr th {\n",
       "        vertical-align: top;\n",
       "    }\n",
       "\n",
       "    .dataframe thead th {\n",
       "        text-align: right;\n",
       "    }\n",
       "</style>\n",
       "<table border=\"1\" class=\"dataframe\">\n",
       "  <thead>\n",
       "    <tr style=\"text-align: right;\">\n",
       "      <th></th>\n",
       "      <th>Reference</th>\n",
       "      <th>Assay type</th>\n",
       "      <th>Assay cell line</th>\n",
       "      <th>Method</th>\n",
       "      <th>Bait</th>\n",
       "      <th>Gene name</th>\n",
       "      <th>Uniprot accession</th>\n",
       "      <th>Functionally validated by authors</th>\n",
       "    </tr>\n",
       "  </thead>\n",
       "  <tbody>\n",
       "    <tr>\n",
       "      <th>0</th>\n",
       "      <td>Gordon et al.</td>\n",
       "      <td>Protein interactome</td>\n",
       "      <td>HEK293T</td>\n",
       "      <td>AP-MS</td>\n",
       "      <td>M</td>\n",
       "      <td>AAR2</td>\n",
       "      <td>Q9Y312</td>\n",
       "      <td>NaN</td>\n",
       "    </tr>\n",
       "    <tr>\n",
       "      <th>1</th>\n",
       "      <td>Li et al.</td>\n",
       "      <td>Protein interactome</td>\n",
       "      <td>HEK293T</td>\n",
       "      <td>AP-MS</td>\n",
       "      <td>nsp10</td>\n",
       "      <td>AARS1</td>\n",
       "      <td>P49588</td>\n",
       "      <td>NaN</td>\n",
       "    </tr>\n",
       "    <tr>\n",
       "      <th>2</th>\n",
       "      <td>Li et al.</td>\n",
       "      <td>Protein interactome</td>\n",
       "      <td>HEK293T</td>\n",
       "      <td>AP-MS</td>\n",
       "      <td>nsp10</td>\n",
       "      <td>AASDHPPT</td>\n",
       "      <td>Q9NRN7</td>\n",
       "      <td>NaN</td>\n",
       "    </tr>\n",
       "    <tr>\n",
       "      <th>3</th>\n",
       "      <td>Gordon et al.</td>\n",
       "      <td>Protein interactome</td>\n",
       "      <td>HEK293T</td>\n",
       "      <td>AP-MS</td>\n",
       "      <td>M</td>\n",
       "      <td>AASS</td>\n",
       "      <td>Q9UDR5</td>\n",
       "      <td>NaN</td>\n",
       "    </tr>\n",
       "    <tr>\n",
       "      <th>4</th>\n",
       "      <td>Gordon et al.</td>\n",
       "      <td>Protein interactome</td>\n",
       "      <td>HEK293T</td>\n",
       "      <td>AP-MS</td>\n",
       "      <td>nsp8</td>\n",
       "      <td>AATF</td>\n",
       "      <td>Q9NY61</td>\n",
       "      <td>NaN</td>\n",
       "    </tr>\n",
       "  </tbody>\n",
       "</table>\n",
       "</div>"
      ],
      "text/plain": [
       "       Reference           Assay type Assay cell line Method   Bait Gene name  \\\n",
       "0  Gordon et al.  Protein interactome         HEK293T  AP-MS      M      AAR2   \n",
       "1      Li et al.  Protein interactome         HEK293T  AP-MS  nsp10     AARS1   \n",
       "2      Li et al.  Protein interactome         HEK293T  AP-MS  nsp10  AASDHPPT   \n",
       "3  Gordon et al.  Protein interactome         HEK293T  AP-MS      M      AASS   \n",
       "4  Gordon et al.  Protein interactome         HEK293T  AP-MS   nsp8      AATF   \n",
       "\n",
       "  Uniprot accession Functionally validated by authors  \n",
       "0            Q9Y312                               NaN  \n",
       "1            P49588                               NaN  \n",
       "2            Q9NRN7                               NaN  \n",
       "3            Q9UDR5                               NaN  \n",
       "4            Q9NY61                               NaN  "
      ]
     },
     "execution_count": 111,
     "metadata": {},
     "output_type": "execute_result"
    }
   ],
   "source": [
    "host_factors_df = host_factors_dfs['host_factors']\n",
    "host_factors_df.head()"
   ]
  },
  {
   "cell_type": "code",
   "execution_count": 112,
   "id": "1c76ae35-a4ae-4c9a-91c7-09b30f32c874",
   "metadata": {},
   "outputs": [
    {
     "data": {
      "text/plain": [
       "array([317.])"
      ]
     },
     "execution_count": 112,
     "metadata": {},
     "output_type": "execute_result"
    }
   ],
   "source": [
    "y_labels = y_train + y_val + y_test\n",
    "sum(y_labels)"
   ]
  },
  {
   "cell_type": "code",
   "execution_count": 113,
   "id": "98dd59ec-1675-4f7d-b7be-8e7e74842f4c",
   "metadata": {},
   "outputs": [],
   "source": [
    "positive_training_genes = df_predictions_average[y_labels == 1]"
   ]
  },
  {
   "cell_type": "code",
   "execution_count": 114,
   "id": "4274dfb5-1130-413b-946f-3d8ee130b003",
   "metadata": {},
   "outputs": [
    {
     "data": {
      "text/plain": [
       "0.5957976458576575"
      ]
     },
     "execution_count": 114,
     "metadata": {},
     "output_type": "execute_result"
    }
   ],
   "source": [
    "import numpy as np\n",
    "np.mean(positive_training_genes[\"avg_positive_prob\"].values)"
   ]
  },
  {
   "cell_type": "code",
   "execution_count": 115,
   "id": "96b703c6-5859-4ba8-b5de-def8b46a527e",
   "metadata": {},
   "outputs": [],
   "source": [
    "positive_training_genes = positive_training_genes[\"Name\"].values"
   ]
  },
  {
   "cell_type": "code",
   "execution_count": 116,
   "id": "55ebf6f9-271d-42f3-b2e7-f24634193759",
   "metadata": {},
   "outputs": [
    {
     "name": "stdout",
     "output_type": "stream",
     "text": [
      "How many of the top 100 scoring genes are part of the training set? 31\n"
     ]
    }
   ],
   "source": [
    "# How many of the top 100 scoring genes are part of the training set?\n",
    "counter = 0\n",
    "gene_list_training = []\n",
    "for gene in first_100_scoring:\n",
    "    if gene in positive_training_genes:\n",
    "        counter += 1\n",
    "        gene_list_training.append(gene)\n",
    "        \n",
    "print(f\"How many of the top 100 scoring genes are part of the training set? {counter}\")        "
   ]
  },
  {
   "cell_type": "code",
   "execution_count": 117,
   "id": "db658235-394c-453a-8f78-5d0fd6fa2874",
   "metadata": {},
   "outputs": [],
   "source": [
    "potential_host_factors = host_factors_df[\"Gene name\"].unique()"
   ]
  },
  {
   "cell_type": "code",
   "execution_count": 118,
   "id": "41962897-4fb7-4bb4-9af5-64edee442b46",
   "metadata": {},
   "outputs": [
    {
     "name": "stdout",
     "output_type": "stream",
     "text": [
      "How many of the top 100 scoring genes have been detected in Baggen et al.? 86\n"
     ]
    }
   ],
   "source": [
    "# How many of the top 100 scoring genes have been detected in Baggen et al.?\n",
    "counter = 0\n",
    "gene_list_baggen = []\n",
    "for gene in first_100_scoring:\n",
    "    if gene in potential_host_factors:\n",
    "        counter += 1\n",
    "        gene_list_baggen.append(gene)\n",
    "        \n",
    "print(f\"How many of the top 100 scoring genes have been detected in Baggen et al.? {counter}\") "
   ]
  },
  {
   "cell_type": "code",
   "execution_count": 119,
   "id": "4a3a819a-10c1-4875-a47c-b025f2276526",
   "metadata": {
    "tags": []
   },
   "outputs": [
    {
     "data": {
      "text/html": [
       "<div>\n",
       "<style scoped>\n",
       "    .dataframe tbody tr th:only-of-type {\n",
       "        vertical-align: middle;\n",
       "    }\n",
       "\n",
       "    .dataframe tbody tr th {\n",
       "        vertical-align: top;\n",
       "    }\n",
       "\n",
       "    .dataframe thead th {\n",
       "        text-align: right;\n",
       "    }\n",
       "</style>\n",
       "<table border=\"1\" class=\"dataframe\">\n",
       "  <thead>\n",
       "    <tr style=\"text-align: right;\">\n",
       "      <th></th>\n",
       "      <th>Name</th>\n",
       "      <th>avg_positive_prob</th>\n",
       "    </tr>\n",
       "    <tr>\n",
       "      <th>ID</th>\n",
       "      <th></th>\n",
       "      <th></th>\n",
       "    </tr>\n",
       "  </thead>\n",
       "  <tbody>\n",
       "    <tr>\n",
       "      <th>SERPINE1</th>\n",
       "      <td>SERPINE1</td>\n",
       "      <td>0.999</td>\n",
       "    </tr>\n",
       "    <tr>\n",
       "      <th>SERPINE2</th>\n",
       "      <td>SERPINE2</td>\n",
       "      <td>0.992</td>\n",
       "    </tr>\n",
       "    <tr>\n",
       "      <th>PIGU</th>\n",
       "      <td>PIGU</td>\n",
       "      <td>0.988</td>\n",
       "    </tr>\n",
       "    <tr>\n",
       "      <th>PIGK</th>\n",
       "      <td>PIGK</td>\n",
       "      <td>0.982</td>\n",
       "    </tr>\n",
       "    <tr>\n",
       "      <th>PIGT</th>\n",
       "      <td>PIGT</td>\n",
       "      <td>0.979</td>\n",
       "    </tr>\n",
       "    <tr>\n",
       "      <th>GPAA1</th>\n",
       "      <td>GPAA1</td>\n",
       "      <td>0.974</td>\n",
       "    </tr>\n",
       "    <tr>\n",
       "      <th>PIGS</th>\n",
       "      <td>PIGS</td>\n",
       "      <td>0.964</td>\n",
       "    </tr>\n",
       "    <tr>\n",
       "      <th>IFNGR1</th>\n",
       "      <td>IFNGR1</td>\n",
       "      <td>0.959</td>\n",
       "    </tr>\n",
       "    <tr>\n",
       "      <th>CD63</th>\n",
       "      <td>CD63</td>\n",
       "      <td>0.954</td>\n",
       "    </tr>\n",
       "    <tr>\n",
       "      <th>RNF149</th>\n",
       "      <td>RNF149</td>\n",
       "      <td>0.948</td>\n",
       "    </tr>\n",
       "    <tr>\n",
       "      <th>TNFRSF10B</th>\n",
       "      <td>TNFRSF10B</td>\n",
       "      <td>0.946</td>\n",
       "    </tr>\n",
       "    <tr>\n",
       "      <th>ADAM10</th>\n",
       "      <td>ADAM10</td>\n",
       "      <td>0.943</td>\n",
       "    </tr>\n",
       "    <tr>\n",
       "      <th>YIPF6</th>\n",
       "      <td>YIPF6</td>\n",
       "      <td>0.935</td>\n",
       "    </tr>\n",
       "    <tr>\n",
       "      <th>GOLGA7</th>\n",
       "      <td>GOLGA7</td>\n",
       "      <td>0.927</td>\n",
       "    </tr>\n",
       "    <tr>\n",
       "      <th>NPC1</th>\n",
       "      <td>NPC1</td>\n",
       "      <td>0.921</td>\n",
       "    </tr>\n",
       "    <tr>\n",
       "      <th>CAMLG</th>\n",
       "      <td>CAMLG</td>\n",
       "      <td>0.919</td>\n",
       "    </tr>\n",
       "    <tr>\n",
       "      <th>COMMD10</th>\n",
       "      <td>COMMD10</td>\n",
       "      <td>0.905</td>\n",
       "    </tr>\n",
       "    <tr>\n",
       "      <th>B4GALT7</th>\n",
       "      <td>B4GALT7</td>\n",
       "      <td>0.903</td>\n",
       "    </tr>\n",
       "    <tr>\n",
       "      <th>YIPF4</th>\n",
       "      <td>YIPF4</td>\n",
       "      <td>0.902</td>\n",
       "    </tr>\n",
       "    <tr>\n",
       "      <th>SERPINB6</th>\n",
       "      <td>SERPINB6</td>\n",
       "      <td>0.899</td>\n",
       "    </tr>\n",
       "  </tbody>\n",
       "</table>\n",
       "</div>"
      ],
      "text/plain": [
       "                Name  avg_positive_prob\n",
       "ID                                     \n",
       "SERPINE1    SERPINE1              0.999\n",
       "SERPINE2    SERPINE2              0.992\n",
       "PIGU            PIGU              0.988\n",
       "PIGK            PIGK              0.982\n",
       "PIGT            PIGT              0.979\n",
       "GPAA1          GPAA1              0.974\n",
       "PIGS            PIGS              0.964\n",
       "IFNGR1        IFNGR1              0.959\n",
       "CD63            CD63              0.954\n",
       "RNF149        RNF149              0.948\n",
       "TNFRSF10B  TNFRSF10B              0.946\n",
       "ADAM10        ADAM10              0.943\n",
       "YIPF6          YIPF6              0.935\n",
       "GOLGA7        GOLGA7              0.927\n",
       "NPC1            NPC1              0.921\n",
       "CAMLG          CAMLG              0.919\n",
       "COMMD10      COMMD10              0.905\n",
       "B4GALT7      B4GALT7              0.903\n",
       "YIPF4          YIPF4              0.902\n",
       "SERPINB6    SERPINB6              0.899"
      ]
     },
     "execution_count": 119,
     "metadata": {},
     "output_type": "execute_result"
    }
   ],
   "source": [
    "df_predictions_average_sorted[df_predictions_average_sorted[\"Name\"].isin(gene_list_baggen)].head(20)"
   ]
  },
  {
   "cell_type": "code",
   "execution_count": 120,
   "id": "a25576d8-d984-414f-842e-26379f2fccce",
   "metadata": {
    "tags": []
   },
   "outputs": [
    {
     "data": {
      "text/html": [
       "<div>\n",
       "<style scoped>\n",
       "    .dataframe tbody tr th:only-of-type {\n",
       "        vertical-align: middle;\n",
       "    }\n",
       "\n",
       "    .dataframe tbody tr th {\n",
       "        vertical-align: top;\n",
       "    }\n",
       "\n",
       "    .dataframe thead th {\n",
       "        text-align: right;\n",
       "    }\n",
       "</style>\n",
       "<table border=\"1\" class=\"dataframe\">\n",
       "  <thead>\n",
       "    <tr style=\"text-align: right;\">\n",
       "      <th></th>\n",
       "      <th>Name</th>\n",
       "      <th>avg_positive_prob</th>\n",
       "    </tr>\n",
       "    <tr>\n",
       "      <th>ID</th>\n",
       "      <th></th>\n",
       "      <th></th>\n",
       "    </tr>\n",
       "  </thead>\n",
       "  <tbody>\n",
       "    <tr>\n",
       "      <th>PIGU</th>\n",
       "      <td>PIGU</td>\n",
       "      <td>0.988</td>\n",
       "    </tr>\n",
       "    <tr>\n",
       "      <th>PIGT</th>\n",
       "      <td>PIGT</td>\n",
       "      <td>0.979</td>\n",
       "    </tr>\n",
       "    <tr>\n",
       "      <th>GPAA1</th>\n",
       "      <td>GPAA1</td>\n",
       "      <td>0.974</td>\n",
       "    </tr>\n",
       "    <tr>\n",
       "      <th>PIGS</th>\n",
       "      <td>PIGS</td>\n",
       "      <td>0.964</td>\n",
       "    </tr>\n",
       "    <tr>\n",
       "      <th>RNF149</th>\n",
       "      <td>RNF149</td>\n",
       "      <td>0.948</td>\n",
       "    </tr>\n",
       "    <tr>\n",
       "      <th>TNFRSF10B</th>\n",
       "      <td>TNFRSF10B</td>\n",
       "      <td>0.946</td>\n",
       "    </tr>\n",
       "    <tr>\n",
       "      <th>NPC1</th>\n",
       "      <td>NPC1</td>\n",
       "      <td>0.921</td>\n",
       "    </tr>\n",
       "    <tr>\n",
       "      <th>COMMD10</th>\n",
       "      <td>COMMD10</td>\n",
       "      <td>0.905</td>\n",
       "    </tr>\n",
       "    <tr>\n",
       "      <th>B4GALT7</th>\n",
       "      <td>B4GALT7</td>\n",
       "      <td>0.903</td>\n",
       "    </tr>\n",
       "    <tr>\n",
       "      <th>YIPF4</th>\n",
       "      <td>YIPF4</td>\n",
       "      <td>0.902</td>\n",
       "    </tr>\n",
       "    <tr>\n",
       "      <th>TM9SF3</th>\n",
       "      <td>TM9SF3</td>\n",
       "      <td>0.897</td>\n",
       "    </tr>\n",
       "    <tr>\n",
       "      <th>COMMD3</th>\n",
       "      <td>COMMD3</td>\n",
       "      <td>0.890</td>\n",
       "    </tr>\n",
       "    <tr>\n",
       "      <th>COMMD2</th>\n",
       "      <td>COMMD2</td>\n",
       "      <td>0.873</td>\n",
       "    </tr>\n",
       "    <tr>\n",
       "      <th>SLC12A4</th>\n",
       "      <td>SLC12A4</td>\n",
       "      <td>0.846</td>\n",
       "    </tr>\n",
       "    <tr>\n",
       "      <th>ERGIC2</th>\n",
       "      <td>ERGIC2</td>\n",
       "      <td>0.839</td>\n",
       "    </tr>\n",
       "    <tr>\n",
       "      <th>SNX17</th>\n",
       "      <td>SNX17</td>\n",
       "      <td>0.836</td>\n",
       "    </tr>\n",
       "    <tr>\n",
       "      <th>LSR</th>\n",
       "      <td>LSR</td>\n",
       "      <td>0.823</td>\n",
       "    </tr>\n",
       "    <tr>\n",
       "      <th>TM9SF2</th>\n",
       "      <td>TM9SF2</td>\n",
       "      <td>0.817</td>\n",
       "    </tr>\n",
       "    <tr>\n",
       "      <th>COG1</th>\n",
       "      <td>COG1</td>\n",
       "      <td>0.813</td>\n",
       "    </tr>\n",
       "    <tr>\n",
       "      <th>ATP13A3</th>\n",
       "      <td>ATP13A3</td>\n",
       "      <td>0.812</td>\n",
       "    </tr>\n",
       "    <tr>\n",
       "      <th>SLC39A14</th>\n",
       "      <td>SLC39A14</td>\n",
       "      <td>0.812</td>\n",
       "    </tr>\n",
       "    <tr>\n",
       "      <th>SLC30A1</th>\n",
       "      <td>SLC30A1</td>\n",
       "      <td>0.811</td>\n",
       "    </tr>\n",
       "    <tr>\n",
       "      <th>ITM2C</th>\n",
       "      <td>ITM2C</td>\n",
       "      <td>0.807</td>\n",
       "    </tr>\n",
       "    <tr>\n",
       "      <th>SLC12A6</th>\n",
       "      <td>SLC12A6</td>\n",
       "      <td>0.807</td>\n",
       "    </tr>\n",
       "    <tr>\n",
       "      <th>CCDC93</th>\n",
       "      <td>CCDC93</td>\n",
       "      <td>0.806</td>\n",
       "    </tr>\n",
       "    <tr>\n",
       "      <th>TMEM106B</th>\n",
       "      <td>TMEM106B</td>\n",
       "      <td>0.805</td>\n",
       "    </tr>\n",
       "    <tr>\n",
       "      <th>ADAM17</th>\n",
       "      <td>ADAM17</td>\n",
       "      <td>0.798</td>\n",
       "    </tr>\n",
       "    <tr>\n",
       "      <th>ZFPL1</th>\n",
       "      <td>ZFPL1</td>\n",
       "      <td>0.796</td>\n",
       "    </tr>\n",
       "    <tr>\n",
       "      <th>HMOX2</th>\n",
       "      <td>HMOX2</td>\n",
       "      <td>0.791</td>\n",
       "    </tr>\n",
       "    <tr>\n",
       "      <th>SLC26A2</th>\n",
       "      <td>SLC26A2</td>\n",
       "      <td>0.785</td>\n",
       "    </tr>\n",
       "    <tr>\n",
       "      <th>COMMD4</th>\n",
       "      <td>COMMD4</td>\n",
       "      <td>0.785</td>\n",
       "    </tr>\n",
       "  </tbody>\n",
       "</table>\n",
       "</div>"
      ],
      "text/plain": [
       "                Name  avg_positive_prob\n",
       "ID                                     \n",
       "PIGU            PIGU              0.988\n",
       "PIGT            PIGT              0.979\n",
       "GPAA1          GPAA1              0.974\n",
       "PIGS            PIGS              0.964\n",
       "RNF149        RNF149              0.948\n",
       "TNFRSF10B  TNFRSF10B              0.946\n",
       "NPC1            NPC1              0.921\n",
       "COMMD10      COMMD10              0.905\n",
       "B4GALT7      B4GALT7              0.903\n",
       "YIPF4          YIPF4              0.902\n",
       "TM9SF3        TM9SF3              0.897\n",
       "COMMD3        COMMD3              0.890\n",
       "COMMD2        COMMD2              0.873\n",
       "SLC12A4      SLC12A4              0.846\n",
       "ERGIC2        ERGIC2              0.839\n",
       "SNX17          SNX17              0.836\n",
       "LSR              LSR              0.823\n",
       "TM9SF2        TM9SF2              0.817\n",
       "COG1            COG1              0.813\n",
       "ATP13A3      ATP13A3              0.812\n",
       "SLC39A14    SLC39A14              0.812\n",
       "SLC30A1      SLC30A1              0.811\n",
       "ITM2C          ITM2C              0.807\n",
       "SLC12A6      SLC12A6              0.807\n",
       "CCDC93        CCDC93              0.806\n",
       "TMEM106B    TMEM106B              0.805\n",
       "ADAM17        ADAM17              0.798\n",
       "ZFPL1          ZFPL1              0.796\n",
       "HMOX2          HMOX2              0.791\n",
       "SLC26A2      SLC26A2              0.785\n",
       "COMMD4        COMMD4              0.785"
      ]
     },
     "execution_count": 120,
     "metadata": {},
     "output_type": "execute_result"
    }
   ],
   "source": [
    "df_predictions_average_sorted[df_predictions_average_sorted[\"Name\"].isin(gene_list_training)]"
   ]
  },
  {
   "cell_type": "code",
   "execution_count": 121,
   "id": "74576f0f-1e15-4b29-833f-949549d6f31a",
   "metadata": {},
   "outputs": [
    {
     "data": {
      "text/plain": [
       "317"
      ]
     },
     "execution_count": 121,
     "metadata": {},
     "output_type": "execute_result"
    }
   ],
   "source": [
    "y_labels = [int(label) for label in y_labels]\n",
    "sum(y_labels)"
   ]
  },
  {
   "cell_type": "code",
   "execution_count": 122,
   "id": "112d67e0-6af9-4a9f-9c5f-18307bf2782c",
   "metadata": {},
   "outputs": [],
   "source": [
    "masks = train_mask + val_mask + test_mask\n",
    "masks = [int(mask) for mask in masks]"
   ]
  },
  {
   "cell_type": "code",
   "execution_count": 123,
   "id": "c5d8f511-f400-4dc9-b4aa-f0e887f6e1ac",
   "metadata": {},
   "outputs": [
    {
     "data": {
      "text/plain": [
       "1268"
      ]
     },
     "execution_count": 123,
     "metadata": {},
     "output_type": "execute_result"
    }
   ],
   "source": [
    "sum(masks)"
   ]
  },
  {
   "cell_type": "code",
   "execution_count": 124,
   "id": "fc1ec3e0-a932-4d73-99bb-c1d385e3f144",
   "metadata": {},
   "outputs": [],
   "source": [
    "negative_set = [mask^y_label for mask, y_label in zip(masks, y_labels)] "
   ]
  },
  {
   "cell_type": "code",
   "execution_count": 125,
   "id": "7dfce949-6f8e-4566-bffb-4b06c87e9ee4",
   "metadata": {},
   "outputs": [
    {
     "data": {
      "text/plain": [
       "True"
      ]
     },
     "execution_count": 125,
     "metadata": {},
     "output_type": "execute_result"
    }
   ],
   "source": [
    "sum(negative_set) == sum(y_labels)*3"
   ]
  },
  {
   "cell_type": "code",
   "execution_count": 126,
   "id": "4544974d-9b74-43a3-9145-d32653370bbd",
   "metadata": {},
   "outputs": [
    {
     "data": {
      "text/html": [
       "<div>\n",
       "<style scoped>\n",
       "    .dataframe tbody tr th:only-of-type {\n",
       "        vertical-align: middle;\n",
       "    }\n",
       "\n",
       "    .dataframe tbody tr th {\n",
       "        vertical-align: top;\n",
       "    }\n",
       "\n",
       "    .dataframe thead th {\n",
       "        text-align: right;\n",
       "    }\n",
       "</style>\n",
       "<table border=\"1\" class=\"dataframe\">\n",
       "  <thead>\n",
       "    <tr style=\"text-align: right;\">\n",
       "      <th></th>\n",
       "      <th>Name</th>\n",
       "      <th>avg_positive_prob</th>\n",
       "      <th>training_set_positives</th>\n",
       "    </tr>\n",
       "    <tr>\n",
       "      <th>ID</th>\n",
       "      <th></th>\n",
       "      <th></th>\n",
       "      <th></th>\n",
       "    </tr>\n",
       "  </thead>\n",
       "  <tbody>\n",
       "    <tr>\n",
       "      <th>PLIN3</th>\n",
       "      <td>PLIN3</td>\n",
       "      <td>0.583</td>\n",
       "      <td>0</td>\n",
       "    </tr>\n",
       "    <tr>\n",
       "      <th>ZNF281</th>\n",
       "      <td>ZNF281</td>\n",
       "      <td>0.431</td>\n",
       "      <td>0</td>\n",
       "    </tr>\n",
       "    <tr>\n",
       "      <th>CTNNB1</th>\n",
       "      <td>CTNNB1</td>\n",
       "      <td>0.396</td>\n",
       "      <td>0</td>\n",
       "    </tr>\n",
       "    <tr>\n",
       "      <th>RFT1</th>\n",
       "      <td>RFT1</td>\n",
       "      <td>0.563</td>\n",
       "      <td>1</td>\n",
       "    </tr>\n",
       "    <tr>\n",
       "      <th>OAS1</th>\n",
       "      <td>OAS1</td>\n",
       "      <td>0.600</td>\n",
       "      <td>0</td>\n",
       "    </tr>\n",
       "  </tbody>\n",
       "</table>\n",
       "</div>"
      ],
      "text/plain": [
       "          Name  avg_positive_prob  training_set_positives\n",
       "ID                                                       \n",
       "PLIN3    PLIN3              0.583                       0\n",
       "ZNF281  ZNF281              0.431                       0\n",
       "CTNNB1  CTNNB1              0.396                       0\n",
       "RFT1      RFT1              0.563                       1\n",
       "OAS1      OAS1              0.600                       0"
      ]
     },
     "execution_count": 126,
     "metadata": {},
     "output_type": "execute_result"
    }
   ],
   "source": [
    "df_predictions_average[\"training_set_positives\"] = y_labels\n",
    "df_predictions_average.head()"
   ]
  },
  {
   "cell_type": "code",
   "execution_count": 127,
   "id": "658eed4b-be1c-4a0d-a797-d703e7d285ff",
   "metadata": {},
   "outputs": [
    {
     "data": {
      "text/html": [
       "<div>\n",
       "<style scoped>\n",
       "    .dataframe tbody tr th:only-of-type {\n",
       "        vertical-align: middle;\n",
       "    }\n",
       "\n",
       "    .dataframe tbody tr th {\n",
       "        vertical-align: top;\n",
       "    }\n",
       "\n",
       "    .dataframe thead th {\n",
       "        text-align: right;\n",
       "    }\n",
       "</style>\n",
       "<table border=\"1\" class=\"dataframe\">\n",
       "  <thead>\n",
       "    <tr style=\"text-align: right;\">\n",
       "      <th></th>\n",
       "      <th>Name</th>\n",
       "      <th>avg_positive_prob</th>\n",
       "      <th>training_set_positives</th>\n",
       "      <th>training_set_negatives</th>\n",
       "    </tr>\n",
       "    <tr>\n",
       "      <th>ID</th>\n",
       "      <th></th>\n",
       "      <th></th>\n",
       "      <th></th>\n",
       "      <th></th>\n",
       "    </tr>\n",
       "  </thead>\n",
       "  <tbody>\n",
       "    <tr>\n",
       "      <th>PLIN3</th>\n",
       "      <td>PLIN3</td>\n",
       "      <td>0.583</td>\n",
       "      <td>0</td>\n",
       "      <td>0</td>\n",
       "    </tr>\n",
       "    <tr>\n",
       "      <th>ZNF281</th>\n",
       "      <td>ZNF281</td>\n",
       "      <td>0.431</td>\n",
       "      <td>0</td>\n",
       "      <td>0</td>\n",
       "    </tr>\n",
       "    <tr>\n",
       "      <th>CTNNB1</th>\n",
       "      <td>CTNNB1</td>\n",
       "      <td>0.396</td>\n",
       "      <td>0</td>\n",
       "      <td>0</td>\n",
       "    </tr>\n",
       "    <tr>\n",
       "      <th>RFT1</th>\n",
       "      <td>RFT1</td>\n",
       "      <td>0.563</td>\n",
       "      <td>1</td>\n",
       "      <td>0</td>\n",
       "    </tr>\n",
       "    <tr>\n",
       "      <th>OAS1</th>\n",
       "      <td>OAS1</td>\n",
       "      <td>0.600</td>\n",
       "      <td>0</td>\n",
       "      <td>0</td>\n",
       "    </tr>\n",
       "  </tbody>\n",
       "</table>\n",
       "</div>"
      ],
      "text/plain": [
       "          Name  avg_positive_prob  training_set_positives  \\\n",
       "ID                                                          \n",
       "PLIN3    PLIN3              0.583                       0   \n",
       "ZNF281  ZNF281              0.431                       0   \n",
       "CTNNB1  CTNNB1              0.396                       0   \n",
       "RFT1      RFT1              0.563                       1   \n",
       "OAS1      OAS1              0.600                       0   \n",
       "\n",
       "        training_set_negatives  \n",
       "ID                              \n",
       "PLIN3                        0  \n",
       "ZNF281                       0  \n",
       "CTNNB1                       0  \n",
       "RFT1                         0  \n",
       "OAS1                         0  "
      ]
     },
     "execution_count": 127,
     "metadata": {},
     "output_type": "execute_result"
    }
   ],
   "source": [
    "df_predictions_average[\"training_set_negatives\"] = negative_set\n",
    "df_predictions_average.head()"
   ]
  },
  {
   "cell_type": "code",
   "execution_count": 128,
   "id": "873c059e-1fd4-4058-8446-e2a957a63f1f",
   "metadata": {},
   "outputs": [
    {
     "data": {
      "text/html": [
       "<div>\n",
       "<style scoped>\n",
       "    .dataframe tbody tr th:only-of-type {\n",
       "        vertical-align: middle;\n",
       "    }\n",
       "\n",
       "    .dataframe tbody tr th {\n",
       "        vertical-align: top;\n",
       "    }\n",
       "\n",
       "    .dataframe thead th {\n",
       "        text-align: right;\n",
       "    }\n",
       "</style>\n",
       "<table border=\"1\" class=\"dataframe\">\n",
       "  <thead>\n",
       "    <tr style=\"text-align: right;\">\n",
       "      <th></th>\n",
       "      <th>Reference</th>\n",
       "      <th>Assay type</th>\n",
       "      <th>Assay cell line</th>\n",
       "      <th>Method</th>\n",
       "      <th>Bait</th>\n",
       "      <th>Gene name</th>\n",
       "      <th>Uniprot accession</th>\n",
       "      <th>Functionally validated by authors</th>\n",
       "    </tr>\n",
       "  </thead>\n",
       "  <tbody>\n",
       "    <tr>\n",
       "      <th>0</th>\n",
       "      <td>Gordon et al.</td>\n",
       "      <td>Protein interactome</td>\n",
       "      <td>HEK293T</td>\n",
       "      <td>AP-MS</td>\n",
       "      <td>M</td>\n",
       "      <td>AAR2</td>\n",
       "      <td>Q9Y312</td>\n",
       "      <td>NaN</td>\n",
       "    </tr>\n",
       "    <tr>\n",
       "      <th>1</th>\n",
       "      <td>Li et al.</td>\n",
       "      <td>Protein interactome</td>\n",
       "      <td>HEK293T</td>\n",
       "      <td>AP-MS</td>\n",
       "      <td>nsp10</td>\n",
       "      <td>AARS1</td>\n",
       "      <td>P49588</td>\n",
       "      <td>NaN</td>\n",
       "    </tr>\n",
       "    <tr>\n",
       "      <th>2</th>\n",
       "      <td>Li et al.</td>\n",
       "      <td>Protein interactome</td>\n",
       "      <td>HEK293T</td>\n",
       "      <td>AP-MS</td>\n",
       "      <td>nsp10</td>\n",
       "      <td>AASDHPPT</td>\n",
       "      <td>Q9NRN7</td>\n",
       "      <td>NaN</td>\n",
       "    </tr>\n",
       "    <tr>\n",
       "      <th>3</th>\n",
       "      <td>Gordon et al.</td>\n",
       "      <td>Protein interactome</td>\n",
       "      <td>HEK293T</td>\n",
       "      <td>AP-MS</td>\n",
       "      <td>M</td>\n",
       "      <td>AASS</td>\n",
       "      <td>Q9UDR5</td>\n",
       "      <td>NaN</td>\n",
       "    </tr>\n",
       "    <tr>\n",
       "      <th>4</th>\n",
       "      <td>Gordon et al.</td>\n",
       "      <td>Protein interactome</td>\n",
       "      <td>HEK293T</td>\n",
       "      <td>AP-MS</td>\n",
       "      <td>nsp8</td>\n",
       "      <td>AATF</td>\n",
       "      <td>Q9NY61</td>\n",
       "      <td>NaN</td>\n",
       "    </tr>\n",
       "  </tbody>\n",
       "</table>\n",
       "</div>"
      ],
      "text/plain": [
       "       Reference           Assay type Assay cell line Method   Bait Gene name  \\\n",
       "0  Gordon et al.  Protein interactome         HEK293T  AP-MS      M      AAR2   \n",
       "1      Li et al.  Protein interactome         HEK293T  AP-MS  nsp10     AARS1   \n",
       "2      Li et al.  Protein interactome         HEK293T  AP-MS  nsp10  AASDHPPT   \n",
       "3  Gordon et al.  Protein interactome         HEK293T  AP-MS      M      AASS   \n",
       "4  Gordon et al.  Protein interactome         HEK293T  AP-MS   nsp8      AATF   \n",
       "\n",
       "  Uniprot accession Functionally validated by authors  \n",
       "0            Q9Y312                               NaN  \n",
       "1            P49588                               NaN  \n",
       "2            Q9NRN7                               NaN  \n",
       "3            Q9UDR5                               NaN  \n",
       "4            Q9NY61                               NaN  "
      ]
     },
     "execution_count": 128,
     "metadata": {},
     "output_type": "execute_result"
    }
   ],
   "source": [
    "host_factors_df.head()"
   ]
  },
  {
   "cell_type": "code",
   "execution_count": 129,
   "id": "6a79827c-dd63-4d51-8dc9-b6968632054d",
   "metadata": {},
   "outputs": [],
   "source": [
    "publication_list = host_factors_df[\"Reference\"].unique()"
   ]
  },
  {
   "cell_type": "code",
   "execution_count": 130,
   "id": "515e0b11-36f6-4aca-8195-abfc17859c35",
   "metadata": {},
   "outputs": [
    {
     "data": {
      "text/plain": [
       "33"
      ]
     },
     "execution_count": 130,
     "metadata": {},
     "output_type": "execute_result"
    }
   ],
   "source": [
    "len(publication_list)"
   ]
  },
  {
   "cell_type": "code",
   "execution_count": 131,
   "id": "e96cda37-0729-44a9-b031-1616d1374202",
   "metadata": {},
   "outputs": [],
   "source": [
    "stukalov_genes = host_factors_df[host_factors_df[\"Reference\"] == 'Stukalov et al.'][\"Gene name\"].values"
   ]
  },
  {
   "cell_type": "code",
   "execution_count": 132,
   "id": "25afdcf8-47d9-4ce8-9289-860d14141ab4",
   "metadata": {},
   "outputs": [],
   "source": [
    "unique_genes, pub_counts = np.unique(host_factors_df[\"Gene name\"].values, return_counts = True)"
   ]
  },
  {
   "cell_type": "code",
   "execution_count": 133,
   "id": "351e1929-d944-45e3-8a17-d1bcc96d5420",
   "metadata": {},
   "outputs": [],
   "source": [
    "# I recreate the set of positives starting from Stukalov and then checking the repetitions in other indipendent publications\n",
    "positive_genes = []\n",
    "for u, c in zip(unique_genes, pub_counts):\n",
    "    if u in stukalov_genes and c>=3:\n",
    "        positive_genes.append(u)"
   ]
  },
  {
   "cell_type": "code",
   "execution_count": 134,
   "id": "116f34ec-877b-4fed-9f87-c92492a99ee2",
   "metadata": {},
   "outputs": [
    {
     "data": {
      "text/plain": [
       "480"
      ]
     },
     "execution_count": 134,
     "metadata": {},
     "output_type": "execute_result"
    }
   ],
   "source": [
    "len(positive_genes)"
   ]
  },
  {
   "cell_type": "code",
   "execution_count": 135,
   "id": "6ca5118c-9b1c-452b-848c-81d0b049a766",
   "metadata": {},
   "outputs": [
    {
     "name": "stdout",
     "output_type": "stream",
     "text": [
      "The number of not shared genes by Stukalov is 40\n"
     ]
    }
   ],
   "source": [
    "# I check that the genes in my training set correspond to the positive_genes list\n",
    "counter = 0\n",
    "genes_to_check = []\n",
    "for gene in df_predictions_average[df_predictions_average[\"training_set_positives\"] == 1][\"Name\"].values:\n",
    "    if gene in positive_genes:\n",
    "        counter += 1\n",
    "    else:\n",
    "        genes_to_check.append(gene)\n",
    "not_shared_genes = len(df_predictions_average[df_predictions_average[\"training_set_positives\"] == 1][\"Name\"].values) - counter     \n",
    "print(f\"The number of not shared genes by Stukalov is {not_shared_genes}\")"
   ]
  },
  {
   "cell_type": "code",
   "execution_count": 136,
   "id": "97da0556-e6ad-40f4-8c6e-c9e5cad1dcda",
   "metadata": {},
   "outputs": [],
   "source": [
    "# I check that all the remaining not shared genes are part of the original set of 64 not (shared by Stukalov) host factors \n",
    "#counter = 0\n",
    "#for gene in genes_to_check:\n",
    "#    if gene not in host_factors_experiments:\n",
    "#        print(\"not ok\")"
   ]
  },
  {
   "cell_type": "code",
   "execution_count": 137,
   "id": "f2116074-de75-4fda-89b1-15b43df305fe",
   "metadata": {},
   "outputs": [],
   "source": [
    "ordered_gene_array = df_predictions_average[\"Name\"].values"
   ]
  },
  {
   "cell_type": "code",
   "execution_count": 138,
   "id": "831d88ee-2987-4367-a888-038e20bbba73",
   "metadata": {},
   "outputs": [],
   "source": [
    "counts_list = np.zeros(len(ordered_gene_array)).astype(int)"
   ]
  },
  {
   "cell_type": "code",
   "execution_count": 139,
   "id": "577df9c0-805b-4574-9b46-81a820b55ce1",
   "metadata": {},
   "outputs": [],
   "source": [
    "# Assign number of repetitions in publications to the same order of df_predictions_average\n",
    "for u, c in zip(unique_genes, pub_counts):\n",
    "    index = np.where(ordered_gene_array == u)\n",
    "    if len(index[0]) > 0:\n",
    "        counts_list[index[0][0]] = c\n",
    "    "
   ]
  },
  {
   "cell_type": "code",
   "execution_count": 140,
   "id": "cbe066d1-90cd-461e-97ee-77d224670501",
   "metadata": {},
   "outputs": [
    {
     "data": {
      "text/plain": [
       "array([ 0,  0,  1, ..., 20,  2,  0])"
      ]
     },
     "execution_count": 140,
     "metadata": {},
     "output_type": "execute_result"
    }
   ],
   "source": [
    "counts_list"
   ]
  },
  {
   "cell_type": "code",
   "execution_count": 141,
   "id": "c2ea62e1-8cb7-457c-972e-2204c10f3440",
   "metadata": {},
   "outputs": [],
   "source": [
    "df_predictions_average[\"publication_counts\"] = counts_list"
   ]
  },
  {
   "cell_type": "code",
   "execution_count": 142,
   "id": "466dccf9-77ac-49af-bc25-8822f5635bdd",
   "metadata": {},
   "outputs": [
    {
     "data": {
      "text/html": [
       "<div>\n",
       "<style scoped>\n",
       "    .dataframe tbody tr th:only-of-type {\n",
       "        vertical-align: middle;\n",
       "    }\n",
       "\n",
       "    .dataframe tbody tr th {\n",
       "        vertical-align: top;\n",
       "    }\n",
       "\n",
       "    .dataframe thead th {\n",
       "        text-align: right;\n",
       "    }\n",
       "</style>\n",
       "<table border=\"1\" class=\"dataframe\">\n",
       "  <thead>\n",
       "    <tr style=\"text-align: right;\">\n",
       "      <th></th>\n",
       "      <th>Name</th>\n",
       "      <th>avg_positive_prob</th>\n",
       "      <th>training_set_positives</th>\n",
       "      <th>training_set_negatives</th>\n",
       "      <th>publication_counts</th>\n",
       "    </tr>\n",
       "    <tr>\n",
       "      <th>ID</th>\n",
       "      <th></th>\n",
       "      <th></th>\n",
       "      <th></th>\n",
       "      <th></th>\n",
       "      <th></th>\n",
       "    </tr>\n",
       "  </thead>\n",
       "  <tbody>\n",
       "    <tr>\n",
       "      <th>PLIN3</th>\n",
       "      <td>PLIN3</td>\n",
       "      <td>0.583</td>\n",
       "      <td>0</td>\n",
       "      <td>0</td>\n",
       "      <td>0</td>\n",
       "    </tr>\n",
       "    <tr>\n",
       "      <th>ZNF281</th>\n",
       "      <td>ZNF281</td>\n",
       "      <td>0.431</td>\n",
       "      <td>0</td>\n",
       "      <td>0</td>\n",
       "      <td>0</td>\n",
       "    </tr>\n",
       "    <tr>\n",
       "      <th>CTNNB1</th>\n",
       "      <td>CTNNB1</td>\n",
       "      <td>0.396</td>\n",
       "      <td>0</td>\n",
       "      <td>0</td>\n",
       "      <td>1</td>\n",
       "    </tr>\n",
       "    <tr>\n",
       "      <th>RFT1</th>\n",
       "      <td>RFT1</td>\n",
       "      <td>0.563</td>\n",
       "      <td>1</td>\n",
       "      <td>0</td>\n",
       "      <td>16</td>\n",
       "    </tr>\n",
       "    <tr>\n",
       "      <th>OAS1</th>\n",
       "      <td>OAS1</td>\n",
       "      <td>0.600</td>\n",
       "      <td>0</td>\n",
       "      <td>0</td>\n",
       "      <td>1</td>\n",
       "    </tr>\n",
       "  </tbody>\n",
       "</table>\n",
       "</div>"
      ],
      "text/plain": [
       "          Name  avg_positive_prob  training_set_positives  \\\n",
       "ID                                                          \n",
       "PLIN3    PLIN3              0.583                       0   \n",
       "ZNF281  ZNF281              0.431                       0   \n",
       "CTNNB1  CTNNB1              0.396                       0   \n",
       "RFT1      RFT1              0.563                       1   \n",
       "OAS1      OAS1              0.600                       0   \n",
       "\n",
       "        training_set_negatives  publication_counts  \n",
       "ID                                                  \n",
       "PLIN3                        0                   0  \n",
       "ZNF281                       0                   0  \n",
       "CTNNB1                       0                   1  \n",
       "RFT1                         0                  16  \n",
       "OAS1                         0                   1  "
      ]
     },
     "execution_count": 142,
     "metadata": {},
     "output_type": "execute_result"
    }
   ],
   "source": [
    "df_predictions_average.head()"
   ]
  },
  {
   "cell_type": "code",
   "execution_count": 143,
   "id": "2c218e10-bd05-4ef1-b786-396284d80d77",
   "metadata": {},
   "outputs": [
    {
     "data": {
      "text/plain": [
       "0.005104400176353745"
      ]
     },
     "execution_count": 143,
     "metadata": {},
     "output_type": "execute_result"
    }
   ],
   "source": [
    "np.mean(network)"
   ]
  },
  {
   "cell_type": "code",
   "execution_count": 144,
   "id": "6cf0ca3e-2794-4001-8f0e-979eae495821",
   "metadata": {},
   "outputs": [],
   "source": [
    "# read a not normalized network\n",
    "import gcnIO"
   ]
  },
  {
   "cell_type": "code",
   "execution_count": 145,
   "id": "131735d0-0614-46aa-b7f9-39f0a0a28b63",
   "metadata": {},
   "outputs": [],
   "source": [
    "df_string_ppi = pd.read_csv(\"/home/samuele/EMOGI/artivir_data/data_preprocessing_pipeline/df_string_transcriptomics_proteomics.zip\")"
   ]
  },
  {
   "cell_type": "code",
   "execution_count": 146,
   "id": "0314a621-28fc-45cd-ab83-166af6bff082",
   "metadata": {},
   "outputs": [
    {
     "data": {
      "text/html": [
       "<div>\n",
       "<style scoped>\n",
       "    .dataframe tbody tr th:only-of-type {\n",
       "        vertical-align: middle;\n",
       "    }\n",
       "\n",
       "    .dataframe tbody tr th {\n",
       "        vertical-align: top;\n",
       "    }\n",
       "\n",
       "    .dataframe thead th {\n",
       "        text-align: right;\n",
       "    }\n",
       "</style>\n",
       "<table border=\"1\" class=\"dataframe\">\n",
       "  <thead>\n",
       "    <tr style=\"text-align: right;\">\n",
       "      <th></th>\n",
       "      <th>protein1</th>\n",
       "      <th>protein2</th>\n",
       "      <th>experimental</th>\n",
       "      <th>database</th>\n",
       "      <th>textmining</th>\n",
       "      <th>combined_score</th>\n",
       "      <th>gene_name_1</th>\n",
       "      <th>gene_name_2</th>\n",
       "    </tr>\n",
       "  </thead>\n",
       "  <tbody>\n",
       "    <tr>\n",
       "      <th>0</th>\n",
       "      <td>9606.ENSP00000000233</td>\n",
       "      <td>9606.ENSP00000264718</td>\n",
       "      <td>157</td>\n",
       "      <td>0</td>\n",
       "      <td>0</td>\n",
       "      <td>156</td>\n",
       "      <td>ARF5</td>\n",
       "      <td>GPN1</td>\n",
       "    </tr>\n",
       "    <tr>\n",
       "      <th>1</th>\n",
       "      <td>9606.ENSP00000000233</td>\n",
       "      <td>9606.ENSP00000346046</td>\n",
       "      <td>178</td>\n",
       "      <td>0</td>\n",
       "      <td>0</td>\n",
       "      <td>177</td>\n",
       "      <td>ARF5</td>\n",
       "      <td>RPS17</td>\n",
       "    </tr>\n",
       "    <tr>\n",
       "      <th>2</th>\n",
       "      <td>9606.ENSP00000000233</td>\n",
       "      <td>9606.ENSP00000354876</td>\n",
       "      <td>153</td>\n",
       "      <td>0</td>\n",
       "      <td>0</td>\n",
       "      <td>152</td>\n",
       "      <td>ARF5</td>\n",
       "      <td>MT-CO2</td>\n",
       "    </tr>\n",
       "    <tr>\n",
       "      <th>3</th>\n",
       "      <td>9606.ENSP00000000233</td>\n",
       "      <td>9606.ENSP00000381607</td>\n",
       "      <td>169</td>\n",
       "      <td>0</td>\n",
       "      <td>0</td>\n",
       "      <td>169</td>\n",
       "      <td>ARF5</td>\n",
       "      <td>GSTP1</td>\n",
       "    </tr>\n",
       "    <tr>\n",
       "      <th>4</th>\n",
       "      <td>9606.ENSP00000000233</td>\n",
       "      <td>9606.ENSP00000426909</td>\n",
       "      <td>181</td>\n",
       "      <td>0</td>\n",
       "      <td>0</td>\n",
       "      <td>181</td>\n",
       "      <td>ARF5</td>\n",
       "      <td>RACK1</td>\n",
       "    </tr>\n",
       "  </tbody>\n",
       "</table>\n",
       "</div>"
      ],
      "text/plain": [
       "               protein1              protein2  experimental  database  \\\n",
       "0  9606.ENSP00000000233  9606.ENSP00000264718           157         0   \n",
       "1  9606.ENSP00000000233  9606.ENSP00000346046           178         0   \n",
       "2  9606.ENSP00000000233  9606.ENSP00000354876           153         0   \n",
       "3  9606.ENSP00000000233  9606.ENSP00000381607           169         0   \n",
       "4  9606.ENSP00000000233  9606.ENSP00000426909           181         0   \n",
       "\n",
       "   textmining  combined_score gene_name_1 gene_name_2  \n",
       "0           0             156        ARF5        GPN1  \n",
       "1           0             177        ARF5       RPS17  \n",
       "2           0             152        ARF5      MT-CO2  \n",
       "3           0             169        ARF5       GSTP1  \n",
       "4           0             181        ARF5       RACK1  "
      ]
     },
     "execution_count": 146,
     "metadata": {},
     "output_type": "execute_result"
    }
   ],
   "source": [
    "df_string_ppi.head()"
   ]
  },
  {
   "cell_type": "code",
   "execution_count": 147,
   "id": "6c2998a8-2bea-4c50-adc5-6c7bd4314602",
   "metadata": {},
   "outputs": [],
   "source": [
    "#df_predictions_average.to_csv('df_predictions_average.zip', index=False, compression = dict(method='zip',archive_name='df_predictions_average.csv'))"
   ]
  },
  {
   "cell_type": "code",
   "execution_count": 148,
   "id": "430071ae-253f-4610-8e88-e6ca0dd8d00a",
   "metadata": {},
   "outputs": [],
   "source": [
    "#network, features, y_train, y_val, y_test, train_mask, val_mask, test_mask, node_names, feat_names "
   ]
  },
  {
   "cell_type": "code",
   "execution_count": 149,
   "id": "998043da-f1f4-406b-8bf0-54b9510eef68",
   "metadata": {},
   "outputs": [
    {
     "name": "stdout",
     "output_type": "stream",
     "text": [
      "Percentage of links on the total: 1.6892723376835652%\n"
     ]
    }
   ],
   "source": [
    "print(f\"Percentage of links on the total: {(np.sum(network != 0)/np.sum(network == 0))*100}%\")"
   ]
  },
  {
   "cell_type": "code",
   "execution_count": 150,
   "id": "5e7d4d62-1a79-4f5c-98ae-6af0b4f34eb9",
   "metadata": {},
   "outputs": [
    {
     "data": {
      "text/plain": [
       "(5541, 5541)"
      ]
     },
     "execution_count": 150,
     "metadata": {},
     "output_type": "execute_result"
    }
   ],
   "source": [
    "# Percentage of positives among the neighbours of positive labeled\n",
    "np.shape(network)"
   ]
  },
  {
   "cell_type": "code",
   "execution_count": 151,
   "id": "d8bfcfe0-1670-4c9a-8f43-772314ae20f7",
   "metadata": {},
   "outputs": [
    {
     "data": {
      "text/plain": [
       "317"
      ]
     },
     "execution_count": 151,
     "metadata": {},
     "output_type": "execute_result"
    }
   ],
   "source": [
    "sum(y_labels)"
   ]
  },
  {
   "cell_type": "code",
   "execution_count": 152,
   "id": "230e45a6-77fe-45bd-b78c-c8657fd6e557",
   "metadata": {},
   "outputs": [],
   "source": [
    "positive_indices = np.where(np.array(y_labels) == 1)[0]"
   ]
  },
  {
   "cell_type": "code",
   "execution_count": 153,
   "id": "d3fbc2bc-62f5-4988-bb12-4cde9ce4282a",
   "metadata": {},
   "outputs": [],
   "source": [
    "negative_indices = np.where(np.array(negative_set) == 1)[0]"
   ]
  },
  {
   "cell_type": "code",
   "execution_count": 154,
   "id": "52cd8ce3-77fc-4d9f-a700-fc481a1468ce",
   "metadata": {},
   "outputs": [],
   "source": [
    "edges_list_indices = np.where(np.array(network) != 0)"
   ]
  },
  {
   "cell_type": "code",
   "execution_count": 155,
   "id": "af626bcd-915f-4045-bfb7-8f025400d76f",
   "metadata": {},
   "outputs": [
    {
     "data": {
      "text/plain": [
       "(array([   0,    0,    0, ..., 5540, 5540, 5540]),\n",
       " array([  64,  196,  232, ..., 5384, 5444, 5522]))"
      ]
     },
     "execution_count": 155,
     "metadata": {},
     "output_type": "execute_result"
    }
   ],
   "source": [
    "edges_list_indices"
   ]
  },
  {
   "cell_type": "code",
   "execution_count": 156,
   "id": "1c9a1639-15e5-48db-84f0-ce0c603e32af",
   "metadata": {},
   "outputs": [
    {
     "data": {
      "text/plain": [
       "array([   0,    1,    2, ..., 5538, 5539, 5540])"
      ]
     },
     "execution_count": 156,
     "metadata": {},
     "output_type": "execute_result"
    }
   ],
   "source": [
    "np.unique(edges_list_indices[0])"
   ]
  },
  {
   "cell_type": "code",
   "execution_count": 157,
   "id": "7a794f52-d658-429b-86bd-3065a3fbc2fa",
   "metadata": {},
   "outputs": [
    {
     "data": {
      "text/plain": [
       "array([485, 486, 487, 488, 489, 490, 491, 492])"
      ]
     },
     "execution_count": 157,
     "metadata": {},
     "output_type": "execute_result"
    }
   ],
   "source": [
    "np.where(edges_list_indices[0] == 3)[0]"
   ]
  },
  {
   "cell_type": "markdown",
   "id": "5787da95-857d-4c82-bc04-1b21dfaa08cc",
   "metadata": {},
   "source": [
    "# Check Homophily"
   ]
  },
  {
   "cell_type": "code",
   "execution_count": 158,
   "id": "7b93432a-0416-4771-8772-1e954404bf3a",
   "metadata": {
    "tags": []
   },
   "outputs": [],
   "source": [
    "percentage_of_positives_connected_positives = []\n",
    "percentage_of_negatives_connected_positives = []\n",
    "percentage_of_positives_connected_negatives = []\n",
    "percentage_of_negatives_connected_negatives = []\n",
    "\n",
    "for connected_gene_index in np.unique(edges_list_indices[0]):\n",
    "    connections_to_check = np.where(edges_list_indices[0] == connected_gene_index)[0]\n",
    "    if connected_gene_index in positive_indices:\n",
    "        positive_connected_counter = 0\n",
    "        negative_connected_counter = 0\n",
    "        for connection in connections_to_check:\n",
    "            # check the first neigbours for connected_gene_index positive\n",
    "            if edges_list_indices[1][connection] in positive_indices:\n",
    "                positive_connected_counter += 1\n",
    "            elif edges_list_indices[1][connection] in negative_indices:\n",
    "                negative_connected_counter += 1\n",
    "        percentage_of_positives_connected_positives.append(positive_connected_counter/len(connections_to_check))        \n",
    "        percentage_of_positives_connected_negatives.append(negative_connected_counter/len(connections_to_check))\n",
    "        \n",
    "    elif connected_gene_index in negative_indices:\n",
    "        positive_connected_counter = 0\n",
    "        negative_connected_counter = 0 \n",
    "        for connection in connections_to_check:\n",
    "            # check the first neigbours for connected_gene_index positive\n",
    "            if edges_list_indices[1][connection] in positive_indices:\n",
    "                positive_connected_counter += 1\n",
    "            elif edges_list_indices[1][connection] in negative_indices:\n",
    "                negative_connected_counter += 1\n",
    "        percentage_of_negatives_connected_positives.append(positive_connected_counter/len(connections_to_check)) \n",
    "        percentage_of_negatives_connected_negatives.append(negative_connected_counter/len(connections_to_check))\n"
   ]
  },
  {
   "cell_type": "code",
   "execution_count": 159,
   "id": "ed7d3c54-d637-4f04-88d4-cfd2176896dc",
   "metadata": {},
   "outputs": [
    {
     "data": {
      "text/plain": [
       "0.10415988218727924"
      ]
     },
     "execution_count": 159,
     "metadata": {},
     "output_type": "execute_result"
    }
   ],
   "source": [
    "np.mean(percentage_of_positives_connected_positives)"
   ]
  },
  {
   "cell_type": "code",
   "execution_count": 160,
   "id": "2b116f97-23b4-4604-b0c5-c198eced278c",
   "metadata": {},
   "outputs": [
    {
     "data": {
      "text/plain": [
       "0.046713682391377694"
      ]
     },
     "execution_count": 160,
     "metadata": {},
     "output_type": "execute_result"
    }
   ],
   "source": [
    "np.mean(percentage_of_negatives_connected_positives)"
   ]
  },
  {
   "cell_type": "code",
   "execution_count": 161,
   "id": "fdcefca2-789a-4391-b32a-04e61deeba5d",
   "metadata": {},
   "outputs": [
    {
     "data": {
      "text/plain": [
       "0.13451004405073289"
      ]
     },
     "execution_count": 161,
     "metadata": {},
     "output_type": "execute_result"
    }
   ],
   "source": [
    "np.mean(percentage_of_positives_connected_negatives)"
   ]
  },
  {
   "cell_type": "code",
   "execution_count": 162,
   "id": "ff9ca9a2-13b5-43a4-b2d2-748629d5b470",
   "metadata": {},
   "outputs": [
    {
     "data": {
      "text/plain": [
       "0.1660846400013722"
      ]
     },
     "execution_count": 162,
     "metadata": {},
     "output_type": "execute_result"
    }
   ],
   "source": [
    "np.mean(percentage_of_negatives_connected_negatives)"
   ]
  },
  {
   "cell_type": "code",
   "execution_count": 163,
   "id": "92f1791f-919f-4e27-9ac1-f55e8c97ce6c",
   "metadata": {},
   "outputs": [
    {
     "data": {
      "text/plain": [
       "[[0.10415988218727924, 0.13451004405073289],\n",
       " [0.046713682391377694, 0.1660846400013722]]"
      ]
     },
     "execution_count": 163,
     "metadata": {},
     "output_type": "execute_result"
    }
   ],
   "source": [
    "confusion_matrix = [[np.mean(percentage_of_positives_connected_positives), np.mean(percentage_of_positives_connected_negatives)],[np.mean(percentage_of_negatives_connected_positives), np.mean(percentage_of_negatives_connected_negatives)]]\n",
    "confusion_matrix"
   ]
  },
  {
   "cell_type": "code",
   "execution_count": 164,
   "id": "e7db22a2-50ce-4069-87f2-c93dfe2a9992",
   "metadata": {},
   "outputs": [],
   "source": [
    "import seaborn as sn\n",
    "import pandas as pd\n",
    "import matplotlib.pyplot as plt"
   ]
  },
  {
   "cell_type": "code",
   "execution_count": 165,
   "id": "5f1d2bcb-f8df-46a6-a187-a586fdcd4e31",
   "metadata": {},
   "outputs": [
    {
     "data": {
      "image/png": "[encoded data removed]",
      "text/plain": [
       "<Figure size 720x576 with 2 Axes>"
      ]
     },
     "metadata": {},
     "output_type": "display_data"
    }
   ],
   "source": [
    "df_cm = pd.DataFrame(confusion_matrix, [\"positive\", \"negative\"], [\"positive\", \"negative\"])\n",
    "sn.set(font_scale=1.8) # for label size\n",
    "plt.figure(figsize=(10,8))\n",
    "sn.heatmap(df_cm, annot=True, annot_kws={\"size\": 16}, cmap=sn.color_palette(\"crest\", as_cmap=True)) # font size\n",
    "plt.show()\n"
   ]
  },
  {
   "cell_type": "markdown",
   "id": "3fbccf15-7960-419e-8dc6-de54610dbc1d",
   "metadata": {},
   "source": [
    "# Check coreness of the positives Vs. the negatives"
   ]
  },
  {
   "cell_type": "code",
   "execution_count": 209,
   "id": "a563a5fd-9412-485b-8caa-00216cc0e2f7",
   "metadata": {},
   "outputs": [],
   "source": [
    "import networkx as nx"
   ]
  },
  {
   "cell_type": "code",
   "execution_count": 210,
   "id": "27a947c2-55d1-4e15-88ab-645135efe5e8",
   "metadata": {},
   "outputs": [],
   "source": [
    "network_ones = network"
   ]
  },
  {
   "cell_type": "code",
   "execution_count": 211,
   "id": "7b0e05b7-0129-4c71-a522-0fb8cee4fed8",
   "metadata": {},
   "outputs": [],
   "source": [
    "for i in np.arange(np.shape(network)[0]):\n",
    "    for j in np.arange(np.shape(network)[1]):\n",
    "        if network_ones[i, j] != 0:\n",
    "            network_ones[i, j] = 1"
   ]
  },
  {
   "cell_type": "code",
   "execution_count": 212,
   "id": "b221a517-fb45-409f-9246-f1d4d024bac4",
   "metadata": {
    "tags": []
   },
   "outputs": [],
   "source": [
    "node_names = [ elem.decode(\"utf-8\") for elem in node_names[:, 1]]"
   ]
  },
  {
   "cell_type": "code",
   "execution_count": 213,
   "id": "84ea8634-cb31-4e5a-a559-345ac953d0c4",
   "metadata": {},
   "outputs": [],
   "source": [
    "G = nx.from_pandas_adjacency(pd.DataFrame(network_ones, index=node_names, columns=node_names))"
   ]
  },
  {
   "cell_type": "code",
   "execution_count": 247,
   "id": "d93fdd79-9366-4272-9262-62ca6e6b0bcb",
   "metadata": {},
   "outputs": [],
   "source": [
    "pos_indices = np.where(np.array(y_labels) == 1)[0]"
   ]
  },
  {
   "cell_type": "code",
   "execution_count": 259,
   "id": "1d16302c-e937-4035-a87f-dc7fbb98b7bc",
   "metadata": {
    "tags": []
   },
   "outputs": [
    {
     "data": {
      "text/plain": [
       "317"
      ]
     },
     "execution_count": 259,
     "metadata": {},
     "output_type": "execute_result"
    }
   ],
   "source": [
    "pos_names = []\n",
    "for index in pos_indices:\n",
    "    pos_names.append(node_names[index])\n",
    "len(pos_names)"
   ]
  },
  {
   "cell_type": "code",
   "execution_count": 256,
   "id": "699ac95b-1f8e-45c6-a13a-0629dac46ac8",
   "metadata": {},
   "outputs": [],
   "source": [
    "neg_indices = np.where(np.array(negative_set) == 1)[0]"
   ]
  },
  {
   "cell_type": "code",
   "execution_count": 258,
   "id": "b4c7016e-016a-4ba0-a7f6-577c2b471c29",
   "metadata": {},
   "outputs": [
    {
     "data": {
      "text/plain": [
       "951"
      ]
     },
     "execution_count": 258,
     "metadata": {},
     "output_type": "execute_result"
    }
   ],
   "source": [
    "neg_names = []\n",
    "for index in neg_indices:\n",
    "    neg_names.append(node_names[index])\n",
    "len(neg_names)"
   ]
  },
  {
   "cell_type": "code",
   "execution_count": 214,
   "id": "ad42869e-fa3e-4f1c-9e14-85a9a335e589",
   "metadata": {
    "tags": []
   },
   "outputs": [
    {
     "data": {
      "text/plain": [
       "255018"
      ]
     },
     "execution_count": 214,
     "metadata": {},
     "output_type": "execute_result"
    }
   ],
   "source": [
    "G.number_of_edges()"
   ]
  },
  {
   "cell_type": "code",
   "execution_count": 215,
   "id": "b1aa8650-e834-4040-a5b0-5a1979f0f377",
   "metadata": {},
   "outputs": [
    {
     "data": {
      "text/plain": [
       "5541"
      ]
     },
     "execution_count": 215,
     "metadata": {},
     "output_type": "execute_result"
    }
   ],
   "source": [
    "G.number_of_nodes()"
   ]
  },
  {
   "cell_type": "code",
   "execution_count": 216,
   "id": "ee39967f-499d-446e-80f7-534af55574c3",
   "metadata": {
    "collapsed": true,
    "jupyter": {
     "outputs_hidden": true
    },
    "tags": []
   },
   "outputs": [
    {
     "data": {
      "text/plain": [
       "NodeView(('PLIN3', 'ZNF281', 'CTNNB1', 'RFT1', 'OAS1', 'VKORC1', 'RPS6KA5', 'FA2H', 'RPL23', 'CSTB', 'DTL', 'MTA1', 'SLC30A5', 'WDR82', 'CAV2', 'BMS1', 'CARM1', 'LGALS3BP', 'CEACAM6', 'POLD1', 'TDP2', 'SND1', 'UBAP1', 'ERICH5', 'BTBD11', 'FXR2', 'INF2', 'CIAO2B', 'GSTZ1', 'RPP25', 'IDH2', 'HNRNPUL1', 'LUC7L', 'GMNN', 'ABCE1', 'REPS1', 'FLYWCH1', 'DUS3L', 'PAPSS2', 'LRRC8C', 'MRPL11', 'DNASE1L1', 'CAPZA1', 'PUM2', 'NDUFV2', 'KDM1B', 'CBX3', 'SRSF7', 'AURKB', 'MAPK8', 'GCC2', 'SPATA33', 'GFM1', 'TMEM263', 'SLC25A24', 'NSFL1C', 'TMEM14C', 'RACK1', 'ISYNA1', 'PDHB', 'IPO13', 'ACYP2', 'MYL12A', 'WDR36', 'DSG2', 'FAM160B1', 'KRTCAP2', 'TTC27', 'CUL3', 'CTTNBP2NL', 'SEC61A2', 'CBR1', 'MBD2', 'PDLIM2', 'HACD3', 'SAP18', 'RANBP3', 'ZCCHC7', 'KDM5C', 'GCLM', 'ATP6V1C1', 'C17orf75', 'WRNIP1', 'DVL2', 'ARL6IP6', 'BAZ1B', 'PSMA1', 'CSNK1G2', 'IGSF8', 'ZNF579', 'AP1B1', 'RBM39', 'MAGT1', 'COQ8A', 'PARP1', 'GPX2', 'DHX38', 'EEF1E1', 'AKR1B1', 'EXD2', 'ASF1B', 'CENPH', 'PSMG3', 'GBA', 'NAE1', 'HNRNPD', 'AASDHPPT', 'SELENOS', 'PTEN', 'RPL31', 'SCRN2', 'NOL12', 'CARD19', 'TAP1', 'QPCTL', 'GIT1', 'TACC3', 'DYNC1H1', 'POLR2H', 'MIOS', 'RPP38', 'PDCD10', 'NDUFS8', 'ATP5MF', 'ATR', 'DMAC2L', 'PDK3', 'RPSA', 'PSMC2', 'YBX1', 'IBTK', 'HSD17B4', 'KDSR', 'JMJD1C', 'CETN3', 'SLC39A6', 'UBQLN4', 'EXOSC7', 'CDKN2AIP', 'LYAR', 'CLGN', 'CHERP', 'POLR1E', 'SLC35D2', 'PVR', 'NCKAP1', 'TADA1', 'ATAD2', 'THYN1', 'MYO5C', 'CHD4', 'GLOD4', 'NDUFS4', 'MRPL12', 'COTL1', 'APPL1', 'FAU', 'BTF3L4', 'CPSF2', 'NCOA5', 'C12orf4', 'SHPK', 'BCLAF1', 'FAHD1', 'PEPD', 'TDRP', 'NBDY', 'FAM172A', 'RPL10A', 'C16orf58', 'SDCBP', 'WBP11', 'HSPA12A', 'PRKAA1', 'UQCRC2', 'ACP6', 'UTP15', 'MALSU1', 'RRP9', 'CHCHD3', 'HEXA', 'ATG101', 'DNAAF5', 'RPS11', 'ATL3', 'CLPTM1', 'SMPD4', 'LARP1B', 'RAB22A', 'DCUN1D5', 'TRAPPC11', 'SRSF5', 'EXOC3', 'ALDH7A1', 'PSPC1', 'ATAD3A', 'PRAF2', 'PI4K2A', 'EHHADH', 'NOLC1', 'FLRT3', 'RAB10', 'TMBIM6', 'GPATCH1', 'LMNB2', 'ZNF638', 'B3GAT3', 'CSK', 'MVD', 'LRP10', 'LGALS8', 'ZNF451', 'DCAKD', 'PRPF4B', 'GPN1', 'TECR', 'ITGA3', 'CIAPIN1', 'OPA1', 'NUMB', 'GPD1L', 'TOR1AIP1', 'AHR', 'CEMIP2', 'INTS10', 'LZTFL1', 'IFT74', 'SGMS2', 'TBC1D8', 'CCNK', 'SYPL1', 'RDH13', 'LGALS3', 'PKM', 'MRPS25', 'AFDN', 'FTL', 'PUM3', 'KHDC4', 'DUSP3', 'IRS1', 'ATP6V0D1', 'ITGB1', 'DNAJB1', 'PSMD10', 'CSRP2', 'NHSL1', 'SEC24B', 'CASK', 'TSEN54', 'HSPE1', 'FAM83G', 'GMIP', 'SRSF1', 'PIGK', 'ZNFX1', 'MPC2', 'AGR2', 'IDI1', 'VPS51', 'NSUN4', 'NPC1', 'CBX1', 'SLC7A1', 'ZMAT2', 'VIM', 'PTMS', 'SLC29A2', 'GINS2', 'TRMT112', 'MYO1B', 'CAPN5', 'MCM5', 'RABGAP1', 'ZDHHC13', 'SLU7', 'USP16', 'MRGBP', 'ORMDL1', 'PRMT3', 'BRD7', 'TNS4', 'CALCOCO1', 'RPLP2', 'RNFT1', 'FADS2', 'SLC37A3', 'HEATR3', 'RPS17', 'LDHB', 'RNF149', 'FEM1A', 'EID2', 'SF3A2', 'WDR48', 'CNN3', 'DDX20', 'MLF2', 'ME2', 'TM4SF20', 'CGAS', 'FAM120C', 'ZCCHC8', 'LGALSL', 'IKBKB', 'PSEN1', 'AHCYL2', 'ISOC1', 'EPS8L2', 'LAMP2', 'SLC25A15', 'STARD3NL', 'ICE2', 'CHMP4B', 'XRCC1', 'MISP', 'PRKRIP1', 'HLA-C', 'MYEF2', 'PPP2R1B', 'C1orf174', 'RNMT', 'MIEN1', 'SLC25A11', 'POLRMT', 'PRKCD', 'AARSD1', 'DCDC2', 'TBCB', 'POLR2L', 'CCDC124', 'PTBP2', 'GNG11', 'HNRNPAB', 'NUP93', 'MTA2', 'RPN2', 'DAB2', 'CENPF', 'AP1S1', 'LPCAT4', 'UBE2E3', 'MINPP1', 'EIF4H', 'STAU1', 'RRM1', 'ZPR1', 'ZC3HAV1L', 'CRAT', 'NDUFV1', 'CCDC51', 'DYNC2H1', 'PLAA', 'KLC1', 'RGS20', 'CIZ1', 'ISCA1', 'RCN2', 'MGAT2', 'URB2', 'PTPN12', 'NUMBL', 'NMI', 'FTO', 'CDAN1', 'ITPRID2', 'KAT7', 'RAC1', 'MSN', 'CSTF2', 'KIAA1191', 'UQCC1', 'CYP2U1', 'GLCE', 'CEP55', 'PRKAR2A', 'PPP2R5C', 'BCAS3', 'PSMD7', 'WIZ', 'NBEA', 'SELENOI', 'MID1', 'RPL26', 'MYO15B', 'LUC7L3', 'C1orf50', 'ERGIC2', 'KRAS', 'RRP1', 'TUBGCP2', 'NUP37', 'TNFAIP8', 'SEC24A', 'DHX30', 'ENO2', 'ADCY9', 'STMN1', 'DHX15', 'PITPNB', 'XRCC5', 'TBC1D13', 'POLR2B', 'DUSP11', 'BLOC1S2', 'ACBD6', 'COX17', 'PRPSAP1', 'CXXC1', 'RFK', 'RALGAPA1', 'CEP131', 'CPT1A', 'MID1IP1', 'ZDHHC5', 'PSMG2', 'PTDSS1', 'DAPK1', 'RNF40', 'PDE12', 'STRN', 'NEDD4L', 'IMPA2', 'TMEM208', 'NRG1', 'LLGL2', 'STX7', 'PDS5B', 'PHRF1', 'HARS2', 'ISCA2', 'F11R', 'SYNGR3', 'MAP2K3', 'RIPK2', 'RNASEH2A', 'MCM3', 'IFIT5', 'ASH1L', 'DEK', 'SLC2A1', 'MFAP1', 'UTP20', 'VPS29', 'TBC1D24', 'SKIV2L', 'SLC3A2', 'FECH', 'TIMM44', 'TFG', 'IFT172', 'SDAD1', 'DYNC2LI1', 'FDPS', 'FGFR1OP', 'FNDC3A', 'FIZ1', 'CTNND1', 'TBL1XR1', 'PSMB9', 'NDUFAF1', 'MRC2', 'TRAPPC12', 'TIMM8A', 'CEP170', 'MINDY3', 'P4HA1', 'MUC5AC', 'SNRPD2', 'MARF1', 'BAG6', 'ZNF592', 'GNAI3', 'CYP20A1', 'B4GAT1', 'LSM14B', 'NIT2', 'MTFMT', 'SH3D19', 'ITGB1BP1', 'FCF1', 'UBE2K', 'MAP2K7', 'SIPA1L1', 'ERGIC1', 'TUBG1', 'GPC1', 'MPP5', 'OXSM', 'LMNA', 'ATP5PO', 'NRIP1', 'PPM1B', 'NPEPPS', 'ALG9', 'BAG2', 'SLC35F6', 'HSP90B1', 'NADSYN1', 'IPO7', 'PPP2R5A', 'DCTN6', 'HINT1', 'MED14', 'MRPL39', 'AMD1', 'NIFK', 'THRAP3', 'ADD3', 'CYBRD1', 'GALE', 'KATNBL1', 'RASAL2', 'SUB1', 'RDH10', 'CHORDC1', 'HSDL1', 'SNRPE', 'RIC8A', 'EZH2', 'IVNS1ABP', 'NOP9', 'CAND1', 'FAM136A', 'ROCK2', 'ACOT8', 'MTUS1', 'SORD', 'DNAJA2', 'FIGNL1', 'HDAC6', 'CPOX', 'ARF5', 'FAM98C', 'ATE1', 'PDAP1', 'GCDH', 'GRB7', 'IFI35', 'WDR46', 'GTF2B', 'SAMD1', 'RBKS', 'RPL27A', 'BAZ1A', 'ERLIN2', 'PPP5C', 'EPHX1', 'EMC3', 'SLC12A2', 'AP2A1', 'PRR12', 'MIB1', 'ZC3HC1', 'EXOC6B', 'ZRANB2', 'ALDH1A1', 'SNRPB', 'SLIRP', 'ENTPD6', 'FN3KRP', 'LRRC57', 'VPS35L', 'NUDT2', 'DNAJB6', 'RFC4', 'PDE4D', 'DNAJC5', 'RPS6', 'CKMT1A', 'ADK', 'GTF3C4', 'B3GALT6', 'TPBG', 'DHCR24', 'DNAJB14', 'MED23', 'KIF18B', 'HMG20A', 'VLDLR', 'PRMT7', 'FAS', 'RPN1', 'XPNPEP1', 'MPDZ', 'RPL34', 'EWSR1', 'TAGLN2', 'HSPH1', 'LARP1', 'RELA', 'MTCL1', 'RPP21', 'UBE4A', 'SRSF9', 'PPP1R9B', 'PPA2', 'STRIP2', 'CDKAL1', 'TYMP', 'OFD1', 'HAUS7', 'OSBPL8', 'EP300', 'SPEN', 'CYB5R3', 'NMD3', 'TAF4', 'CD14', 'NME7', 'LASP1', 'MT-ATP6', 'PRPF6', 'FCHO2', 'TCEAL1', 'NUDCD1', 'ANP32B', 'EXOSC8', 'NAA10', 'SMARCAD1', 'NFIB', 'ERBIN', 'EHD2', 'DNAJC19', 'NAA30', 'NCOR2', 'THAP12', 'HNRNPA3', 'UPK1B', 'PTRH2', 'CTSH', 'DUT', 'KLHDC10', 'TCTN3', 'TTLL12', 'RFC5', 'ITPRIP', 'HECTD3', 'BID', 'PTGES2', 'AP2B1', 'COG2', 'STIM1', 'SEC62', 'VAC14', 'NPLOC4', 'CA12', 'NDUFB10', 'INPP4B', 'RAB32', 'CSTF2T', 'MAK16', 'MMP24OS', 'SMG8', 'BUD31', 'PPP4C', 'KTI12', 'COX5A', 'TTC19', 'TMED2', 'MRPS18A', 'INPPL1', 'SH3BGRL', 'LRBA', 'PTPRS', 'LIMA1', 'PIK3C2A', 'NIF3L1', 'TMA7', 'SMG6', 'L3HYPDH', 'MT-ND3', 'MRPS2', 'TUBA1C', 'MFSD10', 'CEP44', 'HNRNPR', 'MPZL1', 'FAM120A', 'LTA4H', 'C2orf49', 'SMG1', 'ZFYVE19', 'SMARCE1', 'LTV1', 'USO1', 'TRADD', 'PLCB1', 'LRRC41', 'YAE1', 'ASCC3', 'HAUS2', 'CFAP36', 'NIPA1', 'INTS9', 'TFAM', 'TEP1', 'METTL14', 'SPAST', 'ARRDC1', 'MAIP1', 'ZFAND5', 'FTH1', 'CCDC22', 'EIF1B', 'PIGBOS1', 'FTSJ1', 'SMIM26', 'UBE2E1', 'HNRNPL', 'PDCD6', 'ECI1', 'FABP5', 'HEATR5B', 'STT3A', 'MLEC', 'TP53I11', 'SPATS2', 'CC2D1B', 'CZIB', 'ALYREF', 'TTK', 'ATG13', 'GAA', 'SCARB2', 'SNRPB2', 'PCLAF', 'AKT1S1', 'PSMD6', 'RETREG2', 'CDK2', 'MRPL18', 'CYC1', 'CEBPZ', 'PPIL1', 'GINS3', 'SIRT6', 'SNRPA', 'COG4', 'COX6B1', 'KSR1', 'DGAT1', 'HNRNPA0', 'PCM1', 'NUP58', 'IMPACT', 'HNRNPH3', 'PATJ', 'PTPMT1', 'VIRMA', 'KIAA0355', 'GCN1', 'FARSB', 'SPINT2', 'ARHGAP18', 'MGRN1', 'MED11', 'MAVS', 'CD109', 'NUDT4', 'OTULIN', 'CEP250', 'STK24', 'TOMM22', 'IPO9', 'EML1', 'ZFAND6', 'ZMYND8', 'FAM98A', 'RAB3B', 'WWP2', 'CD3EAP', 'PON2', 'SIK2', 'ING1', 'PI4KA', 'GPRC5C', 'EIF3L', 'EDRF1', 'DAP3', 'IRS2', 'QKI', 'DPYSL5', 'COMMD10', 'KLHDC4', 'NEU1', 'MRRF', 'PSMD14', 'RPL6', 'IREB2', 'TSEN2', 'GDI1', 'SLC7A5', 'APTX', 'EIF3J', 'ACTR5', 'ELOA', 'TOP3A', 'LMCD1', 'CD151', 'RPL24', 'POLDIP3', 'KIF16B', 'GPR108', 'PPA1', 'PIN1', 'KIF5B', 'NUP98', 'MINK1', 'SVIP', 'PSMG4', 'HP1BP3', 'TBL3', 'OLA1', 'TRRAP', 'MTERF3', 'ANXA3', 'BROX', 'NRCAM', 'ATG3', 'GALNT1', 'CSNK2A1', 'DLD', 'DST', 'PSMD1', 'WDR6', 'TUFM', 'TNFRSF10B', 'PRKD2', 'SNTB2', 'TPD52L2', 'KIF14', 'RETREG3', 'B4GALT7', 'NDUFB4', 'FASN', 'TSPAN14', 'EHD1', 'SMG9', 'ERO1A', 'TENT4B', 'FAM234A', 'AATF', 'PI4KB', 'DECR1', 'MAN2C1', 'RABL6', 'PRKCA', 'ECT2', 'NCAPD2', 'TJP3', 'CREBBP', 'PERP', 'TGIF1', 'UCHL3', 'CNTN1', 'ING2', 'FH', 'RCCD1', 'DRAP1', 'SLC27A2', 'THG1L', 'RXYLT1', 'BYSL', 'UCKL1', 'LIMS1', 'XPNPEP3', 'SRPK1', 'OSBPL11', 'SHTN1', 'ANAPC15', 'OS9', 'CDC26', 'FNBP4', 'UNC93B1', 'B3GNT2', 'BRPF1', 'BABAM1', 'CIT', 'SUCLG2', 'CHRAC1', 'RPS27', 'MXRA7', 'UTP14A', 'LPCAT2', 'GDPGP1', 'PIGO', 'SMC6', 'DOP1B', 'NELFCD', 'GATAD2B', 'TDRD3', 'NR4A1', 'TMX4', 'TRIM24', 'ATP2C1', 'RABGGTA', 'SRSF6', 'FBXO22', 'BCAT2', 'STAMBPL1', 'NAGLU', 'CDK5RAP2', 'CNBP', 'PUM1', 'COPS5', 'PPM1A', 'KANK2', 'TBC1D2B', 'STK35', 'FN1', 'IKBIP', 'SNX6', 'LAMTOR1', 'IMPDH1', 'C9orf78', 'DICER1', 'ANXA11', 'TTI2', 'UFD1', 'S100A3', 'VPS18', 'SETD7', 'CCT7', 'ABHD11', 'PPP4R3B', 'CDCA2', 'IGF2BP2', 'POP4', 'NIPSNAP3A', 'RRAS', 'NAPG', 'TP53I3', 'FADS1', 'ANP32A', 'EVPL', 'LMAN2', 'PEX1', 'OSBP', 'ATP6V0A2', 'MIF', 'CMIP', 'NENF', 'BAG1', 'PSMB5', 'PPP1CB', 'MTPN', 'NF1', 'MRPL55', 'ASPSCR1', 'PEX6', 'NCSTN', 'S100A10', 'CISD2', 'KNTC1', 'HLTF', 'EEF1B2', 'HADHB', 'CTNNA1', 'DENND4C', 'ORC1', 'SEL1L', 'LAS1L', 'CNIH4', 'MED1', 'NDUFV3', 'CMTR1', 'RPS4X', 'PHACTR4', 'VEZF1', 'CNOT3', 'HERPUD1', 'ARHGEF10', 'NT5DC2', 'USP14', 'LAMTOR2', 'MTCH1', 'PPP1R7', 'LRP1', 'MRPS15', 'MRPS22', 'RIOK1', 'VPS37C', 'BPHL', 'DHX40', 'SEC24C', 'AIFM1', 'RTN4RL2', 'HDGF', 'ENO1', 'MTIF2', 'CAPN1', 'PGP', 'NFYA', 'GPATCH4', 'ZMYND11', 'FIBP', 'CHEK2', 'EIF4A3', 'NEO1', 'ARIH2', 'MTX2', 'APBB1IP', 'DPP7', 'DYNC1LI2', 'LIG1', 'EHD3', 'KIAA1522', 'ARHGAP29', 'SCFD1', 'MRPL14', 'ZMPSTE24', 'MAGI3', 'RNF213', 'PFDN1', 'GEMIN6', 'NDUFA10', 'MYD88', 'MTHFS', 'PIN4', 'SRPK2', 'SPC24', 'SASS6', 'NUB1', 'SACM1L', 'SH3GL1', 'CSTF3', 'RPL36', 'KHNYN', 'FAR1', 'SAR1B', 'IGSF3', 'RARS2', 'SUPT4H1', 'IGF2R', 'AKR1B15', 'SCRN1', 'DDAH1', 'BRMS1', 'NBR1', 'DCAF13', 'PPM1F', 'PDLIM7', 'EIF3F', 'CTNNBL1', 'TMEM237', 'BAIAP2', 'NUTF2', 'XXYLT1', 'FLYWCH2', 'PHB', 'CYB5A', 'MAPK7', 'PFDN6', 'MYO10', 'KIAA2013', 'CDH2', 'PAFAH1B2', 'RELCH', 'OPA3', 'ACBD3', 'LMO7', 'C1orf198', 'ARHGEF28', 'AKAP13', 'DDX1', 'MLKL', 'RSU1', 'ARID2', 'SELENBP1', 'IFT27', 'SF3B6', 'ATP6V1H', 'PNKP', 'NCBP2', 'MACF1', 'EIF2B2', 'YIPF4', 'WDR89', 'MRPS18B', 'MSRA', 'FANCG', 'C2orf72', 'GRIPAP1', 'EML4', 'SLC16A3', 'CYSTM1', 'CLP1', 'SLC2A3', 'NAP1L1', 'PFKFB2', 'CTU1', 'RBM22', 'PPP6C', 'ORC2', 'FAM91A1', 'AKTIP', 'MFN2', 'ELOVL1', 'HDAC7', 'SLC12A4', 'CUTA', 'MYO9B', 'P3H1', 'APH1A', 'AP1S3', 'RANBP10', 'PACSIN2', 'RAB14', 'MCTS1', 'GFM2', 'CPS1', 'UBTF', 'VANGL1', 'TOMM7', 'EIF2B1', 'TRAPPC3', 'PET117', 'PLCH1', 'PHGDH', 'LMAN2L', 'DDX23', 'CLASP2', 'NFXL1', 'HERC4', 'FASTKD5', 'SGPP1', 'AIDA', 'DDHD2', 'PIP4K2B', 'C17orf80', 'RPS13', 'DDX49', 'MYC', 'MRPS21', 'ENOPH1', 'TAX1BP3', 'KYNU', 'ZNF326', 'GULP1', 'AMDHD1', 'GSK3A', 'TXNRD2', 'ING5', 'FLVCR1', 'LDHA', 'ACAT2', 'GLDC', 'MGST3', 'TYW5', 'MNAT1', 'USP22', 'PSMD11', 'VPS37A', 'METAP2', 'HAUS6', 'UBL7', 'ATP6V1B2', 'RSPRY1', 'WDR13', 'ARID1A', 'EPHA2', 'WDR91', 'RPS26', 'FLAD1', 'FYCO1', 'CHD8', 'TASOR2', 'CSDE1', 'HMGA2', 'SNW1', 'GBE1', 'ASCC1', 'INTS3', 'HSPA4', 'MTMR6', 'CORO1B', 'MPDU1', 'PARN', 'HMGA1', 'STX17', 'LPIN3', 'VTA1', 'HEATR6', 'SPATA20', 'NSMCE3', 'PGRMC1', 'BCL2L13', 'SIN3A', 'TANC1', 'RAB23', 'TAF6', 'WDR61', 'SFXN3', 'EFR3A', 'MTHFD1L', 'ALG5', 'GNPDA1', 'STOML2', 'DCAF6', 'PPP1R8', 'NADK2', 'WIPI1', 'AKT1', 'GSTM3', 'RAB35', 'ITPR1', 'SUSD2', 'NRBP2', 'NCAPD3', 'EEF1D', 'SBDS', 'DSTN', 'GLO1', 'CPSF6', 'TOP2A', 'KNSTRN', 'INIP', 'C5orf22', 'MAPK14', 'UBXN4', 'GYG1', 'ADD1', 'YTHDC2', 'TPI1', 'CC2D1A', 'GALNS', 'LSS', 'NSL1', 'ZNF185', 'BUB3', 'CSNK1D', 'HNRNPF', 'MAPK1IP1L', 'KIF21A', 'APIP', 'EIF4G2', 'ANAPC4', 'HTRA1', 'PLP2', 'SERF2', 'TARBP2', 'COG6', 'MYO9A', 'AGFG1', 'ZFR', 'ARF1', 'CDK5RAP1', 'MPST', 'CTSC', 'UBE2N', 'EXOG', 'MACROD1', 'VPS4B', 'VMA21', 'NUF2', 'SLC39A10', 'SNIP1', 'VTI1B', 'VPS72', 'INTS5', 'RFX7', 'RPS29', 'PLAU', 'TXNDC9', 'UTRN', 'NIPSNAP2', 'HMGN5', 'DTX3L', 'ATG12', 'KPTN', 'RRM2', 'IRF2BP2', 'HPS5', 'MAP7', 'PRRC2B', 'GPRIN3', 'UQCC2', 'IL18', 'NUBP2', 'STK39', 'IAH1', 'EXOC7', 'NUP153', 'ADPGK', 'CUL1', 'UBE2G1', 'TOX4', 'SRI', 'SERINC1', 'ACSL1', 'ITGB4', 'RAD1', 'RPS27A', 'INPP5K', 'PKP3', 'SNX1', 'LSR', 'PHC3', 'RBM27', 'CAMSAP2', 'PPP4R1', 'CUL4B', 'RNF114', 'CCDC97', 'SAMHD1', 'PTPN1', 'PYGL', 'BNIP1', 'EEF2', 'SLC35E1', 'CHTOP', 'CAD', 'PAXIP1', 'SEC23B', 'NAA35', 'POLE', 'CCDC58', 'MKI67', 'CREG1', 'ORC3', 'NCAPG', 'MED8', 'FAF2', 'HSPA9', 'LAMTOR3', 'EXOSC9', 'HNF4A', 'MRPL40', 'INTS12', 'OSBPL3', 'EEF1A2', 'NUP50', 'COL7A1', 'SYNE2', 'AVEN', 'SRP14', 'BRCC3', 'DIAPH1', 'RPS16', 'WASHC5', 'NOP16', 'AFAP1', 'FERMT2', 'RPL32', 'GSTK1', 'LRRFIP2', 'CACNA2D1', 'KDM2A', 'PRR3', 'TSKU', 'APOL2', 'SNRNP200', 'POLR2D', 'GRK2', 'F2RL1', 'RPS23', 'MRTO4', 'GPD2', 'TBC1D22A', 'TUBB', 'MMUT', 'RAB4A', 'SEPHS1', 'TP53RK', 'RNF25', 'DCAF16', 'PML', 'SRP9', 'C19orf12', 'POGK', 'BLZF1', 'HNRNPDL', 'CAMKK2', 'METAP1', 'CCDC90B', 'DERL2', 'MRPS6', 'FXYD2', 'PMPCA', 'HNRNPA2B1', 'SPPL2A', 'SEPTIN7', 'EIF3E', 'GTF2F1', 'TXN2', 'RCC1', 'LRP12', 'HNRNPUL2', 'RRS1', 'ARHGAP5', 'CHMP2B', 'SLC20A1', 'CNPY3', 'TMEM106C', 'MIS12', 'PRPF38B', 'COL18A1', 'UFM1', 'PLEKHA1', 'TRIM65', 'CCS', 'CCNYL1', 'AFAP1L2', 'AP1M1', 'PEBP1', 'NSMCE2', 'SRSF10', 'ZNF787', 'GRAMD1B', 'PRKDC', 'APEX1', 'NT5E', 'EIF5', 'PDCD2', 'ALKBH5', 'WASHC4', 'DOCK4', 'PDLIM5', 'AHCTF1', 'RAN', 'SRPRA', 'ATP6V1A', 'TESC', 'CSNK2B', 'ARFGAP2', 'USP7', 'RRAS2', 'TGM2', 'UPF2', 'NTMT1', 'ITPK1', 'FAM162A', 'GPRC5A', 'R3HDM1', 'BICD2', 'PPP1R10', 'MRE11', 'CLTC', 'GADD45GIP1', 'TMOD3', 'DCTD', 'SF3B2', 'MRPL52', 'HADHA', 'SMNDC1', 'BCAS2', 'ZMIZ1', 'ZNF24', 'REEP6', 'HFE', 'METTL6', 'CEP112', 'ATP5IF1', 'KNOP1', 'RBM17', 'TRIM56', 'TMEM192', 'SERPINB9', 'AAK1', 'PTBP1', 'EIF2AK4', 'MIA3', 'RNF20', 'GPATCH11', 'PECR', 'RPF1', 'TBC1D17', 'IQGAP3', 'SMYD2', 'DCAF7', 'PES1', 'MFGE8', 'DDX19A', 'GNA11', 'GOLGA7', 'RGS10', 'YWHAB', 'PSMC4', 'COMTD1', 'RTN4', 'FAM169A', 'DERL1', 'KYAT3', 'ANXA4', 'LRPAP1', 'ZNF207', 'MCFD2', 'DDX10', 'TTC1', 'FOXK2', 'MCRIP1', 'COX7A2L', 'NSDHL', 'LAMB1', 'PLIN2', 'RACGAP1', 'NDUFC2', 'ATP6V1D', 'AP5B1', 'SCAMP2', 'COPS2', 'MTREX', 'NPTN', 'GDAP1', 'ALDH9A1', 'RIT1', 'ZC3H4', 'NFKB1', 'POT1', 'ZBTB45', 'SYNRG', 'SCO1', 'IKBKG', 'NDUFA6', 'SLC38A10', 'BECN1', 'FLNB', 'PAXX', 'HTRA2', 'APLP2', 'NBEAL1', 'VPS11', 'TTC39C', 'ITGA2', 'GCSH', 'GOLGA1', 'RPAP3', 'BIRC5', 'NVL', 'HIBADH', 'GNA13', 'OTUD4', 'HAUS8', 'OMA1', 'PSMA6', 'LYPLA1', 'AKAP1', 'ACTR10', 'CLPTM1L', 'LSM5', 'AK4', 'PPID', 'PRSS23', 'HMBS', 'HLA-A', 'ATG16L1', 'TSEN15', 'TXLNA', 'NAA20', 'DDX59', 'PLPP6', 'SLC1A4', 'NELFB', 'S100A4', 'COMMD2', 'TRMT5', 'RPA1', 'RHEB', 'RBM7', 'TERF2', 'SPECC1', 'PITRM1', 'RPL29', 'HKDC1', 'SUDS3', 'CPT2', 'ACAA2', 'SPTBN1', 'VPS35', 'SMAD3', 'XIAP', 'COQ7', 'SQOR', 'G6PD', 'EIF5A', 'APOBEC3B', 'CUL4A', 'ABCB7', 'SEC13', 'PABPC1', 'SAFB', 'TXN', 'SNRNP27', 'ATRX', 'CDC42SE2', 'CBX4', 'MRPL58', 'STK26', 'KYAT1', 'SCAF1', 'TPP1', 'COA7', 'MAP2K1', 'SRRM2', 'PEG10', 'MBOAT7', 'RBM12B', 'NFYC', 'RHOT2', 'DIS3L2', 'EXOSC2', 'C1QBP', 'SGPL1', 'ADI1', 'CALD1', 'DDX46', 'PLEKHF2', 'PPP2R5D', 'TMED5', 'UHRF1BP1L', 'LDOC1', 'MYH14', 'NSD1', 'HMGN1', 'NT5C', 'CERS2', 'FZD6', 'TMEM51', 'PNPLA6', 'KIAA1671', 'SEC61G', 'PM20D2', 'AP2A2', 'MTFR1', 'TIMM17A', 'PIP4P1', 'EXOSC1', 'RPE', 'SF3B5', 'ESD', 'PCNA', 'DPP9', 'LIN7A', 'NUDT1', 'RPL8', 'OSGEPL1', 'RSRC2', 'PON3', 'NDRG2', 'ZNRD2', 'SF1', 'MYO1C', 'RABGEF1', 'BUD13', 'ZC3H13', 'NUP155', 'LONP1', 'CLINT1', 'SRP72', 'PRKACB', 'RPL19', 'GOLGA2', 'TEX264', 'MRPL1', 'GORASP2', 'HEXB', 'SLC2A6', 'OTUD6B', 'SARM1', 'CDK12', 'SORT1', 'NUDT19', 'AGTRAP', 'MET', 'ASPH', 'EXOC4', 'SLC25A17', 'AP3B1', 'ANO10', 'RRBP1', 'NAPA', 'PSMA5', 'MED27', 'MED12', 'PCYT2', 'WDR26', 'ARL15', 'SNU13', 'SINHCAF', 'NABP2', 'PDCD6IP', 'UPF3B', 'TSSC4', 'SERPINE1', 'PRKAR1B', 'AHCY', 'PGM3', 'HDDC2', 'HNRNPH2', 'SMIM15', 'DR1', 'SYMPK', 'ABCC1', 'ATP5PB', 'ZNF512B', 'MAP4K4', 'SMAD6', 'COPG1', 'TMEM126A', 'SPP1', 'CCDC71L', 'SNX3', 'POLDIP2', 'WDR77', 'ANAPC7', 'EYA3', 'YIPF3', 'MMS19', 'SPINDOC', 'NCKIPSD', 'LMAN1', 'PSMD3', 'TLCD1', 'RRP12', 'ARMC6', 'TXNDC17', 'LAMTOR4', 'METTL1', 'RIC1', 'RAPGEF6', 'BAG5', 'MB', 'NRP1', 'CDC6', 'VPS8', 'STRBP', 'PHIP', 'AKAP8L', 'COG7', 'CPPED1', 'CPNE3', 'SLC35A1', 'CEP85', 'PSMC5', 'CDYL', 'RSAD1', 'ATP6AP1', 'ATP5ME', 'LSG1', 'SIRPA', 'P4HB', 'TRIM32', 'BLMH', 'DUSP23', 'FLNA', 'HMGN3', 'JPT2', 'BRD3', 'SNX9', 'PPP1R14A', 'GNB1', 'NUSAP1', 'HGS', 'ZCCHC9', 'CAMK2D', 'POLR2K', 'GCA', 'TRIP4', 'HSPBP1', 'FBLIM1', 'RRN3', 'RRM2B', 'TKT', 'SCAMP3', 'ZC3HAV1', 'UBA2', 'PPIC', 'BOLA1', 'ARPC5', 'ACSL4', 'KIF20B', 'TAX1BP1', 'SLC12A7', 'SCO2', 'C5orf51', 'ATP5PD', 'SGF29', 'CST3', 'GAPDH', 'RPL15', 'CAP2', 'NRDC', 'FTSJ3', 'WDR34', 'TNRC6A', 'TRIP13', 'PCNP', 'ILF3', 'BCKDHB', 'BAD', 'PSMD5', 'SMDT1', 'GALK1', 'SERPINE2', 'PIP4K2C', 'SURF4', 'YTHDF1', 'CCAR2', 'GOLM1', 'SLC27A4', 'PLOD1', 'FNDC3B', 'SMC4', 'HDAC3', 'GABPA', 'GDAP2', 'MAFG', 'SPAG7', 'SLC39A11', 'AIP', 'PTCD1', 'SCRN3', 'PNPT1', 'ISG20L2', 'MLLT3', 'MELK', 'PCYOX1', 'SHMT1', 'PBDC1', 'GZF1', 'VRK3', 'TM9SF2', 'NEMP1', 'PRMT1', 'BAG4', 'LARP7', 'PTPN9', 'COMMD7', 'MED24', 'IDH3A', 'MAP3K20', 'TFB2M', 'EIF2AK2', 'COPS7A', 'ACIN1', 'QTRT1', 'MVK', 'OGDH', 'COX7C', 'SEH1L', 'YTHDC1', 'NTPCR', 'TADA2B', 'LMNB1', 'SEPTIN9', 'GTF2A1', 'DHRS7B', 'PLXNB2', 'SDC4', 'DPF2', 'STAT3', 'PCBP2', 'RAD9A', 'BUB1', 'MRPS31', 'EIF4A1', 'HOMER1', 'LARP4B', 'TNFAIP2', 'SUGT1', 'CFAP298', 'PTPRJ', 'NNMT', 'ARMH3', 'NOM1', 'EXOSC6', 'COG1', 'SH3PXD2B', 'PLBD2', 'RPS3', 'CHP1', 'STX18', 'COX16', 'IFRD1', 'NUFIP2', 'TANK', 'CTIF', 'PSPH', 'DDX50', 'PHF5A', 'UQCRB', 'PSMA2', 'SORBS3', 'RPA2', 'PRRC2A', 'LIMCH1', 'OGFR', 'MAPRE2', 'CD9', 'ARPC2', 'PSMB1', 'CLIP1', 'GPCPD1', 'RABEP2', 'TOR1B', 'CSNK1E', 'HNF1A', 'MAP7D3', 'ZC3H18', 'HIP1', 'EHBP1', 'GNAI1', 'ERLEC1', 'SCAF8', 'BCL9L', 'TTC28', 'POLE3', 'GATD1', 'CENPK', 'PEX14', 'GTF2I', 'NFYB', 'ECHS1', 'NSUN2', 'DDHD1', 'COPRS', 'ACAA1', 'ERRFI1', 'NUDT9', 'PSMD13', 'PRIM2', 'NOSIP', 'HSD17B12', 'PPP2R2A', 'KMT2B', 'U2SURP', 'CAPG', 'ITCH', 'FUNDC2', 'CGREF1', 'SNX2', 'WIPF1', 'NDFIP1', 'NDUFB6', 'TAF15', 'ALDH3A1', 'YAF2', 'RPL18A', 'NSD2', 'PSMA4', 'IGHMBP2', 'IRAK1', 'HELZ', 'ALKBH8', 'ACBD4', 'ASAP1', 'PRKCSH', 'NDFIP2', 'CLCC1', 'DSN1', 'RHOG', 'PPP6R1', 'PDCL', 'GCLC', 'PXN', 'ARPC4', 'ARMCX3', 'EMC4', 'ARPC1B', 'TLE1', 'GOSR2', 'TCEAL4', 'RTN3', 'PA2G4', 'PPOX', 'KIF2A', 'UBE2T', 'TCF25', 'PPL', 'P3H4', 'ADSL', 'ZFYVE27', 'ARPC3', 'TSC22D1', 'CUX1', 'LPAR1', 'ABHD14B', 'CDC45', 'VAMP3', 'MAP2K6', 'WDCP', 'AMFR', 'GID8', 'GEMIN2', 'CIRBP', 'EEFSEC', 'HMGN4', 'DTWD2', 'HSD17B8', 'INTS1', 'FAH', 'ADNP', 'PPP2R5E', 'TEX10', 'UNC45A', 'MAP1S', 'FNBP1L', 'INTS11', 'LENG1', 'MEN1', 'RBM47', 'COX5B', 'RIDA', 'BORCS5', 'MGAT1', 'TMEM115', 'RIF1', 'SPAG1', 'CNPY4', 'NCK1', 'NAA38', 'RAB1B', 'RPP25L', 'NCBP1', 'AGAP1', 'LARP4', 'GRSF1', 'RPL14', 'DOCK7', 'MUC5B', 'ASB3', 'CLIC1', 'SDHB', 'ETV6', 'TMEM11', 'DNM1', 'SRRM1', 'GCFC2', 'HSP90AB1', 'LRRFIP1', 'PHLDB1', 'ABR', 'THEM6', 'TRMT2A', 'FKBP10', 'GOLIM4', 'CHAMP1', 'TMEM165', 'SFSWAP', 'FARSA', 'GLI2', 'IFT22', 'LIPA', 'SUZ12', 'SSR4', 'CASP6', 'AGFG2', 'DHFR', 'TMEM128', 'ICMT', 'POLR2G', 'PPIG', 'ATAD1', 'USP47', 'VCP', 'MYBBP1A', 'GABARAPL2', 'DYNLL2', 'SMAD2', 'OSBPL9', 'PDHA1', 'UNC13D', 'PMM2', 'PPP4R3A', 'SNX18', 'SOD1', 'GNB5', 'NOTCH3', 'DCAF11', 'OPLAH', 'CEPT1', 'D2HGDH', 'AKR1C3', 'WRAP53', 'PSMD9', 'SCAF11', 'RBM10', 'SERPINH1', 'PDS5A', 'DFFB', 'ELMO2', 'LAP3', 'ANAPC2', 'ENDOG', 'PACS1', 'ELP6', 'MGA', 'TNFRSF10A', 'LRSAM1', 'CSTF1', 'SEPTIN10', 'NEIL2', 'PRUNE1', 'RPP40', 'RPS25', 'PFDN2', 'RPS27L', 'MAPT', 'CDR2L', 'SZRD1', 'RPL22L1', 'CCDC25', 'PDCD5', 'SRA1', 'MICAL3', 'NONO', 'COX11', 'CHMP6', 'RPL11', 'ABT1', 'RALGAPB', 'EXOSC10', 'SLAIN2', 'NDUFAF7', 'CLTB', 'CDKN1A', 'PPWD1', 'ABCD3', 'LMF1', 'EMSY', 'GON7', 'RPL38', 'MAP2K5', 'WDR55', 'DTYMK', 'TMEM41A', 'MBD3', 'HNRNPM', 'CDH1', 'SF3A1', 'HDGFL3', 'ITSN2', 'DDA1', 'CNOT11', 'TUBB4B', 'RAB5B', 'BNIP3', 'SGCE', 'EIF4E2', 'ESYT2', 'GOLPH3', 'EPN2', 'CD99L2', 'M6PR', 'RBM4', 'PDE3A', 'TWF2', 'FKBP8', 'TUBGCP5', 'SDF2L1', 'GALNT7', 'PPCS', 'PFDN4', 'RANGAP1', 'PXMP2', 'SMARCA1', 'CPSF3', 'SRM', 'C12orf10', 'RBM8A', 'PC', 'TMEM205', 'PPM1H', 'PLA2G4A', 'TSC22D4', 'KANSL3', 'TFIP11', 'CDC42BPB', 'RPL13', 'THUMPD3', 'DDX5', 'XRN2', 'MADD', 'ZNF512', 'PALLD', 'DPH6', 'CAPRIN1', 'STT3B', 'EIF3K', 'RBM5', 'TMEM87A', 'EFNA5', 'MCMBP', 'B4GALT1', 'TMEM39A', 'TALDO1', 'OGA', 'TNPO3', 'NEPRO', 'TYMS', 'UBE3C', 'MT-ND5', 'USP5', 'MBNL1', 'NDRG3', 'EIF2S1', 'PAPOLG', 'MB21D2', 'RBM26', 'SLC1A5', 'DDX41', 'STAT1', 'RABIF', 'PIGU', 'PDPR', 'JMJD6', 'ANO6', 'MMAB', 'ECPAS', 'STAU2', 'NT5C3B', 'DMXL2', 'IFT81', 'SFXN1', 'PDE6D', 'NUP205', 'PRRC2C', 'TSG101', 'SMU1', 'JAK1', 'MON1B', 'KIAA0100', 'ERAL1', 'MFF', 'PHAX', 'GNPAT', 'MRPL42', 'PYM1', 'TPMT', 'SF3B4', 'ATP11C', 'RPL21', 'SOCS6', 'MRPL22', 'CBX5', 'XPOT', 'R3HCC1', 'KHSRP', 'RCC2', 'KDELR1', 'PAPSS1', 'PURB', 'PNMA2', 'ANXA13', 'PRDX3', 'HGD', 'SELENOF', 'MRPS35', 'TERF2IP', 'MALT1', 'GINS4', 'SH2D4A', 'PKN1', 'TMEM209', 'ACP2', 'SLC35B2', 'HSPB11', 'MAPK1', 'COPS3', 'FAM219A', 'PLPBP', 'SMIM7', 'RABGGTB', 'ERCC2', 'SETD3', 'LZIC', 'SHANK2', 'DHX33', 'ACOX3', 'UBA3', 'RUVBL2', 'LCMT1', 'UBR1', 'PSME1', 'PUDP', 'PDIA3', 'CNOT9', 'RDH11', 'MCAT', 'PLS3', 'ELF1', 'ZC3H8', 'CLCN7', 'CPLX2', 'GPHN', 'RAI14', 'LYRM7', 'DDX18', 'MECP2', 'RBFOX2', 'ARFGEF2', 'GLRX5', 'SEC61A1', 'NKRF', 'CD2BP2', 'GOLGA4', 'YIPF5', 'DFFA', 'ZW10', 'ACTR1B', 'PFKL', 'ETFA', 'PRDX4', 'XPO6', 'TMEM59', 'DDX51', 'CIAO3', 'COX6C', 'TM9SF4', 'HSPA5', 'PCYT1A', 'GNAI2', 'TSPAN3', 'GALK2', 'FOCAD', 'GOLPH3L', 'TIMM10', 'RPS18', 'ACE2', 'TMA16', 'MOSPD2', 'EEF1AKNMT', 'THOC1', 'COQ5', 'MEAK7', 'YTHDF3', 'MRPS12', 'WDHD1', 'ALDH4A1', 'TPRG1L', 'CWF19L1', 'NUP54', 'ARHGAP35', 'EIF3C', 'PHF10', 'PODXL2', 'CNP', 'CHCHD4', 'IQGAP2', 'AK1', 'GNL3L', 'SMARCA5', 'GOPC', 'CDK16', 'PEAK1', 'ESRRA', 'FUCA2', 'ANXA7', 'PCIF1', 'NECAP2', 'PPP1R12B', 'CCDC50', 'PSMF1', 'FBXO21', 'ERMP1', 'LUZP1', 'UBE2J1', 'RALY', 'CDIPT', 'SIRT3', 'TRIM21', 'TP53BP1', 'C12orf45', 'TCEANC2', 'ZNF277', 'RAB34', 'MVP', 'PPIL2', 'DPM1', 'MCM3AP', 'STK38', 'GSS', 'SETD1A', 'ZMYM3', 'ANAPC1', 'KIF4A', 'ASAH1', 'RNH1', 'ANKFY1', 'ZC3H7B', 'WDR5', 'NUP35', 'DNAJC13', 'SETD2', 'ETF1', 'MOCS3', 'COG5', 'RPS15', 'PGM1', 'RAD23B', 'AP4E1', 'ZWINT', 'MFN1', 'KPNB1', 'TSC2', 'CPSF7', 'STEAP3', 'SLC39A9', 'CCT3', 'ATP1B3', 'TOMM20', 'EFL1', 'CCDC6', 'KPNA3', 'SCML2', 'INA', 'NSD3', 'RDH14', 'TMEM256', 'SPAG5', 'ARL8B', 'LDAH', 'ATP5F1C', 'DSP', 'SRBD1', 'ANKRD17', 'TRIP12', 'VPS28', 'METTL5', 'RPS2', 'LGALS1', 'SAAL1', 'LLGL1', 'RPL10', 'MAGOHB', 'MCCC1', 'RPS9', 'PITHD1', 'RIPK1', 'RNF19A', 'DYNC1I2', 'NCS1', 'NACC1', 'POLR3C', 'TMEM179B', 'AP3D1', 'POLR3D', 'IGF2BP3', 'SLC25A13', 'YWHAE', 'VAPA', 'NRP2', 'VAMP8', 'MRPL45', 'GTF3C1', 'SYNPO', 'CCDC134', 'SPRY4', 'NF2', 'SEPTIN6', 'THUMPD1', 'CTTN', 'SSB', 'UBLCP1', 'FDFT1', 'UMPS', 'TRMT1', 'PRKAG1', 'BTBD2', 'TOMM40', 'HCFC1', 'ABCC4', 'GTPBP10', 'CHUK', 'ASCC2', 'TCIRG1', 'CRIPT', 'PRPF4', 'USP48', 'MDC1', 'CCDC127', 'ADA', 'DDX28', 'MRPS30', 'BABAM2', 'NEK7', 'BOLA3', 'ACOT7', 'DHX9', 'RECQL4', 'LYPLA2', 'GSN', 'IPO8', 'BUD23', 'IK', 'CKAP5', 'CASP2', 'TUBB4A', 'MRPL41', 'HINT2', 'RAD54B', 'THOC6', 'PLEKHA6', 'CCNB2', 'DHX37', 'UPP1', 'LARS2', 'PREB', 'UBAC1', 'TSR1', 'ZEB1', 'SEC63', 'NGLY1', 'VPS13C', 'BRI3BP', 'CENPV', 'CRYL1', 'TST', 'PSEN2', 'RPL7L1', 'SIRT1', 'ATXN7', 'UHRF1', 'ATG14', 'ZZEF1', 'NUCKS1', 'SYF2', 'PLGRKT', 'CRLF3', 'DAD1', 'FAM50A', 'APMAP', 'RHBDF2', 'TIMM29', 'SPTLC2', 'INTS4', 'LIN9', 'CD44', 'SLC41A3', 'AHNAK', 'C7orf50', 'CDK5RAP3', 'POLR2M', 'MLST8', 'POLR3A', 'DNAJC21', 'MRFAP1', 'ERCC4', 'PDCL3', 'PAAF1', 'APEH', 'PTPN11', 'MBP', 'PGM2L1', 'TAP2', 'PICALM', 'SRCAP', 'NOL3', 'ZNF706', 'KIDINS220', 'SIRT2', 'VDAC2', 'GTF2H3', 'YWHAG', 'TRIM27', 'UGGT1', 'TFRC', 'TJP1', 'TMPO', 'ALKBH2', 'MED15', 'SLC25A4', 'GLYR1', 'EZR', 'TMCO1', 'GMPPB', 'SNX12', 'TOMM5', 'TBCA', 'REXO2', 'DDX17', 'ME1', 'TMEM214', 'ASRGL1', 'AGRN', 'ERCC6L', 'PFDN5', 'DNAJC17', 'STXBP3', 'RAB18', 'MICU1', 'THOC2', 'TPT1', 'CXorf56', 'GEMIN5', 'HSD17B7', 'RPS12', 'GTF2E1', 'VPS16', 'GSDME', 'RRP15', 'NXN', 'MTERF4', 'GNL1', 'TMED1', 'NECTIN3', 'DAG1', 'COX4I1', 'MEA1', 'NAGK', 'RABEP1', 'RBFA', 'FBXL20', 'ATP13A3', 'SLK', 'ENO3', 'TMEM259', 'ACTR3', 'HS1BP3', 'STRA6', 'PMVK', 'SUCLA2', 'HMCES', 'ADGRL2', 'TM9SF1', 'GRPEL1', 'APOO', 'MRPL28', 'TTYH3', 'THOP1', 'SEC14L2', 'CXADR', 'H6PD', 'DYNLRB1', 'TAMM41', 'HEBP1', 'CCND3', 'UQCRQ', 'MRPS33', 'LEO1', 'BEND3', 'SYAP1', 'PSMD4', 'PREP', 'TOM1L2', 'ANXA1', 'OTUD5', 'TRMT1L', 'TFPI2', 'RNF170', 'PRPF8', 'THADA', 'PLCB4', 'PLK1', 'XAB2', 'MYH9', 'CANT1', 'ERP44', 'PAK1IP1', 'SMARCB1', 'COX6A1', 'POLE4', 'TMEM41B', 'PYGO2', 'GPATCH2', 'ASF1A', 'FNTB', 'DNAJC9', 'LTN1', 'SSNA1', 'COPZ1', 'DDB1', 'FAM177A1', 'WDR62', 'RTCA', 'UBE2B', 'HMGB3', 'TTC37', 'PPP1R18', 'GATAD2A', 'BCAP31', 'RNPS1', 'ULK3', 'NIPBL', 'MRPL44', 'CTSD', 'YLPM1', 'TIAL1', 'SUMF1', 'DARS2', 'COMMD6', 'RIOK3', 'UVRAG', 'SMC2', 'TDRD7', 'CCDC88A', 'RPIA', 'EPS8', 'POLA2', 'GPX8', 'STK11IP', 'UAP1L1', 'EIF1AD', 'VCL', 'USP6NL', 'PAGR1', 'FUS', 'LDLRAP1', 'TUBGCP4', 'CCNH', 'G3BP1', 'RPS3A', 'CHTF18', 'RP2', 'ADAM9', 'UBE2O', 'RING1', 'XRCC4', 'MAT2A', 'GABRB3', 'RBCK1', 'THOC3', 'DYNC1LI1', 'FKBP11', 'HSCB', 'AAMP', 'CHD1L', 'SLC12A6', 'ODR4', 'EBP', 'SSR2', 'PAN3', 'GNL3', 'ABCF3', 'CCDC91', 'PROCR', 'SLC20A2', 'DDX56', 'WDR4', 'SNAPIN', 'RETSAT', 'EIF3G', 'SEPHS2', 'HIGD1A', 'RPAP2', 'RAB13', 'PLOD2', 'MRPL32', 'ARAP1', 'STAT5B', 'AURKA', 'CYB5B', 'AGPS', 'EFHD2', 'BTAF1', 'ATXN3', 'ABHD10', 'PLD3', 'HPCAL1', 'PSMC3IP', 'POF1B', 'RTCB', 'NCOA3', 'MCU', 'NFKBIB', 'LRRC1', 'COG3', 'SCARB1', 'ZNF830', 'CBR3', 'NSUN5', 'MRPL16', 'GSE1', 'ADD2', 'SCRIB', 'CHEK1', 'METTL15', 'DPY19L1', 'SMC1A', 'SYNE1', 'HIBCH', 'FAM241B', 'NOC4L', 'GAPVD1', 'NSMCE1', 'BZW1', 'COIL', 'RPS8', 'OTUB1', 'RAB3GAP2', 'TCF12', 'KLC4', 'CASKIN2', 'DIS3', 'MORF4L2', 'PPP1R12C', 'CDK7', 'SH3BGRL3', 'SNF8', 'NUDCD2', 'IMP3', 'DCTN1', 'DNAJA1', 'TMEM30A', 'DNAJB4', 'RAP1GAP', 'PEX5', 'ENOSF1', 'WAC', 'NCEH1', 'CHMP7', 'ATP5F1D', 'PIP4K2A', 'EHMT2', 'CDK6', 'ME3', 'SMARCD1', 'EDF1', 'RPAP1', 'SLC26A2', 'KCNAB2', 'CAVIN2', 'RNF14', 'APOBEC3C', 'GSK3B', 'WDR1', 'KIF3A', 'VCPIP1', 'UBE2E2', 'SAPCD2', 'PCF11', 'GATM', 'SH3GLB2', 'CMBL', 'POLR2E', 'DNAJC2', 'SEC11A', 'LUC7L2', 'EIF3H', 'CSNK1A1', 'DHX36', 'GPS2', 'VRK2', 'SP100', 'CHD3', 'AIMP1', 'NDUFAF4', 'BORCS6', 'MGME1', 'MT-ND4', 'PHF23', 'CD46', 'CAAP1', 'NPC2', 'POLA1', 'TARDBP', 'TIMM50', 'IGFBP4', 'MT-CO2', 'PIH1D1', 'SREK1', 'IPO4', 'KDM3B', 'YME1L1', 'CMPK1', 'PQBP1', 'CNNM4', 'TMEM138', 'RAB21', 'UTP3', 'POLR1B', 'TOMM70', 'TMEM50A', 'SNRPA1', 'RNASEH1', 'QRICH1', 'ANKRD40', 'DPP3', 'GLG1', 'RMI1', 'CCDC43', 'HEXIM1', 'CRKL', 'GIGYF2', 'LRCH1', 'ECHDC1', 'COX15', 'SEC31A', 'MAZ', 'SURF1', 'RAB11B', 'PGM2', 'RBM34', 'PPP1R35', 'LGR4', 'BORCS7', 'GLA', 'SLC35B1', 'DDX52', 'DNASE2', 'CTDSPL2', 'BAG3', 'SCAMP4', 'FHL1', 'VASP', 'MRPS11', 'CHURC1', 'CENPX', 'SLTM', 'LAMA5', 'RANBP1', 'SCAF4', 'EIF3M', 'SPTAN1', 'TSN', 'URI1', 'MRPL13', 'EMC1', 'AAAS', 'PKP4', 'RHBDD1', 'STK10', 'VIPAS39', 'MAPRE1', 'VPS50', 'GGCT', 'DNMBP', 'EXOSC3', 'PTBP3', 'MICALL1', 'CHD9', 'PNPO', 'TCAF1', 'NME3', 'SEC16A', 'VMP1', 'CHMP1A', 'DRG1', 'BAIAP2L1', 'FAHD2A', 'FKBP3', 'KDM1A', 'VPS33B', 'AGO2', 'PSIP1', 'NFKB2', 'NEDD4', 'SSR1', 'POM121', 'UTP6', 'AFTPH', 'USP39', 'SEC24D', 'YIPF1', 'PYCR3', 'SLC4A1AP', 'SMARCAL1', 'TAOK3', 'UBFD1', 'PKN2', 'TBC1D15', 'STRN3', 'KIF13A', 'REPIN1', 'SLC66A3', 'SIL1', 'NSRP1', 'TMEM38B', 'SCPEP1', 'RBM19', 'HDLBP', 'GNS', 'WASL', 'S100A16', 'RBM45', 'GMPS', 'UBE2L6', 'UBXN7', 'PFN2', 'KIF1B', 'CYFIP1', 'ZKSCAN1', 'TMED10', 'P3H2', 'PAF1', 'KPNA6', 'ZNF574', 'METTL18', 'USE1', 'GLRX2', 'NOP53', 'CANX', 'RIPOR1', 'TOR4A', 'ZNF618', 'CTSL', 'POFUT1', 'AP4B1', 'PARP4', 'SAE1', 'HMGB2', 'SPR', 'PHLDB2', 'HCCS', 'SLC25A3', 'TSTA3', 'PARVA', 'GANAB', 'SPC25', 'SFT2D2', 'FOXJ3', 'BOP1', 'SLC22A5', 'RER1', 'UBXN8', 'ISOC2', 'NARS2', 'VDAC3', 'CDK1', 'ALCAM', 'PDZD8', 'DYNLL1', 'CSRP1', 'ZADH2', 'DPH1', 'ARHGAP21', 'TNPO2', 'ADAR', 'PPME1', 'NDUFA9', 'TMX3', 'BCL10', 'ATG7', 'GSDMD', 'TRIOBP', 'OGFOD1', 'ATP5PF', 'NUDT15', 'KCTD15', 'CCDC9', 'SGTA', 'EMC6', 'SDHD', 'ANLN', 'TMEM245', 'TRA2B', 'DIMT1', 'SSU72', 'EIF2B4', 'PAK4', 'MOB4', 'GYS1', 'ITGB5', 'MTOR', 'WDR11', 'SLC9A3R1', 'AQR', 'CCT8', 'NFKBIA', 'BOD1', 'TRNAU1AP', 'ATP6V1G1', 'ADGRG2', 'ADAM10', 'SMIM20', 'BZW2', 'FBXW9', 'POR', 'TMCO3', 'CSE1L', 'BLM', 'FKBP15', 'DDX54', 'CALR', 'SERPINB6', 'MLH1', 'FAM98B', 'VRK1', 'EARS2', 'LYPLAL1', 'RFC3', 'HNRNPA1', 'ERAP1', 'MKRN2', 'GINS1', 'TMEM230', 'ITPR3', 'RRP8', 'PYGB', 'BRD4', 'CHMP5', 'MYO19', 'MAPKAP1', 'USP11', 'GNG5', 'G3BP2', 'N6AMT1', 'SIPA1L3', 'RABEPK', 'THOC7', 'RPS14', 'WDR76', 'TMEM9', 'MOV10', 'MLLT11', 'DPYSL2', 'PHB2', 'SRGAP2', 'RPL23A', 'GLB1', 'APP', 'DHCR7', 'CACYBP', 'MYADM', 'MPHOSPH6', 'DUSP12', 'MYDGF', 'CENPM', 'RBM33', 'TRIP11', 'SACS', 'UGDH', 'PPP2R1A', 'MASTL', 'UFL1', 'UBA6', 'STOM', 'PANK4', 'TMEM199', 'RNF214', 'ZC3H14', 'SUGP1', 'ANKRD54', 'UBE2L3', 'AKR1C1', 'SHCBP1', 'TAOK2', 'SZT2', 'PTPN2', 'CASTOR2', 'IMMT', 'FANCD2', 'PAWR', 'WDFY1', 'ARHGDIA', 'NOL7', 'ENDOD1', 'WIPF2', 'ATP5MD', 'GPAA1', 'MED31', 'VPS45', 'HDAC2', 'PHF8', 'BCAS1', 'PPHLN1', 'PEX19', 'C2CD5', 'STX12', 'PPP2CA', 'SEC22B', 'PHLDA1', 'STAG2', 'VPS33A', 'SMAP1', 'TIMM17B', 'PLEKHH1', 'XRN1', 'GPS1', 'KIFC1', 'CERS5', 'ARRB1', 'COASY', 'CARMIL1', 'STX4', 'PSMD2', 'ABRAXAS2', 'NUP160', 'SEPTIN8', 'ARFGEF1', 'SON', 'ABI2', 'AGO4', 'GNL2', 'EPS15L1', 'LPP', 'PPM1G', 'RHPN2', 'PPFIBP2', 'PNN', 'PDCD11', 'SOAT1', 'MAT2B', 'HSPA8', 'ACSF2', 'DNTTIP2', 'CRTC3', 'SBF1', 'MFSD1', 'TMEM102', 'TBCD', 'SIGMAR1', 'CMAS', 'SRSF4', 'HNRNPU', 'CGGBP1', 'TDRKH', 'PRPF40A', 'NOP10', 'PSMA7', 'SLC44A1', 'UBL5', 'NDUFAB1', 'RPL18', 'UNG', 'PPIE', 'LITAF', 'MAPK3', 'TTC33', 'ERH', 'REXO4', 'EXOC2', 'AKR1B10', 'MPRIP', 'LANCL1', 'CDC23', 'PDXDC1', 'ILVBL', 'RPA3', 'EDC4', 'NELFA', 'TTC17', 'TMSB4X', 'KCTD18', 'GGA1', 'L2HGDH', 'NUP188', 'CLPP', 'NDUFB8', 'DDX39A', 'EEF1A1', 'MEMO1', 'PELP1', 'RPS15A', 'ACLY', 'DPYSL3', 'PIK3C3', 'RYBP', 'UBE2M', 'COPA', 'SMCHD1', 'TBPL1', 'TRAM1', 'CBX8', 'DDX6', 'NQO1', 'AK3', 'PRPS2', 'B4GALNT1', 'PAIP1', 'CTPS1', 'MAN2A1', 'YRDC', 'ABLIM1', 'RBMS1', 'TRIO', 'TSEN34', 'KRR1', 'NUCB2', 'UFC1', 'KIAA0319L', 'HPF1', 'COPS6', 'RASA1', 'SRR', 'EP400', 'DAP', 'IWS1', 'MMGT1', 'AKR1A1', 'NUDT16L1', 'SLC29A1', 'PLPP1', 'CACUL1', 'EHD4', 'TRIAP1', 'GMPPA', 'AAGAB', 'USP8', 'RDX', 'RIN1', 'FMNL2', 'DCBLD2', 'RPP14', 'INTS13', 'MCM6', 'MCM2', 'GOLGA3', 'U2AF2', 'ZNF346', 'RPLP0', 'DNAJB12', 'UBXN6', 'GART', 'ZCRB1', 'ZNF598', 'MSH3', 'USP25', 'GALM', 'RBBP6', 'CLNS1A', 'ELP3', 'GEMIN8', 'YIF1A', 'PRDX5', 'SMARCA2', 'C8orf37', 'RNASEH2C', 'FNBP1', 'ABL2', 'PDIA5', 'SDE2', 'EED', 'SLC25A22', 'ALG8', 'PLCG1', 'PUF60', 'OTUD7B', 'UACA', 'WASHC2C', 'PRPF38A', 'DLAT', 'PUS7L', 'HNRNPH1', 'SRPRB', 'SMARCC2', 'MDH2', 'TRMU', 'PHC2', 'FOXK1', 'ERI1', 'RASSF2', 'SYDE1', 'CASP9', 'RBSN', 'CCT2', 'PFKFB3', 'ERGIC3', 'FKBP5', 'WDR43', 'LSM6', 'UBE4B', 'ACBD5', 'VAT1', 'RTF2', 'DCTN5', 'FIP1L1', 'SLC25A36', 'IL6ST', 'ECI2', 'ORC6', 'EMD', 'ANKMY2', 'ALAS1', 'SMAD4', 'ELOVL5', 'STK3', 'VPS26A', 'DIAPH2', 'NCOA7', 'ATG4B', 'FLII', 'POGZ', 'ERCC3', 'JUNB', 'CPNE1', 'NAA50', 'TMEM189', 'NANS', 'VPS37B', 'RMDN3', 'TRAP1', 'RAPH1', 'DNAAF2', 'ITPA', 'NEIL3', 'PPP1R14B', 'YTHDF2', 'GEMIN4', 'COPS7B', 'UBL4A', 'GALNT2', 'ZNF428', 'VPS53', 'SETDB1', 'TTC13', 'IFNGR1', 'DENR', 'TIA1', 'LHPP', 'ATXN10', 'SCLY', 'WDR73', 'IPO5', 'HIKESHI', 'ALDH1A3', 'SOGA1', 'EIF4EBP2', 'NAMPT', 'LPCAT1', 'DERA', 'MRM1', 'BRIX1', 'RFC1', 'DDX24', 'EDC3', 'NLRP2', 'RPL17', 'TMX1', 'NELFE', 'MRPL37', 'CDC7', 'EXOC1', 'RPS6KB1', 'MICU2', 'SNAP47', 'MARK2', 'GLRX', 'METTL2B', 'NDUFA2', 'DBN1', 'TPD52', 'DCTN3', 'HAX1', 'LHFPL2', 'SCCPDH', 'AHCYL1', 'NKAP', 'LRRC8A', 'DCTPP1', 'PTGES', 'UMAD1', 'DHODH', 'LONP2', 'FRYL', 'MAPKAPK2', 'TXNL4A', 'USP24', 'MPP6', 'TMEM109', 'PGAM1', 'LMTK2', 'BRAP', 'STARD7', 'RAB5A', 'WASF2', 'NDUFA12', 'ERCC1', 'FBXO30', 'POLG', 'STAM2', 'ANKRD16', 'NUAK2', 'TRIP6', 'MZT1', 'LDLR', 'HSPA4L', 'SNX33', 'KIF22', 'NECAP1', 'DLGAP5', 'XYLB', 'TTC4', 'EPHB4', 'RBM3', 'BPNT1', 'QSER1', 'TAF5', 'PPAT', 'CDCA7L', 'ABCC3', 'ARL3', 'NOL11', 'PPP1R13L', 'SARS2', 'MRPL15', 'AXL', 'KPNA1', 'MCM7', 'PLS1', 'UTP11', 'ZNF444', 'TBC1D9B', 'HEATR1', 'RAD21', 'SP3', 'STK25', 'GMFB', 'HAGH', 'ARRB2', 'ANKHD1', 'MTSS2', 'TNRC6B', 'ATXN2', 'CUL2', 'PSMB3', 'TOM1', 'PGK1', 'AKAP12', 'WDR92', 'NR2C2', 'PRORP', 'CASC4', 'SDHC', 'MT-CO3', 'PAFAH1B3', 'PGRMC2', 'POLB', 'RPRD2', 'MT-ND2', 'COA4', 'BRAF', 'EAPP', 'PFKM', 'CDC42BPA', 'MAP2K2', 'BIRC2', 'CFL1', 'GOT2', 'ATM', 'NDUFS6', 'IARS2', 'GNAQ', 'FERMT1', 'TAF7', 'NME6', 'UBAC2', 'ALDH6A1', 'USP9X', 'CDC34', 'ADAM17', 'SEC23IP', 'CHM', 'PDXK', 'ARFIP1', 'FAM174A', 'UPRT', 'ALDH5A1', 'CAST', 'PTGFRN', 'RAD50', 'HMGN2', 'GFPT2', 'CDC37', 'STXBP2', 'NUDT18', 'ITFG1', 'COQ6', 'NUDT3', 'ARL1', 'MTA3', 'NUP210', 'RPL9', 'C8orf82', 'NSA2', 'TIMELESS', 'EIF3D', 'ATP5MG', 'RBBP7', 'DROSHA', 'RERE', 'VPS52', 'VAPB', 'ACSL3', 'PCID2', 'MRPS26', 'SMOC1', 'REEP5', 'FOSL2', 'TRAPPC8', 'MRPS17', 'SUMF2', 'RC3H2', 'RO60', 'AGPAT1', 'RBIS', 'EGFR', 'SMG5', 'MRM3', 'RBM12', 'CHID1', 'VPS26B', 'UBA1', 'KBTBD2', 'ZFPL1', 'MYO6', 'SYNPO2', 'INTS6', 'MGMT', 'ATG5', 'TRAF2', 'HAT1', 'TFCP2', 'NDC80', 'DHRS1', 'TLN2', 'ANXA2', 'NT5C2', 'KBTBD4', 'PRC1', 'MGST2', 'MYH10', 'ODC1', 'AMPD2', 'SERBP1', 'PRKAA2', 'PRPF31', 'SULT2B1', 'OCRL', 'TPD52L1', 'BIN1', 'MRPL27', 'IBA57', 'CHD1', 'EMC2', 'TRABD', 'BANF1', 'NGDN', 'ABCG2', 'ZNF622', 'ANKS3', 'CHAF1B', 'MTMR2', 'CNDP2', 'OSGEP', 'NCOA4', 'LNPK', 'UBE2I', 'BICRA', 'DCAF1', 'PDLIM1', 'TRIM47', 'CD59', 'PCBP1', 'NCAPH', 'CGN', 'THNSL1', 'DCTN4', 'TMEM106B', 'SYVN1', 'ARMT1', 'GTF3C5', 'EIF2D', 'PTER', 'MRPL4', 'MAN1B1', 'MORF4L1', 'RBPMS', 'NDUFA5', 'TRAPPC5', 'C9orf40', 'TWISTNB', 'SIRT5', 'TUBB6', 'SOWAHC', 'TOE1', 'APOOL', 'BRD8', 'PMS2', 'TRIP10', 'KIFAP3', 'PTGS2', 'RPL37A', 'SREBF1', 'HSPB1', 'SNX4', 'ELAVL1', 'CARS2', 'ACOT9', 'WDR70', 'MRI1', 'ABCC2', 'HGH1', 'TMEM33', 'DOCK5', 'RC3H1', 'TSNAX', 'LBH', 'MCM4', 'WDR18', 'DOHH', 'TOP1', 'ZFP91', 'RTTN', 'MRPL49', 'TTC9C', 'ACADVL', 'ARL2BP', 'HIGD2A', 'YBX3', 'NOC2L', 'TTI1', 'DHRS3', 'NFAT5', 'NCAPG2', 'GCC1', 'RB1', 'SLC38A1', 'SLC35A4', 'CLUH', 'PSMA3', 'TOM1L1', 'ACAT1', 'SELENOO', 'PBX1', 'AAMDC', 'SPTLC1', 'CTCF', 'LRRC47', 'SLC6A6', 'KMT2D', 'MALL', 'ZMYM4', 'NOC3L', 'KDELR2', 'ACTR1A', 'MTMR1', 'DAZAP1', 'FRG1', 'AFF4', 'MAGED1', 'DDX3X', 'CORO7', 'HDGFL2', 'DNM1L', 'BOD1L1', 'TPRN', 'NMT1', 'SEPTIN2', 'ATP6V0A1', 'PDE4DIP', 'GNG12', 'CDC73', 'EHMT1', 'USP10', 'DCPS', 'XPR1', 'RNF121', 'ACADSB', 'GALNT14', 'RRP36', 'MRPL47', 'BCCIP', 'LYSMD2', 'KPNA4', 'INHBB', 'CHMP1B', 'MYO5A', 'CCT5', 'TRMT10C', 'MAP2K4', 'MRPL46', 'TSPAN15', 'CAPZB', 'KCTD5', 'ARMC9', 'REEP4', 'PAICS', 'LAPTM4A', 'TMEM160', 'ATOX1', 'UQCRC1', 'MRPS27', 'DBI', 'HERC2', 'CWC22', 'CD81', 'PLEKHA5', 'ARFGAP3', 'MT-CYB', 'CAPNS1', 'ATL2', 'RAD17', 'TBC1D10B', 'NDUFAF3', 'ISCU', 'SH3BP4', 'MARS2', 'NPEPL1', 'CELF1', 'ARHGAP12', 'HSBP1', 'LCLAT1', 'UNC119B', 'ABRAXAS1', 'MAGED2', 'TMEM167A', 'NNT', 'PRCC', 'POLR2I', 'ACACA', 'LIG4', 'SYNJ2BP', 'PGLS', 'COMMD5', 'MAP4K3', 'COA6', 'PACSIN3', 'GALC', 'CHMP4C', 'IFT43', 'ALDH3B1', 'RBM4B', 'NEDD1', 'RAI1', 'HDHD5', 'GTF3C3', 'LPCAT3', 'CTBP2', 'CLASRP', 'RPS24', 'KIAA1217', 'NUP62', 'NPM1', 'TRIM9', 'LEMD3', 'XPC', 'CARNMT1', 'CAB39', 'TMEM65', 'KIF20A', 'BCAP29', 'TACO1', 'ELP1', 'WASHC3', 'PHF6', 'COMMD8', 'PSMD8', 'POLR3B', 'PCCB', 'PRKAR1A', 'CCDC137', 'SDF4', 'PPIF', 'RBM20', 'TBK1', 'NFS1', 'MRPL2', 'COMMD3', 'HMGCL', 'SMC5', 'POP1', 'IGF1R', 'C7orf26', 'RIOK2', 'MAP4', 'MRPL19', 'LPXN', 'SLC19A1', 'GFER', 'NOA1', 'AAR2', 'CORO1C', 'NECTIN2', 'CSNK2A2', 'SLC9A1', 'CD38', 'SMC3', 'PARVB', 'AJUBA', 'GPI', 'ANAPC5', 'ZDHHC21', 'SRXN1', 'TCERG1', 'HACL1', 'COPE', 'BLOC1S3', 'RAB6A', 'AIFM2', 'TFB1M', 'BPTF', 'MPG', 'CPEB4', 'ABHD12', 'NDUFS5', 'TAB1', 'TSPAN6', 'CLN6', 'RTF1', 'LACTB2', 'DDX27', 'CLDN1', 'ELOC', 'SYT1', 'SNUPN', 'ARFIP2', 'HNRNPK', 'ACO1', 'NQO2', 'NIT1', 'SRFBP1', 'SENP3', 'PRXL2A', 'RPP30', 'CKAP2', 'GRHPR', 'GTSE1', 'PRKRA', 'SUPV3L1', 'MRPS36', 'MTMR12', 'MAP3K7', 'ARF4', 'SLC9A3R2', 'NDUFS3', 'HPGD', 'HSF1', 'SH3GLB1', 'IRGQ', 'CAMK2G', 'TMBIM1', 'FBL', 'CAVIN1', 'SNX27', 'XPO7', 'MGST1', 'FLOT2', 'GRWD1', 'MRPS5', 'MUL1', 'GSTP1', 'CBR4', 'PNP', 'CCDC12', 'CIAO2A', 'ARHGAP1', 'LYN', 'PTS', 'THOC5', 'IDE', 'GMDS', 'STX5', 'MRPL34', 'GLMN', 'DPY30', 'SLC7A11', 'CEBPB', 'NCL', 'PJA2', 'C8orf33', 'IMP4', 'RPS21', 'CLIC4', 'ENSA', 'UBASH3B', 'ACYP1', 'RPL27', 'TMEM70', 'COQ9', 'PPP6R3', 'CXorf38', 'WDR35', 'IRF3', 'XPO1', 'ATL1', 'NIBAN2', 'NUMA1', 'WFS1', 'KIRREL1', 'LOXL2', 'CUL5', 'EFTUD2', 'TAB2', 'CASC3', 'HAUS5', 'NOL10', 'AHDC1', 'NCAPH2', 'HLCS', 'RNASEL', 'TMEM87B', 'MTG1', 'DPCD', 'PTGES3', 'ZBTB7A', 'MANF', 'WDR12', 'WWC1', 'MSRB3', 'ABI1', 'AP3S1', 'GGH', 'GUF1', 'RNF5', 'NUDT21', 'PSMB4', 'MIA2', 'ALDH1L2', 'DNAJC10', 'IFT88', 'IFT122', 'CDC123', 'FKBP4', 'EGLN1', 'DECR2', 'NUDT8', 'DNAJB11', 'METTL3', 'TNPO1', 'CLASP1', 'SLC25A12', 'INCENP', 'AGL', 'WBP4', 'STUB1', 'GLTP', 'C1GALT1', 'ITPR2', 'MOB1A', 'MZT2A', 'DDX31', 'ECD', 'HSPA2', 'ARHGEF2', 'TSPO', 'TRIM26', 'NOP56', 'DNPH1', 'CCDC47', 'HMMR', 'GMPR2', 'HNF1B', 'NUDT16', 'NCBP3', 'RNASEH2B', 'SHKBP1', 'ETFDH', 'NUBPL', 'FOPNL', 'GSTCD', 'TGFBR2', 'MKLN1', 'SHQ1', 'CMC1', 'SQLE', 'UQCRFS1', 'ARGLU1', 'SSBP1', 'OXR1', 'TRIM5', 'BCAR3', 'EIF4EBP1', 'PSMC6', 'GGA3', 'IGF2BP1', 'ENAH', 'CRTAP', 'YWHAH', 'USP36', 'SRGAP1', 'DUSP14', 'USP15', 'NDUFS2', 'GNB2', 'DDX21', 'SUN1', 'PRPS1', 'AK6', 'JAG1', 'PSME4', 'CHMP3', 'QTRT2', 'UFSP2', 'ALG13', 'TXLNG', 'MSH6', 'PPIB', 'CD2AP', 'GPR180', 'TPRKB', 'PPT1', 'PGAM5', 'ALG6', 'EML2', 'CDCA8', 'SQSTM1', 'ASAP2', 'ERF', 'SEC61B', 'RNF13', 'DLST', 'AHSA1', 'HMGB1', 'SNX5', 'DBNL', 'PAXBP1', 'PLEKHG3', 'TIMM13', 'BCS1L', 'CNOT7', 'PANK2', 'NDUFS1', 'TSR2', 'MYL6B', 'TMTC3', 'TRMT61A', 'STAM', 'HIP1R', 'OGT', 'TMUB2', 'WRN', 'CDK4', 'CLDN2', 'DPH2', 'COA3', 'METTL9', 'RWDD4', 'RSL1D1', 'MRPL24', 'RAP2B', 'RPTOR', 'TAF9', 'ILF2', 'NAP1L4', 'GOLT1B', 'UBXN2A', 'NAT1', 'GUSB', 'MED21', 'TRAPPC6A', 'KIFC3', 'PDCD4', 'PSMG1', 'PHLDA3', 'ANGEL2', 'DHX32', 'FBXO6', 'CASP8', 'SAFB2', 'FAF1', 'FBXO2', 'NDUFA7', 'GNE', 'DCUN1D1', 'API5', 'CASP7', 'COQ3', 'SNAP23', 'ILK', 'ACP1', 'CKS2', 'IFRD2', 'NIPSNAP1', 'CTPS2', 'EPS15', 'MRPS9', 'SNRPF', 'CNOT1', 'HM13', 'CPD', 'MORC4', 'DIPK1A', 'SGTB', 'HID1', 'LSM14A', 'MUC13', 'PSME3', 'RMI2', 'DHX29', 'CDC16', 'OAS3', 'USP3', 'ATN1', 'CDC20', 'CNPY2', 'NDUFA4', 'INTS14', 'COMMD4', 'SUCLG1', 'DNAJC11', 'SMYD5', 'SLC35A2', 'RAB7A', 'PPP1R2', 'IPO11', 'LXN', 'DUS1L', 'BRD2', 'CRYZ', 'SDF2', 'AGTPBP1', 'DHPS', 'CDK2AP1', 'SPCS2', 'UBR7', 'BSG', 'RAB27B', 'OXSR1', 'PFKP', 'IFT20', 'SPATS2L', 'NUDT5', 'KIF2C', 'TP53BP2', 'GGACT', 'C12orf29', 'RBM42', 'NOL6', 'AP1G2', 'LRWD1', 'NSF', 'UCHL5', 'ITGAV', 'CDK5', 'SART3', 'NUBP1', 'ATIC', 'IVD', 'ALG11', 'MTHFD1', 'UGP2', 'LRRC20', 'MT-CO1', 'PAPOLA', 'NDC1', 'MAP1B', 'LETM1', 'F2', 'MTRR', 'ESF1', 'RPL22', 'ELMO1', 'OXA1L', 'NR0B1', 'PGD', 'VAV2', 'CDK9', 'PCBD1', 'TIMMDC1', 'INTS2', 'AP1S2', 'COX7A2', 'PIK3R4', 'PRPF19', 'WAPL', 'LIMD1', 'COPB1', 'AP3M1', 'PSMB2', 'MPI', 'ZNHIT6', 'EIF2S2', 'EIF3B', 'KIF23', 'TMX2', 'NAXE', 'NOL8', 'FEZ2', 'YJU2', 'UBE2H', 'MRPL17', 'SMARCC1', 'PKP2', 'PPCDC', 'YEATS2', 'ATP1A1', 'PSMB6', 'PPP1R21', 'URB1', 'RAB5C', 'RXRA', 'ORC5', 'CREB1', 'PTGR1', 'CTU2', 'PTPN6', 'SAP30BP', 'PPIH', 'ABCB10', 'IRF2BPL', 'GBF1', 'CLMN', 'SAR1A', 'OPTN', 'PLCB3', 'RPL7', 'SCD', 'S100P', 'DNPEP', 'VPS13A', 'ZFC3H1', 'FBXO7', 'GLS', 'EEA1', 'MEPCE', 'PPFIA1', 'MTMR14', 'MLX', 'TRMT2B', 'VPS39', 'RBMX2', 'HK1', 'SVIL', 'C18orf25', 'COPB2', 'TMEM164', 'CADM1', 'CTR9', 'RPRD1B', 'SRP19', 'SMN1', 'CIAO1', 'MRPL30', 'DTWD1', 'S100A13', 'CACTIN', 'RPL28', 'WWTR1', 'ELAC2', 'MYCBP', 'TCOF1', 'RCN1', 'TKFC', 'EBNA1BP2', 'SF3B3', 'RPS5', 'TPM1', 'ELP2', 'PPP3CA', 'FARS2', 'DOLPP1', 'COPG2', 'DDB2', 'CDH17', 'ARV1', 'EPDR1', 'RFX1', 'DNAJC1', 'CLPB', 'COX8A', 'SBNO1', 'HPS3', 'LRPPRC', 'RIC8B', 'NDUFB5', 'ATP13A1', 'UBXN1', 'PNO1', 'CLU', 'DTD1', 'ARL6IP1', 'PIGS', 'NUP88', 'ACSS2', 'PITPNA', 'GHITM', 'RPL5', 'YWHAZ', 'TK1', 'RHOT1', 'ETHE1', 'C12orf57', 'DPM3', 'UQCRH', 'ATP5MPL', 'RNGTT', 'BCAR1', 'HABP4', 'RCOR1', 'RUFY1', 'GIT2', 'HAUS1', 'TIGAR', 'NDUFB3', 'ROMO1', 'VWA8', 'CPSF1', 'BET1', 'TEAD1', 'HERC1', 'ZNF768', 'GKAP1', 'PAK2', 'HS2ST1', 'TRAFD1', 'KCTD9', 'CDC40', 'CTBP1', 'HDHD3', 'PRPF39', 'CCAR1', 'SLC38A2', 'C11orf54', 'DAGLB', 'NDUFA3', 'CRYBG3', 'TXNRD1', 'DUS2', 'NDUFAF5', 'TMSB10', 'VBP1', 'PSAT1', 'SLC25A5', 'PEA15', 'RPUSD3', 'SUPT5H', 'SRSF11', 'P4HA2', 'IER3IP1', 'RRP7A', 'NOL9', 'FPGS', 'MGAT5', 'EXOC6', 'ACSF3', 'GM2A', 'ACSM3', 'YWHAQ', 'BCAM', 'TOR1A', 'SAMM50', 'CALU', 'ACAP2', 'MTDH', 'CCNB1', 'KLC2', 'ACOX1', 'SLC4A7', 'CCDC125', 'CAP1', 'CCM2', 'SSR3', 'MRPL23', 'DHX57', 'BRK1', 'COPS8', 'TARS2', 'HTATIP2', 'UBP1', 'CPVL', 'RPL35A', 'NCDN', 'B9D2', 'DCXR', 'PARP14', 'GLRX3', 'KHDRBS1', 'IDH3G', 'MRPS28', 'GPALPP1', 'NDUFS7', 'MT-ND1', 'PHPT1', 'SUPT6H', 'CHMP2A', 'TMEM97', 'FHOD1', 'RPS19', 'ANXA5', 'TTF2', 'TXNL1', 'MIPEP', 'GIPC1', 'PPP1R9A', 'CAPN2', 'DDOST', 'TUBAL3', 'ARHGAP17', 'RUVBL1', 'ACO2', 'TSPYL1', 'PSMB8', 'PWP1', 'CNOT4', 'FAM114A2', 'BICC1', 'HMOX1', 'PTPA', 'FNTA', 'WDR44', 'BCL2L1', 'VPS25', 'STRIP1', 'PRAME', 'LAGE3', 'ARHGEF40', 'DHTKD1', 'PFAS', 'TXNDC15', 'PAFAH1B1', 'C11orf68', 'CHCHD1', 'ERI3', 'CLEC16A', 'RPL13A', 'FAM83H', 'HPRT1', 'ARPC5L', 'UBE2A', 'CSGALNACT1', 'B4GALT4', 'AP1G1', 'MYO18A', 'NRBP1', 'NOB1', 'RPL4', 'MOCS2', 'WNK1', 'TMEM43', 'F8A1', 'RNF2', 'DOCK1', 'PLEC', 'RPS6KA3', 'MRPL38', 'FUBP1', 'TRMT6', 'CTSA', 'KMT2A', 'TRIR', 'RNF138', 'ZC3H15', 'BLVRB', 'RELB', 'C9orf16', 'MICAL1', 'RAP1GDS1', 'RECQL5', 'MTX1', 'CBL', 'ARHGEF1', 'ARPIN', 'MVB12A', 'FIS1', 'PIK3R1', 'TMF1', 'MRPL9', 'ANTXR1', 'NDUFAF2', 'SUMO1', 'MLPH', 'RHCG', 'TMED4', 'NT5DC3', 'DNAJC8', 'RAB12', 'EPB41L2', 'EXOSC4', 'SNRPD1', 'DLG1', 'FITM2', 'NME4', 'PPIA', 'YKT6', 'RICTOR', 'FGF2', 'KDM4B', 'FANCL', 'POLD2', 'RBM6', 'SCYL1', 'TGFBI', 'UBAP2L', 'SPRYD7', 'SFXN4', 'EIF6', 'HMGCS1', 'CEP78', 'DKK1', 'STAG1', 'FAM3C', 'C1RL', 'CLPX', 'FKBP9', 'ZFYVE16', 'FBXL18', 'LMF2', 'CEP41', 'IMPA1', 'ITM2C', 'EIF2B5', 'RPRD1A', 'ATXN2L', 'SWAP70', 'YIF1B', 'CPNE2', 'OARD1', 'PIGT', 'TAOK1', 'DBT', 'USP19', 'INPP5F', 'C9orf64', 'EIF1', 'CYB5R1', 'CAMKMT', 'SRP68', 'RAD18', 'ALG3', 'MAEA', 'BRAT1', 'NXF1', 'AHNAK2', 'NBEAL2', 'ASS1', 'GDI2', 'HDAC1', 'FBXO28', 'FGD6', 'PRMT5', 'EIF4B', 'ELP5', 'GSR', 'ILKAP', 'TUBA1B', 'SHMT2', 'YIPF6', 'HSPB8', 'PHF3', 'USP34', 'STRN4', 'DNAJC3', 'FUT8', 'TPR', 'PISD', 'KIF3B', 'SLC23A2', 'USP28', 'PYCARD', 'FUBP3', 'RPL7A', 'MTMR10', 'PRDX6', 'ASL', 'UTP4', 'ZWILCH', 'CFAP20', 'ARFGAP1', 'SAMD11', 'CAV1', 'DMAP1', 'FANCA', 'SCP2', 'PCDH9', 'KDM5A', 'UBA5', 'PTRHD1', 'LSM8', 'RWDD1', 'VKORC1L1', 'EMG1', 'NCOR1', 'PARD3', 'RANBP9', 'HTATSF1', 'SCAMP1', 'EPB41', 'PTPRK', 'MEF2D', 'PRKACA', 'SPATA5L1', 'BPGM', 'PTDSS2', 'ASB9', 'OCIAD2', 'DDX42', 'EHBP1L1', 'UBR5', 'EYA4', 'SDSL', 'AKAP11', 'NAA25', 'GLT8D1', 'SH3KBP1', 'ACTR2', 'RXRB', 'PURA', 'EIF5B', 'SCYL2', 'RILPL1', 'TIMM21', 'GPC6', 'TCP11L1', 'TTC38', 'ACAD9', 'DDX55', 'RAB1A', 'MTM1', 'ACOT13', 'POLR1C', 'HPS6', 'PABPC4', 'SLC15A4', 'PCCA', 'GOLGB1', 'PRPF3', 'LANCL2', 'TOP2B', 'PARP16', 'RBM14', 'UPF1', 'UBQLN1', 'MAGI1', 'PTPRF', 'ADH5', 'PRKAB1', 'GPKOW', 'EIF4A2', 'SNX8', 'MYO1E', 'NDUFB11', 'IMPAD1', 'KDELR3', 'RPS7', 'SLC39A1', 'RFC2', 'EEF2K', 'ASH2L', 'KIF13B', 'GTF3C2', 'FASTKD2', 'STAT2', 'PARD6B', 'DNM2', 'RNF169', 'AMZ2', 'SDC1', 'GRB2', 'NRF1', 'SUGP2', 'ARHGEF18', 'DKC1', 'SFPQ', 'FLVCR2', 'ATPAF2', 'NFU1', 'NDUFB7', 'TPM2', 'SPATA5', 'ARMC1', 'B2M', 'MARCKSL1', 'EMC10', 'ABCF1', 'MESD', 'STIP1', 'SEC23A', 'DLGAP4', 'FXR1', 'MRPL20', 'RBM28', 'AMDHD2', 'APBB1', 'ALAD', 'RBMX', 'C1orf122', 'OAT', 'DCTN2', 'UBE2C', 'MTHFD2', 'PDZD11', 'GPBP1', 'CUEDC1', 'RAE1', 'ITPKC', 'KIF11', 'KIF15', 'SNAP29', 'HADH', 'WBP2', 'FBXO3', 'PPFIBP1', 'GAK', 'RAB9A', 'MED20', 'GNPNAT1', 'ANP32E', 'ABCB8', 'DSCC1', 'RAB11FIP5', 'TRA2A', 'NR3C1', 'NDUFB1', 'CRADD', 'KTN1', 'GLE1', 'SPAG9', 'RCL1', 'NT5C3A', 'SERPINB8', 'CHPT1', 'NUP43', 'ATP1B1', 'TMED9', 'ACTL6A', 'ESYT1', 'POGLUT1', 'GGCX', 'GJA1', 'TAF8', 'GAR1', 'LSM12', 'CCNDBP1', 'NUP133', 'IGFBP3', 'NHLRC2', 'FBXO45', 'SSRP1', 'CMTM3', 'ALDH2', 'MRPL43', 'RAD23A', 'DIDO1', 'CCPG1', 'SPCS3', 'EIF2A', 'LAMP1', 'GPATCH8', 'GPR107', 'EPM2AIP1', 'PTPN23', 'CCDC59', 'PUS1', 'RNASET2', 'SET', 'PTAR1', 'ANXA6', 'TIMM8B', 'METTL16', 'ERP29', 'CENPC', 'TMEM123', 'GTPBP1', 'AACS', 'MTPAP', 'DOCK10', 'ABHD6', 'COA1', 'PDIA6', 'NOL4L', 'STX16', 'TRAPPC2L', 'ARHGEF7', 'CRK', 'MRPL21', 'TACC2', 'DDX39B', 'UNK', 'CAMLG', 'NUP42', 'SLC33A1', 'ERC1', 'IDH3B', 'RPS10', 'CTSZ', 'HSP90AA1', 'PSMB7', 'TLCD4', 'PCK2', 'GTF2H1', 'STAT6', 'CYP2S1', 'PRDX1', 'MMACHC', 'PTCD3', 'AARS2', 'SFR1', 'AUP1', 'CENPB', 'MGLL', 'MAN1A2', 'LIN7C', 'CKS1B', 'ITGA6', 'MSTO1', 'TJAP1', 'MRPL48', 'RAB3D', 'CAPZA2', 'ADGRG1', 'CTDP1', 'ZNF280C', 'PARG', 'TRNT1', 'BLVRA', 'SYNGR2', 'UQCR10', 'HEATR5A', 'BAX', 'SETX', 'SRSF3', 'C6orf120', 'IRF2BP1', 'LLPH', 'FMNL1', 'TUBGCP3', 'LAMTOR5', 'PPIL3', 'EMC7', 'NDUFB9', 'TXNDC12', 'TLN1', 'PLPP3', 'KCMF1', 'SAP130', 'RBBP5', 'RILPL2', 'CADM4', 'SARNP', 'SLC16A1', 'ZYX', 'SMS', 'DRG2', 'STK32C', 'DENND1A', 'LAMC1', 'MCCC2', 'ARPP19', 'AKT2', 'AGAP3', 'SAMD4B', 'FEN1', 'KRI1', 'SLC4A2', 'CDC27', 'BCR', 'TGFB1I1', 'PPP4R2', 'ZCCHC3', 'ALG2', 'PPP3R1', 'METTL7B', 'SHB', 'LRP8', 'ARAP3', 'PLD1', 'TLE5', 'TCF20', 'PROSER2', 'ETNK1', 'ATP2A2', 'TIPIN', 'TAPBP', 'MTCH2', 'LRRC40', 'VTI1A', 'RAB11FIP1', 'CTSB', 'CALCOCO2', 'CDS2', 'MTMR9', 'UTP23', 'MRPL10', 'MACO1', 'NEMF', 'FAM20B', 'POP7', 'RECQL', 'RPL30', 'MAD2L1', 'CASP3', 'AFG3L2', 'CCDC86', 'GOT1', 'RBX1', 'EIF4G1', 'ETFB', 'RPL12', 'SUPT16H', 'NMRAL1', 'CRNKL1', 'OCIAD1', 'PAPPA', 'CMSS1', 'HECTD1', 'MARVELD1', 'RMND5A', 'LACTB', 'RBM15B', 'XRCC6', 'RIOX1', 'PRPSAP2', 'PTGR2', 'STRAP', 'SNAP25', 'MRPL3', 'SNRPD3', 'PATL1', 'NHP2', 'STXBP4', 'RAMAC', 'WDR81', 'CHCHD6', 'TAF2', 'LIG3', 'HELLS', 'PPIP5K2', 'VDAC1', 'NUDC', 'TNKS1BP1', 'PRRC1', 'SYNJ2', 'EPN1', 'DTX2', 'BIRC6', 'UHRF2', 'JAGN1', 'ZFHX3', 'NLE1', 'SLC30A1', 'RAB8B', 'TBC1D5', 'AKR7A2', 'CCDC150', 'TRIM25', 'SHC1', 'CDC42', 'TRUB1', 'CYLD', 'EPHX2', 'CCDC93', 'RTRAF', 'ARIH1', 'NEK9', 'SKP1', 'JPT1', 'ALDH16A1', 'RPUSD4', 'CUTC', 'LSM2', 'PCBD2', 'TASOR', 'NIP7', 'TCP1', 'CBFB', 'CYFIP2', 'ARHGEF11', 'RTN4IP1', 'EMC8', 'RPL35', 'RNPEP', 'SHOC2', 'RALA', 'MSH2', 'DDI2', 'RPF2', 'TWF1', 'RPS28', 'RPS20', 'DMTN', 'PSMC1', 'FAM241A', 'GNAS', 'IGBP1', 'PPIL4', 'ECH1', 'ZYG11B', 'DHRS7', 'UEVLD', 'PBK', 'IST1', 'GOSR1', 'PTPN14', 'CARHSP1', 'POMK', 'SP1', 'TOLLIP', 'YAP1', 'PDHX', 'PTK2', 'CIP2A', 'C2CD3', 'NACA', 'STXBP1', 'DNAJA3', 'CAT', 'CHAF1A', 'CHD2', 'LPIN1', 'ATP6V1F', 'RPS19BP1', 'UBE2R2', 'MSMO1', 'RMDN1', 'ACAD10', 'ZNF217', 'UBQLN2', 'TIPRL', 'TMUB1', 'CDKN2AIPNL', 'RPL3', 'CA8', 'AIMP2', 'CDC25B', 'THAP11', 'SNRPC', 'FAM83D', 'ARHGEF12', 'CLTA', 'VIL1', 'ARMC10', 'NDRG1', 'AGPAT5', 'SLC39A14', 'PCMT1', 'ID1', 'COMT', 'NPM3', 'MTFP1', 'TMEM201', 'INTS7', 'HSPA13', 'WDR74', 'UTP18', 'PYCR1', 'PDSS2', 'PDE1C', 'CCT4', 'SNX17', 'RBM15', 'TRAM2', 'EPB41L1', 'FBXO38', 'CA2', 'DNAJC7', 'SPCS1', 'TRIM16', 'PSMC3', 'CEP72', 'CKAP4', 'TTF1', 'TBC1D23', 'PHKA1', 'DIP2B', 'LNPEP', 'NUCB1', 'GAMT', 'NDUFA8', 'COMMD9', 'COX20', 'YY1', 'UXT', 'CS', 'SEC11C', 'CRYZL1', 'ANKRD28', 'CYP24A1', 'ZNHIT2', 'MON2', 'PTMA', 'RFX5', 'CDKN1B', 'MYOF', 'RALBP1', 'ANKLE2', 'URM1', 'MYL6', 'SLC25A10', 'UBAP2', 'MYLK', 'MRPS7', 'GFPT1', 'SCOC', 'UBE3A', 'STAMBP', 'RB1CC1', 'TBRG4', 'GALT', 'BCKDK', 'NSMCE4A', 'PNKD', 'TGOLN2', 'TPP2', 'PAK1', 'SDHA', 'AUH', 'SPTY2D1', 'ADRM1', 'BTF3', 'PARK7', 'NFX1', 'ARMC8', 'SNRNP40', 'CISD1', 'PLCG2', 'MED16', 'RPLP1', 'UBE3B', 'HBS1L', 'SDHAF4', 'DHRS4', 'PSMD12', 'UBR4', 'MRPS14', 'ZFYVE1', 'FAM114A1', 'DCP1A', 'PDIA4', 'RAB8A', 'CD63', 'TYSND1', 'CDK13', 'AKAP10', 'TPX2', 'ANKRD52', 'GSTO1', 'AKAP9', 'TRIM3', 'DOCK9', 'POLR1D', 'XPO5', 'ALDH3A2', 'MRPS10', 'NASP', 'MAP7D1', 'PUS7', 'ATP6V1E1', 'GPAT4', 'MED29', 'CYP4F11', 'FYTTD1', 'QDPR', 'YEATS4', 'ERN1', 'TBC1D4', 'SUFU', 'TMEM258', 'MDN1', 'APRT', 'RNF123', 'SYNM', 'FAM207A', 'GOLGA5', 'TUBA4A', 'LSM3', 'UXS1', 'RBP4', 'LPGAT1', 'UCK2', 'DCP1B', 'RMC1', 'SERPINB1', 'HEBP2', 'TTC5', 'EPS8L3', 'PRIM1', 'CYP51A1', 'MYCBP2', 'ISY1', 'RIOX2', 'S100A11', 'LEMD2', 'PYCR2', 'SPART', 'ECE1', 'WDR75', 'POLR2A', 'PPAN', 'FMR1', 'PELO', 'CCNT1', 'DDAH2', 'AP2M1', 'TMEM132A', 'NLN', 'ANKS1A', 'IDH1', 'SF3B1', 'MRPS34', 'VPS36', 'ARL2', 'TUT7', 'RANBP6', 'NAT10', 'UBE2S', 'CRIP2', 'ELOB', 'CDC5L', 'TOR1AIP2', 'CNOT2', 'GPAT3', 'HSPG2', 'AGA', 'HTT', 'FANCI', 'POM121C', 'HSD17B11', 'MORC2', 'CWC15', 'TATDN1', 'KPNA2', 'SRRT', 'ELMOD2', 'HAUS4', 'FAM210A', 'FDXR', 'DGKZ', 'CYTH2', 'NCLN', 'POLR1A', 'NEDD8', 'SLC9A6', 'MRPL50', 'ACSS1', 'VCAN', 'ORMDL2', 'TELO2', 'RNF113A', 'EXOC8', 'TIMM9', 'DPH7', 'VPS4A', 'NDUFA11', 'PARP9', 'CWC27', 'ARPC1A', 'FLOT1', 'PLD2', 'YARS2', 'CDC42EP4', 'TNS3', 'EIF4E', 'PEX11B', 'MRPS16', 'NBAS', 'UBR3', 'AKAP8', 'PEF1', 'ARF6', 'FXN', 'CNOT10', 'UBE2Z', 'ZBTB11', 'CFDP1', 'TUBGCP6', 'NEK3', 'LRRC8D', 'HSD17B10', 'HJURP', 'C15orf40', 'PBXIP1', 'DMAC1', 'HOOK3', 'UROD', 'STX2', 'PRNP', 'LRCH3', 'NFIL3', 'TMEM168', 'C10orf88', 'SPECC1L', 'HRAS', 'FDX1', 'NT5DC1', 'RBM25', 'SFN', 'DHX8', 'SART1', 'NOP14', 'SEPTIN11', 'HUWE1', 'SUN2', 'TRAPPC4', 'NRDE2', 'TBL2', 'CKB', 'EIPR1', 'NUP85', 'DCK', 'IMPDH2', 'MARCKS', 'RBBP4', 'C5orf24', 'MTR', 'GTPBP4', 'TES', 'MSI2', 'PBRM1', 'C20orf27', 'EXOC5', 'MOGS', 'CEP97', 'PLOD3', 'OSTF1', 'MELTF', 'ERLIN1', 'CYBA', 'TSPYL5', 'TBC1D22B', 'RPUSD2', 'NUP214', 'ARCN1', 'ATP5F1A', 'WASHC2A', 'SLC22A3', 'CCDC7', 'SLC7A7', 'ATP5F1B', 'MIF4GD', 'SNRNP70', 'HYOU1', 'NOP58', 'ACADS', 'EIF4G3', 'HSPD1', 'UIMC1', 'ALDH1B1', 'NBN', 'WTAP', 'SMPD1', 'FSCN1', 'MAFK', 'HSDL2', 'ST13', 'PADI2', 'SUPT7L', 'TMED3', 'EIF2B3', 'CCDC115', 'EXOSC5', 'GRAMD1A', 'NUDCD3', 'NTRK3', 'ESCO2', 'SYNCRIP', 'EIF3I', 'SF3A3', 'ALPK1', 'TCEAL3', 'ALDH18A1', 'TUBB2A', 'COPS4', 'PLCD3', 'EPHB2', 'DNMT1', 'ELF3', 'JUP', 'RAB3GAP1', 'MRPS23', 'ARID1B', 'CLIP2', 'SEZ6L2', 'MDH1', 'AKR1C2', 'CDV3', 'TOMM34', 'PRAG1', 'GALNT10', 'CNN2', 'EIF3A', 'TNIP1', 'PPP1R12A', 'PSME2', 'SURF6', 'COLGALT1', 'NUP107', 'BLOC1S5', 'DHX16', 'QSOX2', 'FKBP1A', 'AP2S1', 'UCHL1', 'ACADM', 'ATPAF1', 'TBC1D10A', 'URGCP', 'PIR', 'ITM2B', 'GTF2E2', 'PTPRA', 'HMOX2', 'ZFAND2B', 'SSH3', 'ZNF609', 'MAX', 'SPG21', 'PHKB', 'PHF14', 'ISG20', 'VGF', 'FAM107B', 'FAM120B', 'TACC1', 'RPS6KA1', 'TIMM22', 'RSF1', 'AGK', 'MPHOSPH10', 'SLC5A6', 'HNRNPLL', 'ROCK1', 'AK2', 'TM9SF3', 'PSAP', 'HACD2', 'LBR', 'CETN2', 'SRSF2', 'HDAC4', 'MAP3K2', 'DLG5', 'POLD3', 'BCL2L2', 'FAT1', 'ITGA5', 'GTF2F2', 'LRRC59', 'IQGAP1', 'PLRG1', 'CHMP4A', 'S100A6', 'ATP6AP2', 'EMP3', 'RALB', 'CFL2', 'SPDL1', 'STK4', 'TMLHE', 'SRP54', 'MICAL2', 'STX8', 'TOR3A', 'ARL6IP5', 'MANBAL', 'TRIM28', 'SUOX', 'UBE2Q1', 'SUMO2', 'MEAF6', 'POLR2C', 'PMPCB', 'MPHOSPH8', 'BASP1', 'RRP1B', 'CHDH', 'AGPAT3', 'FMC1', 'BMI1', 'TCEA1', 'RHOF', 'WDR33', 'WDR3', 'CLDND1', 'MAP7D2', 'PRKCI', 'ABL1', 'DDRGK1', 'SLC25A1', 'NDUFA13'))"
      ]
     },
     "execution_count": 216,
     "metadata": {},
     "output_type": "execute_result"
    }
   ],
   "source": [
    "G.nodes()"
   ]
  },
  {
   "cell_type": "code",
   "execution_count": 218,
   "id": "a3600525-da67-4181-b90c-95419716f39d",
   "metadata": {
    "tags": []
   },
   "outputs": [
    {
     "data": {
      "text/plain": [
       "['HABP4', 'XRN2', 'CCDC124', 'TTC37', 'MTREX', 'GCN1']"
      ]
     },
     "execution_count": 218,
     "metadata": {},
     "output_type": "execute_result"
    }
   ],
   "source": [
    "list(nx.k_shell(G, k = 111).nodes)"
   ]
  },
  {
   "cell_type": "code",
   "execution_count": null,
   "id": "f8e0d2d1-6344-4070-9e7a-dfb5c20cbee9",
   "metadata": {
    "tags": []
   },
   "outputs": [],
   "source": [
    "k_shell_dec = {}\n",
    "for k in np.arange(112):\n",
    "    k_shell_dec[k] = list(nx.k_shell(G, k = k).nodes)"
   ]
  },
  {
   "cell_type": "code",
   "execution_count": 225,
   "id": "9f12cc40-7c31-49f8-9781-069a4f972a2d",
   "metadata": {},
   "outputs": [
    {
     "data": {
      "text/plain": [
       "dict_keys([0, 1, 2, 3, 4, 5, 6, 7, 8, 9, 10, 11, 12, 13, 14, 15, 16, 17, 18, 19, 20, 21, 22, 23, 24, 25, 26, 27, 28, 29, 30, 31, 32, 33, 34, 35, 36, 37, 38, 39, 40, 41, 42, 43, 44, 45, 46, 47, 48, 49, 50, 51, 52, 53, 54, 55, 56, 57, 58, 59, 60, 61, 62, 63, 64, 65, 66, 67, 68, 69, 70, 71, 72, 73, 74, 75, 76, 77, 78, 79, 80, 81, 82, 83, 84, 85, 86, 87, 88, 89, 90, 91, 92, 93, 94, 95, 96, 97, 98, 99, 100, 101, 102, 103, 104, 105, 106, 107, 108, 109, 110, 111])"
      ]
     },
     "execution_count": 225,
     "metadata": {},
     "output_type": "execute_result"
    }
   ],
   "source": [
    "k_shell_dec.keys()"
   ]
  },
  {
   "cell_type": "code",
   "execution_count": 260,
   "id": "f19c0eb9-2787-4c79-a168-26b16b0cb54c",
   "metadata": {
    "tags": []
   },
   "outputs": [],
   "source": [
    "positive_coreness_scores = []\n",
    "for gene in pos_names:\n",
    "    for key in k_shell_dec:\n",
    "        if gene in k_shell_dec[key]:\n",
    "            positive_coreness_scores.append(key)\n",
    "            break\n",
    "        "
   ]
  },
  {
   "cell_type": "code",
   "execution_count": 262,
   "id": "86117465-da3b-48a0-b0c0-a8855a30b6e7",
   "metadata": {},
   "outputs": [
    {
     "data": {
      "text/plain": [
       "316"
      ]
     },
     "execution_count": 262,
     "metadata": {},
     "output_type": "execute_result"
    }
   ],
   "source": [
    "len(positive_coreness_scores)"
   ]
  },
  {
   "cell_type": "code",
   "execution_count": 270,
   "id": "156c6d65-65a3-47a9-8f3e-70aa0d34bb7c",
   "metadata": {},
   "outputs": [
    {
     "data": {
      "text/plain": [
       "37.31645569620253"
      ]
     },
     "execution_count": 270,
     "metadata": {},
     "output_type": "execute_result"
    }
   ],
   "source": [
    "np.mean(positive_coreness_scores)"
   ]
  },
  {
   "cell_type": "code",
   "execution_count": 282,
   "id": "7d2a4acb-c1dd-4877-8ae9-9da8a22f365a",
   "metadata": {},
   "outputs": [
    {
     "data": {
      "image/png": "[encoded data removed]",
      "text/plain": [
       "<Figure size 576x432 with 1 Axes>"
      ]
     },
     "metadata": {},
     "output_type": "display_data"
    }
   ],
   "source": [
    "plt.figure(figsize=(8,6))\n",
    "n, bins, patches = plt.hist(positive_coreness_scores, 50, facecolor='g', alpha=0.75)\n",
    "plt.xlabel('Smarts')\n",
    "plt.ylabel('K')\n",
    "plt.title('Histogram of Positive Coreness Score')\n",
    "plt.xlim(0, 120)\n",
    "plt.grid(True)\n",
    "plt.show()"
   ]
  },
  {
   "cell_type": "code",
   "execution_count": 263,
   "id": "24621311-4cc1-43f2-a881-35bb9ddb62ff",
   "metadata": {},
   "outputs": [],
   "source": [
    "negative_coreness_scores = []\n",
    "for gene in neg_names:\n",
    "    for key in k_shell_dec:\n",
    "        if gene in k_shell_dec[key]:\n",
    "            negative_coreness_scores.append(key)\n",
    "            break"
   ]
  },
  {
   "cell_type": "code",
   "execution_count": 264,
   "id": "35b7faed-5f1f-481e-82c2-e83c4519f9d8",
   "metadata": {},
   "outputs": [
    {
     "data": {
      "text/plain": [
       "937"
      ]
     },
     "execution_count": 264,
     "metadata": {},
     "output_type": "execute_result"
    }
   ],
   "source": [
    "len(negative_coreness_scores)"
   ]
  },
  {
   "cell_type": "code",
   "execution_count": 271,
   "id": "3d1a504f-c26d-41da-a4bc-e9e62b9bedbf",
   "metadata": {},
   "outputs": [
    {
     "data": {
      "text/plain": [
       "43.184631803628605"
      ]
     },
     "execution_count": 271,
     "metadata": {},
     "output_type": "execute_result"
    }
   ],
   "source": [
    "np.mean(negative_coreness_scores)"
   ]
  },
  {
   "cell_type": "code",
   "execution_count": 283,
   "id": "a0d88973-cfe2-45f7-90e3-0dbf2b5b7fdd",
   "metadata": {},
   "outputs": [
    {
     "data": {
      "image/png": "[encoded data removed]",
      "text/plain": [
       "<Figure size 576x432 with 1 Axes>"
      ]
     },
     "metadata": {},
     "output_type": "display_data"
    }
   ],
   "source": [
    "plt.figure(figsize=(8,6))\n",
    "n, bins, patches = plt.hist(negative_coreness_scores, 50, facecolor='g', alpha=0.75)\n",
    "plt.xlabel('Smarts')\n",
    "plt.ylabel('K')\n",
    "plt.title('Histogram of Negative Coreness Score')\n",
    "plt.xlim(0, 120)\n",
    "plt.grid(True)\n",
    "plt.show()"
   ]
  },
  {
   "cell_type": "code",
   "execution_count": 4,
   "id": "94cc0de3-3632-4463-9f94-4430d7515c99",
   "metadata": {},
   "outputs": [
    {
     "name": "stderr",
     "output_type": "stream",
     "text": [
      "/home/samuele/.pyenv/versions/3.6.10/envs/jupiter-env/lib/python3.6/site-packages/tensorflow/python/framework/dtypes.py:516: FutureWarning: Passing (type, 1) or '1type' as a synonym of type is deprecated; in a future version of numpy, it will be understood as (type, (1,)) / '(1,)type'.\n",
      "  _np_qint8 = np.dtype([(\"qint8\", np.int8, 1)])\n",
      "/home/samuele/.pyenv/versions/3.6.10/envs/jupiter-env/lib/python3.6/site-packages/tensorflow/python/framework/dtypes.py:517: FutureWarning: Passing (type, 1) or '1type' as a synonym of type is deprecated; in a future version of numpy, it will be understood as (type, (1,)) / '(1,)type'.\n",
      "  _np_quint8 = np.dtype([(\"quint8\", np.uint8, 1)])\n",
      "/home/samuele/.pyenv/versions/3.6.10/envs/jupiter-env/lib/python3.6/site-packages/tensorflow/python/framework/dtypes.py:518: FutureWarning: Passing (type, 1) or '1type' as a synonym of type is deprecated; in a future version of numpy, it will be understood as (type, (1,)) / '(1,)type'.\n",
      "  _np_qint16 = np.dtype([(\"qint16\", np.int16, 1)])\n",
      "/home/samuele/.pyenv/versions/3.6.10/envs/jupiter-env/lib/python3.6/site-packages/tensorflow/python/framework/dtypes.py:519: FutureWarning: Passing (type, 1) or '1type' as a synonym of type is deprecated; in a future version of numpy, it will be understood as (type, (1,)) / '(1,)type'.\n",
      "  _np_quint16 = np.dtype([(\"quint16\", np.uint16, 1)])\n",
      "/home/samuele/.pyenv/versions/3.6.10/envs/jupiter-env/lib/python3.6/site-packages/tensorflow/python/framework/dtypes.py:520: FutureWarning: Passing (type, 1) or '1type' as a synonym of type is deprecated; in a future version of numpy, it will be understood as (type, (1,)) / '(1,)type'.\n",
      "  _np_qint32 = np.dtype([(\"qint32\", np.int32, 1)])\n",
      "/home/samuele/.pyenv/versions/3.6.10/envs/jupiter-env/lib/python3.6/site-packages/tensorflow/python/framework/dtypes.py:525: FutureWarning: Passing (type, 1) or '1type' as a synonym of type is deprecated; in a future version of numpy, it will be understood as (type, (1,)) / '(1,)type'.\n",
      "  np_resource = np.dtype([(\"resource\", np.ubyte, 1)])\n",
      "/home/samuele/.pyenv/versions/3.6.10/envs/jupiter-env/lib/python3.6/site-packages/tensorboard/compat/tensorflow_stub/dtypes.py:541: FutureWarning: Passing (type, 1) or '1type' as a synonym of type is deprecated; in a future version of numpy, it will be understood as (type, (1,)) / '(1,)type'.\n",
      "  _np_qint8 = np.dtype([(\"qint8\", np.int8, 1)])\n",
      "/home/samuele/.pyenv/versions/3.6.10/envs/jupiter-env/lib/python3.6/site-packages/tensorboard/compat/tensorflow_stub/dtypes.py:542: FutureWarning: Passing (type, 1) or '1type' as a synonym of type is deprecated; in a future version of numpy, it will be understood as (type, (1,)) / '(1,)type'.\n",
      "  _np_quint8 = np.dtype([(\"quint8\", np.uint8, 1)])\n",
      "/home/samuele/.pyenv/versions/3.6.10/envs/jupiter-env/lib/python3.6/site-packages/tensorboard/compat/tensorflow_stub/dtypes.py:543: FutureWarning: Passing (type, 1) or '1type' as a synonym of type is deprecated; in a future version of numpy, it will be understood as (type, (1,)) / '(1,)type'.\n",
      "  _np_qint16 = np.dtype([(\"qint16\", np.int16, 1)])\n",
      "/home/samuele/.pyenv/versions/3.6.10/envs/jupiter-env/lib/python3.6/site-packages/tensorboard/compat/tensorflow_stub/dtypes.py:544: FutureWarning: Passing (type, 1) or '1type' as a synonym of type is deprecated; in a future version of numpy, it will be understood as (type, (1,)) / '(1,)type'.\n",
      "  _np_quint16 = np.dtype([(\"quint16\", np.uint16, 1)])\n",
      "/home/samuele/.pyenv/versions/3.6.10/envs/jupiter-env/lib/python3.6/site-packages/tensorboard/compat/tensorflow_stub/dtypes.py:545: FutureWarning: Passing (type, 1) or '1type' as a synonym of type is deprecated; in a future version of numpy, it will be understood as (type, (1,)) / '(1,)type'.\n",
      "  _np_qint32 = np.dtype([(\"qint32\", np.int32, 1)])\n",
      "/home/samuele/.pyenv/versions/3.6.10/envs/jupiter-env/lib/python3.6/site-packages/tensorboard/compat/tensorflow_stub/dtypes.py:550: FutureWarning: Passing (type, 1) or '1type' as a synonym of type is deprecated; in a future version of numpy, it will be understood as (type, (1,)) / '(1,)type'.\n",
      "  np_resource = np.dtype([(\"resource\", np.ubyte, 1)])\n"
     ]
    }
   ],
   "source": [
    "import numpy as np\n",
    "import tensorflow as tf"
   ]
  },
  {
   "cell_type": "code",
   "execution_count": 7,
   "id": "72b4919a-77c2-4eed-a831-12ccd993de31",
   "metadata": {},
   "outputs": [],
   "source": [
    "fasta = \"/home/samuele/courses/data.fasta\""
   ]
  },
  {
   "cell_type": "code",
   "execution_count": 35,
   "id": "34d67e2f-f7c3-403b-a901-429da9e5f674",
   "metadata": {},
   "outputs": [
    {
     "name": "stdout",
     "output_type": "stream",
     "text": [
      "10000\n",
      "19403\n"
     ]
    }
   ],
   "source": [
    "map = {'A': 0, 'C': 1, 'G': 2, 'T': 3}\n",
    "\n",
    "count_positives = 0\n",
    "count_total = 0\n",
    "with open(fasta) as f:\n",
    "    for line in f:\n",
    "        if len(line.strip()) == 2:\n",
    "            count_total += 1\n",
    "            label = int(line.strip()[1])\n",
    "            if label == 1:\n",
    "                count_positives += 1\n",
    "            sequence = f.readline().strip() # it reads the following line\n",
    "            sequence = [map[base] for base in sequence]\n",
    "            sequence = tf.one_hot(sequence, depth=4)\n",
    "            #yield sequence, label\n",
    "            \n",
    "\n",
    "#print(count_positives)\n",
    "#print(count_total)\n",
    "    "
   ]
  },
  {
   "cell_type": "code",
   "execution_count": null,
   "id": "245194ae-3d62-4d08-b7e8-008d8c16b668",
   "metadata": {},
   "outputs": [],
   "source": []
  }
 ],
 "metadata": {
  "kernelspec": {
   "display_name": "Python 3",
   "language": "python",
   "name": "python3"
  },
  "language_info": {
   "codemirror_mode": {
    "name": "ipython",
    "version": 3
   },
   "file_extension": ".py",
   "mimetype": "text/x-python",
   "name": "python",
   "nbconvert_exporter": "python",
   "pygments_lexer": "ipython3",
   "version": "3.6.10"
  }
 },
 "nbformat": 4,
 "nbformat_minor": 5
}
